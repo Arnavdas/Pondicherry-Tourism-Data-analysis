{
  "nbformat": 4,
  "nbformat_minor": 0,
  "metadata": {
    "colab": {
      "name": "Pondi Tourist data preprocessing.ipynb",
      "provenance": [],
      "collapsed_sections": [],
      "include_colab_link": true
    },
    "kernelspec": {
      "name": "python3",
      "display_name": "Python 3"
    }
  },
  "cells": [
    {
      "cell_type": "markdown",
      "metadata": {
        "id": "view-in-github",
        "colab_type": "text"
      },
      "source": [
        "<a href=\"https://colab.research.google.com/github/Arnavdas/Pondicherry-Tourism-Data-analysis/blob/master/Pondi_Tourist_data_preprocessing.ipynb\" target=\"_parent\"><img src=\"https://colab.research.google.com/assets/colab-badge.svg\" alt=\"Open In Colab\"/></a>"
      ]
    },
    {
      "cell_type": "code",
      "metadata": {
        "id": "LKwztdt_hy36",
        "colab_type": "code",
        "colab": {}
      },
      "source": [
        "import xlrd \n",
        "import os\n",
        "import pandas as pd\n",
        "import numpy as np\n",
        "import io\n",
        "\n",
        "#xls = pd.ExcelFile(io.BytesIO(uploaded['Quarter-I,2018-sample - (1).xlsx']))\n",
        "xls = pd.ExcelFile('C:/Users/LENOVO/Desktop/Quarter-I,2018-sample - (1).xlsx')\n",
        "df1 = pd.read_excel(xls, 'WS-Form I')\n",
        "df2 = pd.read_excel(xls, 'Jan18')\n",
        "df3 = pd.read_excel(xls, 'Feb18')"
      ],
      "execution_count": 0,
      "outputs": []
    },
    {
      "cell_type": "code",
      "metadata": {
        "id": "gsCARpmFjunj",
        "colab_type": "code",
        "outputId": "05710a78-bceb-4da3-f60d-9b6ffb193c9c",
        "colab": {
          "base_uri": "https://localhost:8080/",
          "height": 122
        }
      },
      "source": [
        "df1.columns"
      ],
      "execution_count": 0,
      "outputs": [
        {
          "output_type": "execute_result",
          "data": {
            "text/plain": [
              "Index(['Unnamed: 0', 'Name of the Hotels',\n",
              "       'MONTHLY DATA ON NUMBER OF GUESTS CHECKED IN AND THEIR B. N. S.',\n",
              "       'Unnamed: 3', 'Unnamed: 4', 'Unnamed: 5', 'Unnamed: 6', 'Unnamed: 7',\n",
              "       'Unnamed: 8', 'Unnamed: 9', 'Unnamed: 10', 'Unnamed: 11', 'Unnamed: 12',\n",
              "       'Unnamed: 13', 'Unnamed: 14', 'Unnamed: 15'],\n",
              "      dtype='object')"
            ]
          },
          "metadata": {
            "tags": []
          },
          "execution_count": 5
        }
      ]
    },
    {
      "cell_type": "code",
      "metadata": {
        "id": "VuYuYTKtlnhb",
        "colab_type": "code",
        "outputId": "a1478a30-d1e3-4a9a-e350-b9a2871fa6dc",
        "colab": {
          "base_uri": "https://localhost:8080/",
          "height": 34
        }
      },
      "source": [
        "df1.shape"
      ],
      "execution_count": 0,
      "outputs": [
        {
          "output_type": "execute_result",
          "data": {
            "text/plain": [
              "(272, 16)"
            ]
          },
          "metadata": {
            "tags": []
          },
          "execution_count": 6
        }
      ]
    },
    {
      "cell_type": "code",
      "metadata": {
        "id": "r2OlgbZgrNE4",
        "colab_type": "code",
        "outputId": "4f40bcaf-e6af-4404-d390-a1439a698fb2",
        "colab": {
          "base_uri": "https://localhost:8080/",
          "height": 301
        }
      },
      "source": [
        "df1.head(2)"
      ],
      "execution_count": 0,
      "outputs": [
        {
          "output_type": "execute_result",
          "data": {
            "text/html": [
              "<div>\n",
              "<style scoped>\n",
              "    .dataframe tbody tr th:only-of-type {\n",
              "        vertical-align: middle;\n",
              "    }\n",
              "\n",
              "    .dataframe tbody tr th {\n",
              "        vertical-align: top;\n",
              "    }\n",
              "\n",
              "    .dataframe thead th {\n",
              "        text-align: right;\n",
              "    }\n",
              "</style>\n",
              "<table border=\"1\" class=\"dataframe\">\n",
              "  <thead>\n",
              "    <tr style=\"text-align: right;\">\n",
              "      <th></th>\n",
              "      <th>Unnamed: 0</th>\n",
              "      <th>Name of the Hotels</th>\n",
              "      <th>MONTHLY DATA ON NUMBER OF GUESTS CHECKED IN AND THEIR B. N. S.</th>\n",
              "      <th>Unnamed: 3</th>\n",
              "      <th>Unnamed: 4</th>\n",
              "      <th>Unnamed: 5</th>\n",
              "      <th>Unnamed: 6</th>\n",
              "      <th>Unnamed: 7</th>\n",
              "      <th>Unnamed: 8</th>\n",
              "      <th>Unnamed: 9</th>\n",
              "      <th>Unnamed: 10</th>\n",
              "      <th>Unnamed: 11</th>\n",
              "      <th>Unnamed: 12</th>\n",
              "      <th>Unnamed: 13</th>\n",
              "      <th>Unnamed: 14</th>\n",
              "      <th>Unnamed: 15</th>\n",
              "    </tr>\n",
              "  </thead>\n",
              "  <tbody>\n",
              "    <tr>\n",
              "      <th>0</th>\n",
              "      <td>NaN</td>\n",
              "      <td>NaN</td>\n",
              "      <td>Jan'2018</td>\n",
              "      <td>NaN</td>\n",
              "      <td>NaN</td>\n",
              "      <td>NaN</td>\n",
              "      <td>Feb'2018</td>\n",
              "      <td>NaN</td>\n",
              "      <td>NaN</td>\n",
              "      <td>NaN</td>\n",
              "      <td>Mar'2018</td>\n",
              "      <td>NaN</td>\n",
              "      <td>NaN</td>\n",
              "      <td>NaN</td>\n",
              "      <td>NaN</td>\n",
              "      <td>NaN</td>\n",
              "    </tr>\n",
              "    <tr>\n",
              "      <th>1</th>\n",
              "      <td>NaN</td>\n",
              "      <td>NaN</td>\n",
              "      <td>No.of Tourists</td>\n",
              "      <td>NaN</td>\n",
              "      <td>B.N.S.</td>\n",
              "      <td>NaN</td>\n",
              "      <td>No. of Tourists</td>\n",
              "      <td>NaN</td>\n",
              "      <td>B.N.S</td>\n",
              "      <td>NaN</td>\n",
              "      <td>No. of Tourists</td>\n",
              "      <td>NaN</td>\n",
              "      <td>B.N.S.</td>\n",
              "      <td>NaN</td>\n",
              "      <td>NaN</td>\n",
              "      <td>NaN</td>\n",
              "    </tr>\n",
              "  </tbody>\n",
              "</table>\n",
              "</div>"
            ],
            "text/plain": [
              "  Unnamed: 0 Name of the Hotels  ... Unnamed: 14 Unnamed: 15\n",
              "0        NaN                NaN  ...         NaN         NaN\n",
              "1        NaN                NaN  ...         NaN         NaN\n",
              "\n",
              "[2 rows x 16 columns]"
            ]
          },
          "metadata": {
            "tags": []
          },
          "execution_count": 7
        }
      ]
    },
    {
      "cell_type": "code",
      "metadata": {
        "id": "cWEr0dVFl4wp",
        "colab_type": "code",
        "outputId": "432479f0-08c5-4289-ea3c-ab9deee2c1b3",
        "colab": {
          "base_uri": "https://localhost:8080/",
          "height": 34
        }
      },
      "source": [
        "tags = df1.iloc(1)[1:14][0:]# ignores/trims unnecessary columns for df1 table\n",
        "tags.shape"
      ],
      "execution_count": 0,
      "outputs": [
        {
          "output_type": "execute_result",
          "data": {
            "text/plain": [
              "(272, 13)"
            ]
          },
          "metadata": {
            "tags": []
          },
          "execution_count": 8
        }
      ]
    },
    {
      "cell_type": "code",
      "metadata": {
        "id": "dFiPWsZzwnpd",
        "colab_type": "code",
        "outputId": "cefb0b20-a22b-4755-8ac2-8b857dd1dd5c",
        "colab": {
          "base_uri": "https://localhost:8080/",
          "height": 301
        }
      },
      "source": [
        "tags.iloc(1)[1:][:].head(2)# omits the hotel columns"
      ],
      "execution_count": 0,
      "outputs": [
        {
          "output_type": "execute_result",
          "data": {
            "text/html": [
              "<div>\n",
              "<style scoped>\n",
              "    .dataframe tbody tr th:only-of-type {\n",
              "        vertical-align: middle;\n",
              "    }\n",
              "\n",
              "    .dataframe tbody tr th {\n",
              "        vertical-align: top;\n",
              "    }\n",
              "\n",
              "    .dataframe thead th {\n",
              "        text-align: right;\n",
              "    }\n",
              "</style>\n",
              "<table border=\"1\" class=\"dataframe\">\n",
              "  <thead>\n",
              "    <tr style=\"text-align: right;\">\n",
              "      <th></th>\n",
              "      <th>MONTHLY DATA ON NUMBER OF GUESTS CHECKED IN AND THEIR B. N. S.</th>\n",
              "      <th>Unnamed: 3</th>\n",
              "      <th>Unnamed: 4</th>\n",
              "      <th>Unnamed: 5</th>\n",
              "      <th>Unnamed: 6</th>\n",
              "      <th>Unnamed: 7</th>\n",
              "      <th>Unnamed: 8</th>\n",
              "      <th>Unnamed: 9</th>\n",
              "      <th>Unnamed: 10</th>\n",
              "      <th>Unnamed: 11</th>\n",
              "      <th>Unnamed: 12</th>\n",
              "      <th>Unnamed: 13</th>\n",
              "    </tr>\n",
              "  </thead>\n",
              "  <tbody>\n",
              "    <tr>\n",
              "      <th>0</th>\n",
              "      <td>Jan'2018</td>\n",
              "      <td>NaN</td>\n",
              "      <td>NaN</td>\n",
              "      <td>NaN</td>\n",
              "      <td>Feb'2018</td>\n",
              "      <td>NaN</td>\n",
              "      <td>NaN</td>\n",
              "      <td>NaN</td>\n",
              "      <td>Mar'2018</td>\n",
              "      <td>NaN</td>\n",
              "      <td>NaN</td>\n",
              "      <td>NaN</td>\n",
              "    </tr>\n",
              "    <tr>\n",
              "      <th>1</th>\n",
              "      <td>No.of Tourists</td>\n",
              "      <td>NaN</td>\n",
              "      <td>B.N.S.</td>\n",
              "      <td>NaN</td>\n",
              "      <td>No. of Tourists</td>\n",
              "      <td>NaN</td>\n",
              "      <td>B.N.S</td>\n",
              "      <td>NaN</td>\n",
              "      <td>No. of Tourists</td>\n",
              "      <td>NaN</td>\n",
              "      <td>B.N.S.</td>\n",
              "      <td>NaN</td>\n",
              "    </tr>\n",
              "  </tbody>\n",
              "</table>\n",
              "</div>"
            ],
            "text/plain": [
              "  MONTHLY DATA ON NUMBER OF GUESTS CHECKED IN AND THEIR B. N. S.  ... Unnamed: 13\n",
              "0                                           Jan'2018              ...         NaN\n",
              "1                                     No.of Tourists              ...         NaN\n",
              "\n",
              "[2 rows x 12 columns]"
            ]
          },
          "metadata": {
            "tags": []
          },
          "execution_count": 9
        }
      ]
    },
    {
      "cell_type": "code",
      "metadata": {
        "id": "O0zeObo8v-fN",
        "colab_type": "code",
        "outputId": "3e6c6a46-07d8-41d7-f943-ada8d708534a",
        "colab": {
          "base_uri": "https://localhost:8080/",
          "height": 34
        }
      },
      "source": [
        "hh = []\n",
        "for j in range(len(tags)):\n",
        "        t = pd.notna(tags.iloc(1)[1:][j:j+1].to_numpy()).any() #checks if all values in a row are nan(dropna won't work here)\n",
        "        if not t:\n",
        "            hh.append(j)\n",
        "#print(hh)\n",
        "tags.drop(tags.index[hh],inplace = True) \n",
        "tags.shape"
      ],
      "execution_count": 0,
      "outputs": [
        {
          "output_type": "execute_result",
          "data": {
            "text/plain": [
              "(73, 13)"
            ]
          },
          "metadata": {
            "tags": []
          },
          "execution_count": 10
        }
      ]
    },
    {
      "cell_type": "code",
      "metadata": {
        "id": "7AGmsOaYy3ht",
        "colab_type": "code",
        "colab": {}
      },
      "source": [
        "# separates 3 regions in pondicherry\n",
        "pondi = tags[:14]\n",
        "karaikal = tags[17:53]\n",
        "yanam  = tags[59:67]"
      ],
      "execution_count": 0,
      "outputs": []
    },
    {
      "cell_type": "code",
      "metadata": {
        "id": "o8ZtcutLzad4",
        "colab_type": "code",
        "colab": {}
      },
      "source": [
        "# hotels of 3 places\n",
        "pondi_hotels = pondi.iloc(1)[:1][3:]\n",
        "karaikal_hotels = karaikal.iloc(1)[:1][2:]\n",
        "yanam_hotels = yanam.iloc(1)[:1][4:]"
      ],
      "execution_count": 0,
      "outputs": []
    },
    {
      "cell_type": "code",
      "metadata": {
        "id": "SZOv2Mp7z4AP",
        "colab_type": "code",
        "colab": {}
      },
      "source": [
        "# creating multindex for setting up tables\n",
        "yanam = yanam.iloc(1)[1:][4:]; pondi = pondi.iloc(1)[1:][3:]; karaikal = karaikal.iloc(1)[1:][2:]\n",
        "coll = pd.MultiIndex.from_product([['Jan 2018','Feb 2018','Mar 2018'],['Tourists','BNS'],['Indians','Foreigners']])\n",
        "yanam.set_axis(coll, axis = 1, inplace = True)\n",
        "pondi.set_axis(coll, axis = 1, inplace = True)\n",
        "karaikal.set_axis(coll, axis = 1, inplace = True)"
      ],
      "execution_count": 0,
      "outputs": []
    },
    {
      "cell_type": "code",
      "metadata": {
        "id": "HvANJRcr0HTx",
        "colab_type": "code",
        "colab": {}
      },
      "source": [
        "# respective hotels are inserted back to the table\n",
        "yanam.insert(0,'Hotels',yanam_hotels,True)\n",
        "pondi.insert(0,'Hotels',pondi_hotels,True)\n",
        "karaikal.insert(0,'Hotels',karaikal_hotels,True)\n",
        "pondi.reset_index(inplace = True)\n",
        "yanam.reset_index(inplace = True)\n",
        "karaikal.reset_index(inplace = True)"
      ],
      "execution_count": 0,
      "outputs": []
    },
    {
      "cell_type": "code",
      "metadata": {
        "id": "C6ji_vOx0duT",
        "colab_type": "code",
        "outputId": "1f1c339e-ceed-4d2d-cde7-ecbd847a550f",
        "colab": {
          "base_uri": "https://localhost:8080/",
          "height": 243
        }
      },
      "source": [
        "yanam.head(2)"
      ],
      "execution_count": 0,
      "outputs": [
        {
          "output_type": "execute_result",
          "data": {
            "text/html": [
              "<div>\n",
              "<style scoped>\n",
              "    .dataframe tbody tr th:only-of-type {\n",
              "        vertical-align: middle;\n",
              "    }\n",
              "\n",
              "    .dataframe tbody tr th {\n",
              "        vertical-align: top;\n",
              "    }\n",
              "\n",
              "    .dataframe thead tr th {\n",
              "        text-align: left;\n",
              "    }\n",
              "</style>\n",
              "<table border=\"1\" class=\"dataframe\">\n",
              "  <thead>\n",
              "    <tr>\n",
              "      <th></th>\n",
              "      <th>index</th>\n",
              "      <th>Hotels</th>\n",
              "      <th colspan=\"4\" halign=\"left\">Jan 2018</th>\n",
              "      <th colspan=\"4\" halign=\"left\">Feb 2018</th>\n",
              "      <th colspan=\"4\" halign=\"left\">Mar 2018</th>\n",
              "    </tr>\n",
              "    <tr>\n",
              "      <th></th>\n",
              "      <th></th>\n",
              "      <th></th>\n",
              "      <th colspan=\"2\" halign=\"left\">Tourists</th>\n",
              "      <th colspan=\"2\" halign=\"left\">BNS</th>\n",
              "      <th colspan=\"2\" halign=\"left\">Tourists</th>\n",
              "      <th colspan=\"2\" halign=\"left\">BNS</th>\n",
              "      <th colspan=\"2\" halign=\"left\">Tourists</th>\n",
              "      <th colspan=\"2\" halign=\"left\">BNS</th>\n",
              "    </tr>\n",
              "    <tr>\n",
              "      <th></th>\n",
              "      <th></th>\n",
              "      <th></th>\n",
              "      <th>Indians</th>\n",
              "      <th>Foreigners</th>\n",
              "      <th>Indians</th>\n",
              "      <th>Foreigners</th>\n",
              "      <th>Indians</th>\n",
              "      <th>Foreigners</th>\n",
              "      <th>Indians</th>\n",
              "      <th>Foreigners</th>\n",
              "      <th>Indians</th>\n",
              "      <th>Foreigners</th>\n",
              "      <th>Indians</th>\n",
              "      <th>Foreigners</th>\n",
              "    </tr>\n",
              "  </thead>\n",
              "  <tbody>\n",
              "    <tr>\n",
              "      <th>0</th>\n",
              "      <td>253</td>\n",
              "      <td>Govt. Guest House</td>\n",
              "      <td>880</td>\n",
              "      <td>NaN</td>\n",
              "      <td>440</td>\n",
              "      <td>NaN</td>\n",
              "      <td>892</td>\n",
              "      <td>NaN</td>\n",
              "      <td>446</td>\n",
              "      <td>NaN</td>\n",
              "      <td>788</td>\n",
              "      <td>NaN</td>\n",
              "      <td>384</td>\n",
              "      <td>NaN</td>\n",
              "    </tr>\n",
              "    <tr>\n",
              "      <th>1</th>\n",
              "      <td>255</td>\n",
              "      <td>G.V.S. Residency</td>\n",
              "      <td>2175</td>\n",
              "      <td>NaN</td>\n",
              "      <td>2175</td>\n",
              "      <td>NaN</td>\n",
              "      <td>1988</td>\n",
              "      <td>NaN</td>\n",
              "      <td>1988</td>\n",
              "      <td>NaN</td>\n",
              "      <td>2226</td>\n",
              "      <td>NaN</td>\n",
              "      <td>2226</td>\n",
              "      <td>NaN</td>\n",
              "    </tr>\n",
              "  </tbody>\n",
              "</table>\n",
              "</div>"
            ],
            "text/plain": [
              "  index             Hotels Jan 2018  ...   Mar 2018                   \n",
              "                           Tourists  ...   Tourists     BNS           \n",
              "                            Indians  ... Foreigners Indians Foreigners\n",
              "0   253  Govt. Guest House      880  ...        NaN     384        NaN\n",
              "1   255   G.V.S. Residency     2175  ...        NaN    2226        NaN\n",
              "\n",
              "[2 rows x 14 columns]"
            ]
          },
          "metadata": {
            "tags": []
          },
          "execution_count": 15
        }
      ]
    },
    {
      "cell_type": "code",
      "metadata": {
        "id": "s7knlQ7P0YmN",
        "colab_type": "code",
        "outputId": "3e8fb21f-e2c0-461e-9dca-54972208d693",
        "colab": {
          "base_uri": "https://localhost:8080/",
          "height": 260
        }
      },
      "source": [
        "pondi.head(2)"
      ],
      "execution_count": 0,
      "outputs": [
        {
          "output_type": "execute_result",
          "data": {
            "text/html": [
              "<div>\n",
              "<style scoped>\n",
              "    .dataframe tbody tr th:only-of-type {\n",
              "        vertical-align: middle;\n",
              "    }\n",
              "\n",
              "    .dataframe tbody tr th {\n",
              "        vertical-align: top;\n",
              "    }\n",
              "\n",
              "    .dataframe thead tr th {\n",
              "        text-align: left;\n",
              "    }\n",
              "</style>\n",
              "<table border=\"1\" class=\"dataframe\">\n",
              "  <thead>\n",
              "    <tr>\n",
              "      <th></th>\n",
              "      <th>index</th>\n",
              "      <th>Hotels</th>\n",
              "      <th colspan=\"4\" halign=\"left\">Jan 2018</th>\n",
              "      <th colspan=\"4\" halign=\"left\">Feb 2018</th>\n",
              "      <th colspan=\"4\" halign=\"left\">Mar 2018</th>\n",
              "    </tr>\n",
              "    <tr>\n",
              "      <th></th>\n",
              "      <th></th>\n",
              "      <th></th>\n",
              "      <th colspan=\"2\" halign=\"left\">Tourists</th>\n",
              "      <th colspan=\"2\" halign=\"left\">BNS</th>\n",
              "      <th colspan=\"2\" halign=\"left\">Tourists</th>\n",
              "      <th colspan=\"2\" halign=\"left\">BNS</th>\n",
              "      <th colspan=\"2\" halign=\"left\">Tourists</th>\n",
              "      <th colspan=\"2\" halign=\"left\">BNS</th>\n",
              "    </tr>\n",
              "    <tr>\n",
              "      <th></th>\n",
              "      <th></th>\n",
              "      <th></th>\n",
              "      <th>Indians</th>\n",
              "      <th>Foreigners</th>\n",
              "      <th>Indians</th>\n",
              "      <th>Foreigners</th>\n",
              "      <th>Indians</th>\n",
              "      <th>Foreigners</th>\n",
              "      <th>Indians</th>\n",
              "      <th>Foreigners</th>\n",
              "      <th>Indians</th>\n",
              "      <th>Foreigners</th>\n",
              "      <th>Indians</th>\n",
              "      <th>Foreigners</th>\n",
              "    </tr>\n",
              "  </thead>\n",
              "  <tbody>\n",
              "    <tr>\n",
              "      <th>0</th>\n",
              "      <td>4</td>\n",
              "      <td>Govt.Tourist Home, Upallam</td>\n",
              "      <td>802</td>\n",
              "      <td>NaN</td>\n",
              "      <td>782</td>\n",
              "      <td>NaN</td>\n",
              "      <td>781</td>\n",
              "      <td>NaN</td>\n",
              "      <td>705</td>\n",
              "      <td>NaN</td>\n",
              "      <td>836</td>\n",
              "      <td>NaN</td>\n",
              "      <td>821</td>\n",
              "      <td>NaN</td>\n",
              "    </tr>\n",
              "    <tr>\n",
              "      <th>1</th>\n",
              "      <td>6</td>\n",
              "      <td>Youth Hostel, Solai Nagar</td>\n",
              "      <td>1199</td>\n",
              "      <td>NaN</td>\n",
              "      <td>1190</td>\n",
              "      <td>NaN</td>\n",
              "      <td>1592</td>\n",
              "      <td>NaN</td>\n",
              "      <td>1125</td>\n",
              "      <td>NaN</td>\n",
              "      <td>1160</td>\n",
              "      <td>NaN</td>\n",
              "      <td>832</td>\n",
              "      <td>NaN</td>\n",
              "    </tr>\n",
              "  </tbody>\n",
              "</table>\n",
              "</div>"
            ],
            "text/plain": [
              "  index                      Hotels Jan 2018  ...   Mar 2018                   \n",
              "                                    Tourists  ...   Tourists     BNS           \n",
              "                                     Indians  ... Foreigners Indians Foreigners\n",
              "0     4  Govt.Tourist Home, Upallam      802  ...        NaN     821        NaN\n",
              "1     6   Youth Hostel, Solai Nagar     1199  ...        NaN     832        NaN\n",
              "\n",
              "[2 rows x 14 columns]"
            ]
          },
          "metadata": {
            "tags": []
          },
          "execution_count": 16
        }
      ]
    },
    {
      "cell_type": "code",
      "metadata": {
        "id": "jDigeo7v2ZfP",
        "colab_type": "code",
        "outputId": "f22df3ae-15ee-465f-fa8a-324c6726463c",
        "colab": {
          "base_uri": "https://localhost:8080/",
          "height": 260
        }
      },
      "source": [
        "karaikal.head(2)"
      ],
      "execution_count": 0,
      "outputs": [
        {
          "output_type": "execute_result",
          "data": {
            "text/html": [
              "<div>\n",
              "<style scoped>\n",
              "    .dataframe tbody tr th:only-of-type {\n",
              "        vertical-align: middle;\n",
              "    }\n",
              "\n",
              "    .dataframe tbody tr th {\n",
              "        vertical-align: top;\n",
              "    }\n",
              "\n",
              "    .dataframe thead tr th {\n",
              "        text-align: left;\n",
              "    }\n",
              "</style>\n",
              "<table border=\"1\" class=\"dataframe\">\n",
              "  <thead>\n",
              "    <tr>\n",
              "      <th></th>\n",
              "      <th>index</th>\n",
              "      <th>Hotels</th>\n",
              "      <th colspan=\"4\" halign=\"left\">Jan 2018</th>\n",
              "      <th colspan=\"4\" halign=\"left\">Feb 2018</th>\n",
              "      <th colspan=\"4\" halign=\"left\">Mar 2018</th>\n",
              "    </tr>\n",
              "    <tr>\n",
              "      <th></th>\n",
              "      <th></th>\n",
              "      <th></th>\n",
              "      <th colspan=\"2\" halign=\"left\">Tourists</th>\n",
              "      <th colspan=\"2\" halign=\"left\">BNS</th>\n",
              "      <th colspan=\"2\" halign=\"left\">Tourists</th>\n",
              "      <th colspan=\"2\" halign=\"left\">BNS</th>\n",
              "      <th colspan=\"2\" halign=\"left\">Tourists</th>\n",
              "      <th colspan=\"2\" halign=\"left\">BNS</th>\n",
              "    </tr>\n",
              "    <tr>\n",
              "      <th></th>\n",
              "      <th></th>\n",
              "      <th></th>\n",
              "      <th>Indians</th>\n",
              "      <th>Foreigners</th>\n",
              "      <th>Indians</th>\n",
              "      <th>Foreigners</th>\n",
              "      <th>Indians</th>\n",
              "      <th>Foreigners</th>\n",
              "      <th>Indians</th>\n",
              "      <th>Foreigners</th>\n",
              "      <th>Indians</th>\n",
              "      <th>Foreigners</th>\n",
              "      <th>Indians</th>\n",
              "      <th>Foreigners</th>\n",
              "    </tr>\n",
              "  </thead>\n",
              "  <tbody>\n",
              "    <tr>\n",
              "      <th>0</th>\n",
              "      <td>201</td>\n",
              "      <td>Govt.Tourist Home, Kovilpathu</td>\n",
              "      <td>506</td>\n",
              "      <td>4</td>\n",
              "      <td>253</td>\n",
              "      <td>4</td>\n",
              "      <td>445</td>\n",
              "      <td>2</td>\n",
              "      <td>240</td>\n",
              "      <td>2</td>\n",
              "      <td>476</td>\n",
              "      <td>3</td>\n",
              "      <td>NaN</td>\n",
              "      <td>3</td>\n",
              "    </tr>\n",
              "    <tr>\n",
              "      <th>1</th>\n",
              "      <td>202</td>\n",
              "      <td>State Guest House, Karaikal</td>\n",
              "      <td>20</td>\n",
              "      <td>NaN</td>\n",
              "      <td>18</td>\n",
              "      <td>NaN</td>\n",
              "      <td>15</td>\n",
              "      <td>NaN</td>\n",
              "      <td>10</td>\n",
              "      <td>0</td>\n",
              "      <td>20</td>\n",
              "      <td>NaN</td>\n",
              "      <td>NaN</td>\n",
              "      <td>0</td>\n",
              "    </tr>\n",
              "  </tbody>\n",
              "</table>\n",
              "</div>"
            ],
            "text/plain": [
              "  index                         Hotels Jan 2018  ...   Mar 2018                   \n",
              "                                       Tourists  ...   Tourists     BNS           \n",
              "                                        Indians  ... Foreigners Indians Foreigners\n",
              "0   201  Govt.Tourist Home, Kovilpathu      506  ...          3     NaN          3\n",
              "1   202    State Guest House, Karaikal       20  ...        NaN     NaN          0\n",
              "\n",
              "[2 rows x 14 columns]"
            ]
          },
          "metadata": {
            "tags": []
          },
          "execution_count": 17
        }
      ]
    },
    {
      "cell_type": "markdown",
      "metadata": {
        "id": "BS-AdUfI1arF",
        "colab_type": "text"
      },
      "source": [
        "**DF2 preprocessing**"
      ]
    },
    {
      "cell_type": "code",
      "metadata": {
        "id": "kz5Z9lI32gTB",
        "colab_type": "code",
        "outputId": "96eb4efe-36cd-4ec8-f933-a0be115b7b26",
        "colab": {
          "base_uri": "https://localhost:8080/",
          "height": 175
        }
      },
      "source": [
        "df2.columns"
      ],
      "execution_count": 0,
      "outputs": [
        {
          "output_type": "execute_result",
          "data": {
            "text/plain": [
              "Index(['Unnamed: 0', 'Unnamed: 1', 'Australia', 'Unnamed: 3', 'Bangladesh',\n",
              "       'Unnamed: 5', 'Canada', 'Unnamed: 7', 'France', 'Unnamed: 9', 'Germany',\n",
              "       'Unnamed: 11', 'Iran', 'Unnamed: 13', 'Italy', 'Unnamed: 15', 'Japan',\n",
              "       'Unnamed: 17', 'Malasiya', 'Unnamed: 19', 'Pakistan', 'Unnamed: 21',\n",
              "       'Singapore', 'Unnamed: 23', 'Soudi Arabia', 'Unnamed: 25', 'Sri Lanka',\n",
              "       'Unnamed: 27', 'Swoz', 'Unnamed: 29', 'UAE', 'Unnamed: 31', 'UK',\n",
              "       'Unnamed: 33', 'USA', 'Unnamed: 35', 'Others', 'Unnamed: 37',\n",
              "       'GRAND TOTAL', 'Unnamed: 39', 'Unnamed: 40', 'Unnamed: 41'],\n",
              "      dtype='object')"
            ]
          },
          "metadata": {
            "tags": []
          },
          "execution_count": 18
        }
      ]
    },
    {
      "cell_type": "code",
      "metadata": {
        "id": "V6gyj1lx14LY",
        "colab_type": "code",
        "outputId": "f42cf8b6-b22f-4208-92e8-56c30e80860f",
        "colab": {
          "base_uri": "https://localhost:8080/",
          "height": 164
        }
      },
      "source": [
        "df2.head(2)"
      ],
      "execution_count": 0,
      "outputs": [
        {
          "output_type": "execute_result",
          "data": {
            "text/html": [
              "<div>\n",
              "<style scoped>\n",
              "    .dataframe tbody tr th:only-of-type {\n",
              "        vertical-align: middle;\n",
              "    }\n",
              "\n",
              "    .dataframe tbody tr th {\n",
              "        vertical-align: top;\n",
              "    }\n",
              "\n",
              "    .dataframe thead th {\n",
              "        text-align: right;\n",
              "    }\n",
              "</style>\n",
              "<table border=\"1\" class=\"dataframe\">\n",
              "  <thead>\n",
              "    <tr style=\"text-align: right;\">\n",
              "      <th></th>\n",
              "      <th>Unnamed: 0</th>\n",
              "      <th>Unnamed: 1</th>\n",
              "      <th>Australia</th>\n",
              "      <th>Unnamed: 3</th>\n",
              "      <th>Bangladesh</th>\n",
              "      <th>Unnamed: 5</th>\n",
              "      <th>Canada</th>\n",
              "      <th>Unnamed: 7</th>\n",
              "      <th>France</th>\n",
              "      <th>Unnamed: 9</th>\n",
              "      <th>Germany</th>\n",
              "      <th>Unnamed: 11</th>\n",
              "      <th>Iran</th>\n",
              "      <th>Unnamed: 13</th>\n",
              "      <th>Italy</th>\n",
              "      <th>Unnamed: 15</th>\n",
              "      <th>Japan</th>\n",
              "      <th>Unnamed: 17</th>\n",
              "      <th>Malasiya</th>\n",
              "      <th>Unnamed: 19</th>\n",
              "      <th>Pakistan</th>\n",
              "      <th>Unnamed: 21</th>\n",
              "      <th>Singapore</th>\n",
              "      <th>Unnamed: 23</th>\n",
              "      <th>Soudi Arabia</th>\n",
              "      <th>Unnamed: 25</th>\n",
              "      <th>Sri Lanka</th>\n",
              "      <th>Unnamed: 27</th>\n",
              "      <th>Swoz</th>\n",
              "      <th>Unnamed: 29</th>\n",
              "      <th>UAE</th>\n",
              "      <th>Unnamed: 31</th>\n",
              "      <th>UK</th>\n",
              "      <th>Unnamed: 33</th>\n",
              "      <th>USA</th>\n",
              "      <th>Unnamed: 35</th>\n",
              "      <th>Others</th>\n",
              "      <th>Unnamed: 37</th>\n",
              "      <th>GRAND TOTAL</th>\n",
              "      <th>Unnamed: 39</th>\n",
              "      <th>Unnamed: 40</th>\n",
              "      <th>Unnamed: 41</th>\n",
              "    </tr>\n",
              "  </thead>\n",
              "  <tbody>\n",
              "    <tr>\n",
              "      <th>0</th>\n",
              "      <td>Sl.No.</td>\n",
              "      <td>Name of the Hotels</td>\n",
              "      <td>Nos</td>\n",
              "      <td>BNS</td>\n",
              "      <td>Nos</td>\n",
              "      <td>BNS</td>\n",
              "      <td>Nos</td>\n",
              "      <td>BNS</td>\n",
              "      <td>Nos</td>\n",
              "      <td>BNS</td>\n",
              "      <td>Nos</td>\n",
              "      <td>BNS</td>\n",
              "      <td>Nos</td>\n",
              "      <td>BNS</td>\n",
              "      <td>Nos</td>\n",
              "      <td>BNS</td>\n",
              "      <td>Nos</td>\n",
              "      <td>BNS</td>\n",
              "      <td>Nos</td>\n",
              "      <td>BNS</td>\n",
              "      <td>Nos</td>\n",
              "      <td>BNS</td>\n",
              "      <td>Nos</td>\n",
              "      <td>BNS</td>\n",
              "      <td>Nos</td>\n",
              "      <td>BNS</td>\n",
              "      <td>Nos</td>\n",
              "      <td>BNS</td>\n",
              "      <td>Nos</td>\n",
              "      <td>BNS</td>\n",
              "      <td>Nos</td>\n",
              "      <td>BNS</td>\n",
              "      <td>Nos</td>\n",
              "      <td>BNS</td>\n",
              "      <td>Nos</td>\n",
              "      <td>BNS</td>\n",
              "      <td>Nos</td>\n",
              "      <td>BNS</td>\n",
              "      <td>NOS</td>\n",
              "      <td>BNS</td>\n",
              "      <td>NaN</td>\n",
              "      <td>NaN</td>\n",
              "    </tr>\n",
              "    <tr>\n",
              "      <th>1</th>\n",
              "      <td>NaN</td>\n",
              "      <td>PUDUCHERRY</td>\n",
              "      <td>NaN</td>\n",
              "      <td>NaN</td>\n",
              "      <td>NaN</td>\n",
              "      <td>NaN</td>\n",
              "      <td>NaN</td>\n",
              "      <td>NaN</td>\n",
              "      <td>NaN</td>\n",
              "      <td>NaN</td>\n",
              "      <td>NaN</td>\n",
              "      <td>NaN</td>\n",
              "      <td>NaN</td>\n",
              "      <td>NaN</td>\n",
              "      <td>NaN</td>\n",
              "      <td>NaN</td>\n",
              "      <td>NaN</td>\n",
              "      <td>NaN</td>\n",
              "      <td>NaN</td>\n",
              "      <td>NaN</td>\n",
              "      <td>NaN</td>\n",
              "      <td>NaN</td>\n",
              "      <td>NaN</td>\n",
              "      <td>NaN</td>\n",
              "      <td>NaN</td>\n",
              "      <td>NaN</td>\n",
              "      <td>NaN</td>\n",
              "      <td>NaN</td>\n",
              "      <td>NaN</td>\n",
              "      <td>NaN</td>\n",
              "      <td>NaN</td>\n",
              "      <td>NaN</td>\n",
              "      <td>NaN</td>\n",
              "      <td>NaN</td>\n",
              "      <td>NaN</td>\n",
              "      <td>NaN</td>\n",
              "      <td>NaN</td>\n",
              "      <td>NaN</td>\n",
              "      <td>NaN</td>\n",
              "      <td>NaN</td>\n",
              "      <td>NaN</td>\n",
              "      <td>NaN</td>\n",
              "    </tr>\n",
              "  </tbody>\n",
              "</table>\n",
              "</div>"
            ],
            "text/plain": [
              "  Unnamed: 0          Unnamed: 1  ... Unnamed: 40 Unnamed: 41\n",
              "0     Sl.No.  Name of the Hotels  ...         NaN         NaN\n",
              "1        NaN          PUDUCHERRY  ...         NaN         NaN\n",
              "\n",
              "[2 rows x 42 columns]"
            ]
          },
          "metadata": {
            "tags": []
          },
          "execution_count": 19
        }
      ]
    },
    {
      "cell_type": "code",
      "metadata": {
        "id": "b9HVOHkU197U",
        "colab_type": "code",
        "colab": {}
      },
      "source": [
        "df2.drop([ 'Unnamed: 40', 'Unnamed: 41'], axis = 1,inplace = True)"
      ],
      "execution_count": 0,
      "outputs": []
    },
    {
      "cell_type": "code",
      "metadata": {
        "id": "BZKXNE6B2GKA",
        "colab_type": "code",
        "outputId": "faf3ef99-e5a1-4fe8-8712-44acad4a5aac",
        "colab": {
          "base_uri": "https://localhost:8080/",
          "height": 54
        }
      },
      "source": [
        "dropper = [] # identifies rows to be dropped  ; iloc(1)[no of columns][no of rows]\n",
        "for i in range(len(df2)):\n",
        "    if df2.iloc(1)[38:39][i:1+i].values[0][0] == 0 or not pd.notna(df2.iloc(1)[38:39][i:1+i].values[0][0]):\n",
        "        if df2.iloc(1)[39:40][i:1+i].values[0][0] == 0 or not pd.notna(df2.iloc(1)[39:40][i:1+i].values[0][0]):\n",
        "            dropper.append(i)\n",
        "print(dropper)"
      ],
      "execution_count": 0,
      "outputs": [
        {
          "output_type": "stream",
          "text": [
            "[1, 2, 3, 4, 7, 9, 11, 12, 13, 14, 15, 16, 18, 20, 21, 22, 24, 25, 26, 27, 28, 29, 30, 31, 32, 33, 35, 36, 37, 38, 39, 40, 41, 45, 46, 47, 48, 49, 50, 51, 52, 53, 54, 55, 56, 57, 58, 59, 60, 61, 62, 64, 65, 66, 67, 68, 69, 70, 72, 73, 74, 75, 76, 77, 78, 79, 80, 81, 82, 83, 84, 85, 86, 89, 90, 91, 92, 93, 94, 95, 96, 97, 98, 99, 100, 101, 102, 105, 107, 108, 109, 110, 112, 113, 114, 115, 116, 117, 119, 120, 121, 122, 124, 125, 126, 127, 128, 129, 130, 131, 132, 133, 134, 136, 137, 138, 139, 140, 141, 142, 144, 145, 146, 148, 149, 150, 151, 152, 153, 154, 155, 156, 158, 159, 160, 161, 162, 163, 164, 165, 166, 167, 168, 169, 170, 173, 175, 179, 180, 181, 182, 183, 184, 186, 188, 189, 190, 192, 193, 194, 196, 197, 199, 200, 201, 203, 204, 205, 208, 209, 210, 211, 212, 213, 218, 219, 220, 221, 222, 224, 225, 226, 227, 228, 229, 230, 231, 233, 234, 235, 236, 237]\n"
          ],
          "name": "stdout"
        }
      ]
    },
    {
      "cell_type": "code",
      "metadata": {
        "id": "kbeCfCX92gN_",
        "colab_type": "code",
        "outputId": "f6167b16-6603-440f-d71f-6b343ecaaadc",
        "colab": {
          "base_uri": "https://localhost:8080/",
          "height": 34
        }
      },
      "source": [
        "df2.drop(df2.index[dropper],axis = 0, inplace = True)\n",
        "df2.reset_index(inplace = True, drop = True)\n",
        "df2.shape"
      ],
      "execution_count": 0,
      "outputs": [
        {
          "output_type": "execute_result",
          "data": {
            "text/plain": [
              "(51, 40)"
            ]
          },
          "metadata": {
            "tags": []
          },
          "execution_count": 22
        }
      ]
    },
    {
      "cell_type": "code",
      "metadata": {
        "id": "NcjLEpvU3B3f",
        "colab_type": "code",
        "outputId": "3d3f815f-6622-43f5-b487-74902091baeb",
        "colab": {
          "base_uri": "https://localhost:8080/",
          "height": 233
        }
      },
      "source": [
        "df2.head(2)"
      ],
      "execution_count": 0,
      "outputs": [
        {
          "output_type": "execute_result",
          "data": {
            "text/html": [
              "<div>\n",
              "<style scoped>\n",
              "    .dataframe tbody tr th:only-of-type {\n",
              "        vertical-align: middle;\n",
              "    }\n",
              "\n",
              "    .dataframe tbody tr th {\n",
              "        vertical-align: top;\n",
              "    }\n",
              "\n",
              "    .dataframe thead th {\n",
              "        text-align: right;\n",
              "    }\n",
              "</style>\n",
              "<table border=\"1\" class=\"dataframe\">\n",
              "  <thead>\n",
              "    <tr style=\"text-align: right;\">\n",
              "      <th></th>\n",
              "      <th>Unnamed: 0</th>\n",
              "      <th>Unnamed: 1</th>\n",
              "      <th>Australia</th>\n",
              "      <th>Unnamed: 3</th>\n",
              "      <th>Bangladesh</th>\n",
              "      <th>Unnamed: 5</th>\n",
              "      <th>Canada</th>\n",
              "      <th>Unnamed: 7</th>\n",
              "      <th>France</th>\n",
              "      <th>Unnamed: 9</th>\n",
              "      <th>Germany</th>\n",
              "      <th>Unnamed: 11</th>\n",
              "      <th>Iran</th>\n",
              "      <th>Unnamed: 13</th>\n",
              "      <th>Italy</th>\n",
              "      <th>Unnamed: 15</th>\n",
              "      <th>Japan</th>\n",
              "      <th>Unnamed: 17</th>\n",
              "      <th>Malasiya</th>\n",
              "      <th>Unnamed: 19</th>\n",
              "      <th>Pakistan</th>\n",
              "      <th>Unnamed: 21</th>\n",
              "      <th>Singapore</th>\n",
              "      <th>Unnamed: 23</th>\n",
              "      <th>Soudi Arabia</th>\n",
              "      <th>Unnamed: 25</th>\n",
              "      <th>Sri Lanka</th>\n",
              "      <th>Unnamed: 27</th>\n",
              "      <th>Swoz</th>\n",
              "      <th>Unnamed: 29</th>\n",
              "      <th>UAE</th>\n",
              "      <th>Unnamed: 31</th>\n",
              "      <th>UK</th>\n",
              "      <th>Unnamed: 33</th>\n",
              "      <th>USA</th>\n",
              "      <th>Unnamed: 35</th>\n",
              "      <th>Others</th>\n",
              "      <th>Unnamed: 37</th>\n",
              "      <th>GRAND TOTAL</th>\n",
              "      <th>Unnamed: 39</th>\n",
              "    </tr>\n",
              "  </thead>\n",
              "  <tbody>\n",
              "    <tr>\n",
              "      <th>0</th>\n",
              "      <td>Sl.No.</td>\n",
              "      <td>Name of the Hotels</td>\n",
              "      <td>Nos</td>\n",
              "      <td>BNS</td>\n",
              "      <td>Nos</td>\n",
              "      <td>BNS</td>\n",
              "      <td>Nos</td>\n",
              "      <td>BNS</td>\n",
              "      <td>Nos</td>\n",
              "      <td>BNS</td>\n",
              "      <td>Nos</td>\n",
              "      <td>BNS</td>\n",
              "      <td>Nos</td>\n",
              "      <td>BNS</td>\n",
              "      <td>Nos</td>\n",
              "      <td>BNS</td>\n",
              "      <td>Nos</td>\n",
              "      <td>BNS</td>\n",
              "      <td>Nos</td>\n",
              "      <td>BNS</td>\n",
              "      <td>Nos</td>\n",
              "      <td>BNS</td>\n",
              "      <td>Nos</td>\n",
              "      <td>BNS</td>\n",
              "      <td>Nos</td>\n",
              "      <td>BNS</td>\n",
              "      <td>Nos</td>\n",
              "      <td>BNS</td>\n",
              "      <td>Nos</td>\n",
              "      <td>BNS</td>\n",
              "      <td>Nos</td>\n",
              "      <td>BNS</td>\n",
              "      <td>Nos</td>\n",
              "      <td>BNS</td>\n",
              "      <td>Nos</td>\n",
              "      <td>BNS</td>\n",
              "      <td>Nos</td>\n",
              "      <td>BNS</td>\n",
              "      <td>NOS</td>\n",
              "      <td>BNS</td>\n",
              "    </tr>\n",
              "    <tr>\n",
              "      <th>1</th>\n",
              "      <td>4</td>\n",
              "      <td>Youth Hostel, Solai Nagar</td>\n",
              "      <td>NaN</td>\n",
              "      <td>NaN</td>\n",
              "      <td>NaN</td>\n",
              "      <td>NaN</td>\n",
              "      <td>NaN</td>\n",
              "      <td>NaN</td>\n",
              "      <td>NaN</td>\n",
              "      <td>NaN</td>\n",
              "      <td>NaN</td>\n",
              "      <td>NaN</td>\n",
              "      <td>NaN</td>\n",
              "      <td>NaN</td>\n",
              "      <td>NaN</td>\n",
              "      <td>NaN</td>\n",
              "      <td>NaN</td>\n",
              "      <td>NaN</td>\n",
              "      <td>5</td>\n",
              "      <td>5</td>\n",
              "      <td>NaN</td>\n",
              "      <td>NaN</td>\n",
              "      <td>6</td>\n",
              "      <td>6</td>\n",
              "      <td>NaN</td>\n",
              "      <td>NaN</td>\n",
              "      <td>NaN</td>\n",
              "      <td>NaN</td>\n",
              "      <td>NaN</td>\n",
              "      <td>NaN</td>\n",
              "      <td>NaN</td>\n",
              "      <td>NaN</td>\n",
              "      <td>NaN</td>\n",
              "      <td>NaN</td>\n",
              "      <td>NaN</td>\n",
              "      <td>NaN</td>\n",
              "      <td>NaN</td>\n",
              "      <td>NaN</td>\n",
              "      <td>11</td>\n",
              "      <td>11</td>\n",
              "    </tr>\n",
              "  </tbody>\n",
              "</table>\n",
              "</div>"
            ],
            "text/plain": [
              "  Unnamed: 0                 Unnamed: 1  ... GRAND TOTAL Unnamed: 39\n",
              "0     Sl.No.         Name of the Hotels  ...         NOS         BNS\n",
              "1          4  Youth Hostel, Solai Nagar  ...          11          11\n",
              "\n",
              "[2 rows x 40 columns]"
            ]
          },
          "metadata": {
            "tags": []
          },
          "execution_count": 23
        }
      ]
    },
    {
      "cell_type": "code",
      "metadata": {
        "id": "alsl_UJg3Ix1",
        "colab_type": "code",
        "outputId": "b0611163-e83e-4451-f29d-b4239aad3085",
        "colab": {
          "base_uri": "https://localhost:8080/",
          "height": 34
        }
      },
      "source": [
        "df2[df2['Unnamed: 1'] == 'Lily Pool, Poornankuppam'].index[0]"
      ],
      "execution_count": 0,
      "outputs": [
        {
          "output_type": "execute_result",
          "data": {
            "text/plain": [
              "34"
            ]
          },
          "metadata": {
            "tags": []
          },
          "execution_count": 24
        }
      ]
    },
    {
      "cell_type": "code",
      "metadata": {
        "id": "-1trjCKO3aNi",
        "colab_type": "code",
        "colab": {}
      },
      "source": [
        "pondi_df2 = df2.iloc(1)[:][:1+df2[df2['Unnamed: 1'] == 'Lily Pool, Poornankuppam'].index[0]]"
      ],
      "execution_count": 0,
      "outputs": []
    },
    {
      "cell_type": "code",
      "metadata": {
        "id": "0CYtBY3Z37V7",
        "colab_type": "code",
        "colab": {}
      },
      "source": [
        "karaikal_df2 = df2.iloc[:][38:48]"
      ],
      "execution_count": 0,
      "outputs": []
    },
    {
      "cell_type": "code",
      "metadata": {
        "id": "3ZG58P9y4rPr",
        "colab_type": "code",
        "outputId": "c306ea71-fc86-47ec-f611-900b1f7a2cb8",
        "colab": {
          "base_uri": "https://localhost:8080/",
          "height": 34
        }
      },
      "source": [
        "pondi_df2.shape"
      ],
      "execution_count": 0,
      "outputs": [
        {
          "output_type": "execute_result",
          "data": {
            "text/plain": [
              "(35, 40)"
            ]
          },
          "metadata": {
            "tags": []
          },
          "execution_count": 27
        }
      ]
    },
    {
      "cell_type": "code",
      "metadata": {
        "id": "fgMe_DQ34yvA",
        "colab_type": "code",
        "outputId": "e40ee523-f389-4ced-a833-a94a547fdb32",
        "colab": {
          "base_uri": "https://localhost:8080/",
          "height": 34
        }
      },
      "source": [
        "karaikal_df2.shape"
      ],
      "execution_count": 0,
      "outputs": [
        {
          "output_type": "execute_result",
          "data": {
            "text/plain": [
              "(10, 40)"
            ]
          },
          "metadata": {
            "tags": []
          },
          "execution_count": 28
        }
      ]
    },
    {
      "cell_type": "code",
      "metadata": {
        "id": "ptvPzVli40vD",
        "colab_type": "code",
        "outputId": "da236148-7408-4a9c-e3c8-b9dedf2533c0",
        "colab": {
          "base_uri": "https://localhost:8080/",
          "height": 334
        }
      },
      "source": [
        "cols2 = list(pondi_df2.columns)\n",
        "f = 0; country = []\n",
        "for i in range(1, len(cols2)-3):\n",
        "    f = 0\n",
        "    for j in list(cols2[i]):\n",
        "        if j.isdigit():\n",
        "            f = 1\n",
        "            break\n",
        "    if f == 0:\n",
        "        country.append(cols2[i])\n",
        "        \n",
        "country"
      ],
      "execution_count": 0,
      "outputs": [
        {
          "output_type": "execute_result",
          "data": {
            "text/plain": [
              "['Australia',\n",
              " 'Bangladesh',\n",
              " 'Canada',\n",
              " 'France',\n",
              " 'Germany',\n",
              " 'Iran',\n",
              " 'Italy',\n",
              " 'Japan',\n",
              " 'Malasiya',\n",
              " 'Pakistan',\n",
              " 'Singapore',\n",
              " 'Soudi Arabia',\n",
              " 'Sri Lanka',\n",
              " 'Swoz',\n",
              " 'UAE',\n",
              " 'UK',\n",
              " 'USA',\n",
              " 'Others']"
            ]
          },
          "metadata": {
            "tags": []
          },
          "execution_count": 29
        }
      ]
    },
    {
      "cell_type": "code",
      "metadata": {
        "id": "DWcMZl4a5IgB",
        "colab_type": "code",
        "outputId": "97c194b2-59f6-42ac-8b47-340997f2300c",
        "colab": {
          "base_uri": "https://localhost:8080/",
          "height": 147
        }
      },
      "source": [
        "pondy_df2 = pondi_df2.iloc(1)[2:38][2:]\n",
        "pondi_hotels2 = pondi_df2.iloc(1)[1:2][2:]\n",
        "pondy_df2.head(2)"
      ],
      "execution_count": 0,
      "outputs": [
        {
          "output_type": "execute_result",
          "data": {
            "text/html": [
              "<div>\n",
              "<style scoped>\n",
              "    .dataframe tbody tr th:only-of-type {\n",
              "        vertical-align: middle;\n",
              "    }\n",
              "\n",
              "    .dataframe tbody tr th {\n",
              "        vertical-align: top;\n",
              "    }\n",
              "\n",
              "    .dataframe thead th {\n",
              "        text-align: right;\n",
              "    }\n",
              "</style>\n",
              "<table border=\"1\" class=\"dataframe\">\n",
              "  <thead>\n",
              "    <tr style=\"text-align: right;\">\n",
              "      <th></th>\n",
              "      <th>Australia</th>\n",
              "      <th>Unnamed: 3</th>\n",
              "      <th>Bangladesh</th>\n",
              "      <th>Unnamed: 5</th>\n",
              "      <th>Canada</th>\n",
              "      <th>Unnamed: 7</th>\n",
              "      <th>France</th>\n",
              "      <th>Unnamed: 9</th>\n",
              "      <th>Germany</th>\n",
              "      <th>Unnamed: 11</th>\n",
              "      <th>Iran</th>\n",
              "      <th>Unnamed: 13</th>\n",
              "      <th>Italy</th>\n",
              "      <th>Unnamed: 15</th>\n",
              "      <th>Japan</th>\n",
              "      <th>Unnamed: 17</th>\n",
              "      <th>Malasiya</th>\n",
              "      <th>Unnamed: 19</th>\n",
              "      <th>Pakistan</th>\n",
              "      <th>Unnamed: 21</th>\n",
              "      <th>Singapore</th>\n",
              "      <th>Unnamed: 23</th>\n",
              "      <th>Soudi Arabia</th>\n",
              "      <th>Unnamed: 25</th>\n",
              "      <th>Sri Lanka</th>\n",
              "      <th>Unnamed: 27</th>\n",
              "      <th>Swoz</th>\n",
              "      <th>Unnamed: 29</th>\n",
              "      <th>UAE</th>\n",
              "      <th>Unnamed: 31</th>\n",
              "      <th>UK</th>\n",
              "      <th>Unnamed: 33</th>\n",
              "      <th>USA</th>\n",
              "      <th>Unnamed: 35</th>\n",
              "      <th>Others</th>\n",
              "      <th>Unnamed: 37</th>\n",
              "    </tr>\n",
              "  </thead>\n",
              "  <tbody>\n",
              "    <tr>\n",
              "      <th>2</th>\n",
              "      <td>1</td>\n",
              "      <td>4</td>\n",
              "      <td>NaN</td>\n",
              "      <td>NaN</td>\n",
              "      <td>6</td>\n",
              "      <td>10</td>\n",
              "      <td>5</td>\n",
              "      <td>10</td>\n",
              "      <td>3</td>\n",
              "      <td>6</td>\n",
              "      <td>2</td>\n",
              "      <td>4</td>\n",
              "      <td>NaN</td>\n",
              "      <td>NaN</td>\n",
              "      <td>NaN</td>\n",
              "      <td>NaN</td>\n",
              "      <td>NaN</td>\n",
              "      <td>NaN</td>\n",
              "      <td>NaN</td>\n",
              "      <td>NaN</td>\n",
              "      <td>NaN</td>\n",
              "      <td>NaN</td>\n",
              "      <td>NaN</td>\n",
              "      <td>NaN</td>\n",
              "      <td>NaN</td>\n",
              "      <td>NaN</td>\n",
              "      <td>NaN</td>\n",
              "      <td>NaN</td>\n",
              "      <td>NaN</td>\n",
              "      <td>NaN</td>\n",
              "      <td>NaN</td>\n",
              "      <td>NaN</td>\n",
              "      <td>NaN</td>\n",
              "      <td>NaN</td>\n",
              "      <td>NaN</td>\n",
              "      <td>NaN</td>\n",
              "    </tr>\n",
              "    <tr>\n",
              "      <th>3</th>\n",
              "      <td>5</td>\n",
              "      <td>5</td>\n",
              "      <td>NaN</td>\n",
              "      <td>NaN</td>\n",
              "      <td>3</td>\n",
              "      <td>3</td>\n",
              "      <td>10</td>\n",
              "      <td>10</td>\n",
              "      <td>1</td>\n",
              "      <td>1</td>\n",
              "      <td>NaN</td>\n",
              "      <td>NaN</td>\n",
              "      <td>NaN</td>\n",
              "      <td>NaN</td>\n",
              "      <td>NaN</td>\n",
              "      <td>NaN</td>\n",
              "      <td>10</td>\n",
              "      <td>10</td>\n",
              "      <td>NaN</td>\n",
              "      <td>NaN</td>\n",
              "      <td>NaN</td>\n",
              "      <td>NaN</td>\n",
              "      <td>NaN</td>\n",
              "      <td>NaN</td>\n",
              "      <td>NaN</td>\n",
              "      <td>NaN</td>\n",
              "      <td>2</td>\n",
              "      <td>2</td>\n",
              "      <td>NaN</td>\n",
              "      <td>NaN</td>\n",
              "      <td>5</td>\n",
              "      <td>5</td>\n",
              "      <td>12</td>\n",
              "      <td>12</td>\n",
              "      <td>NaN</td>\n",
              "      <td>NaN</td>\n",
              "    </tr>\n",
              "  </tbody>\n",
              "</table>\n",
              "</div>"
            ],
            "text/plain": [
              "  Australia Unnamed: 3 Bangladesh  ... Unnamed: 35 Others Unnamed: 37\n",
              "2         1          4        NaN  ...         NaN    NaN         NaN\n",
              "3         5          5        NaN  ...          12    NaN         NaN\n",
              "\n",
              "[2 rows x 36 columns]"
            ]
          },
          "metadata": {
            "tags": []
          },
          "execution_count": 30
        }
      ]
    },
    {
      "cell_type": "code",
      "metadata": {
        "id": "kLBaWFQP640H",
        "colab_type": "code",
        "outputId": "fd0ed6b0-9a73-469b-f736-e4f58b91ac7d",
        "colab": {
          "base_uri": "https://localhost:8080/",
          "height": 110
        }
      },
      "source": [
        "pondi_hotels2.head(2)"
      ],
      "execution_count": 0,
      "outputs": [
        {
          "output_type": "execute_result",
          "data": {
            "text/html": [
              "<div>\n",
              "<style scoped>\n",
              "    .dataframe tbody tr th:only-of-type {\n",
              "        vertical-align: middle;\n",
              "    }\n",
              "\n",
              "    .dataframe tbody tr th {\n",
              "        vertical-align: top;\n",
              "    }\n",
              "\n",
              "    .dataframe thead th {\n",
              "        text-align: right;\n",
              "    }\n",
              "</style>\n",
              "<table border=\"1\" class=\"dataframe\">\n",
              "  <thead>\n",
              "    <tr style=\"text-align: right;\">\n",
              "      <th></th>\n",
              "      <th>Unnamed: 1</th>\n",
              "    </tr>\n",
              "  </thead>\n",
              "  <tbody>\n",
              "    <tr>\n",
              "      <th>2</th>\n",
              "      <td>A La Villa Geole</td>\n",
              "    </tr>\n",
              "    <tr>\n",
              "      <th>3</th>\n",
              "      <td>Abirami Residency</td>\n",
              "    </tr>\n",
              "  </tbody>\n",
              "</table>\n",
              "</div>"
            ],
            "text/plain": [
              "          Unnamed: 1\n",
              "2   A La Villa Geole\n",
              "3  Abirami Residency"
            ]
          },
          "metadata": {
            "tags": []
          },
          "execution_count": 31
        }
      ]
    },
    {
      "cell_type": "code",
      "metadata": {
        "id": "PYyM6sat7Gh-",
        "colab_type": "code",
        "outputId": "3811a8e6-7792-460f-ef75-26fb5a62f89b",
        "colab": {
          "base_uri": "https://localhost:8080/",
          "height": 240
        }
      },
      "source": [
        "kara_df2 = karaikal_df2.iloc(1)[2:38][1:7]\n",
        "kara_hotels2 = karaikal_df2.iloc(1)[1:2][1:7]\n",
        "kara_df2.head()"
      ],
      "execution_count": 0,
      "outputs": [
        {
          "output_type": "execute_result",
          "data": {
            "text/html": [
              "<div>\n",
              "<style scoped>\n",
              "    .dataframe tbody tr th:only-of-type {\n",
              "        vertical-align: middle;\n",
              "    }\n",
              "\n",
              "    .dataframe tbody tr th {\n",
              "        vertical-align: top;\n",
              "    }\n",
              "\n",
              "    .dataframe thead th {\n",
              "        text-align: right;\n",
              "    }\n",
              "</style>\n",
              "<table border=\"1\" class=\"dataframe\">\n",
              "  <thead>\n",
              "    <tr style=\"text-align: right;\">\n",
              "      <th></th>\n",
              "      <th>Australia</th>\n",
              "      <th>Unnamed: 3</th>\n",
              "      <th>Bangladesh</th>\n",
              "      <th>Unnamed: 5</th>\n",
              "      <th>Canada</th>\n",
              "      <th>Unnamed: 7</th>\n",
              "      <th>France</th>\n",
              "      <th>Unnamed: 9</th>\n",
              "      <th>Germany</th>\n",
              "      <th>Unnamed: 11</th>\n",
              "      <th>Iran</th>\n",
              "      <th>Unnamed: 13</th>\n",
              "      <th>Italy</th>\n",
              "      <th>Unnamed: 15</th>\n",
              "      <th>Japan</th>\n",
              "      <th>Unnamed: 17</th>\n",
              "      <th>Malasiya</th>\n",
              "      <th>Unnamed: 19</th>\n",
              "      <th>Pakistan</th>\n",
              "      <th>Unnamed: 21</th>\n",
              "      <th>Singapore</th>\n",
              "      <th>Unnamed: 23</th>\n",
              "      <th>Soudi Arabia</th>\n",
              "      <th>Unnamed: 25</th>\n",
              "      <th>Sri Lanka</th>\n",
              "      <th>Unnamed: 27</th>\n",
              "      <th>Swoz</th>\n",
              "      <th>Unnamed: 29</th>\n",
              "      <th>UAE</th>\n",
              "      <th>Unnamed: 31</th>\n",
              "      <th>UK</th>\n",
              "      <th>Unnamed: 33</th>\n",
              "      <th>USA</th>\n",
              "      <th>Unnamed: 35</th>\n",
              "      <th>Others</th>\n",
              "      <th>Unnamed: 37</th>\n",
              "    </tr>\n",
              "  </thead>\n",
              "  <tbody>\n",
              "    <tr>\n",
              "      <th>39</th>\n",
              "      <td>NaN</td>\n",
              "      <td>NaN</td>\n",
              "      <td>NaN</td>\n",
              "      <td>NaN</td>\n",
              "      <td>NaN</td>\n",
              "      <td>NaN</td>\n",
              "      <td>NaN</td>\n",
              "      <td>NaN</td>\n",
              "      <td>NaN</td>\n",
              "      <td>NaN</td>\n",
              "      <td>NaN</td>\n",
              "      <td>NaN</td>\n",
              "      <td>NaN</td>\n",
              "      <td>NaN</td>\n",
              "      <td>NaN</td>\n",
              "      <td>NaN</td>\n",
              "      <td>NaN</td>\n",
              "      <td>NaN</td>\n",
              "      <td>NaN</td>\n",
              "      <td>NaN</td>\n",
              "      <td>8</td>\n",
              "      <td>8</td>\n",
              "      <td>NaN</td>\n",
              "      <td>NaN</td>\n",
              "      <td>NaN</td>\n",
              "      <td>NaN</td>\n",
              "      <td>NaN</td>\n",
              "      <td>NaN</td>\n",
              "      <td>NaN</td>\n",
              "      <td>NaN</td>\n",
              "      <td>NaN</td>\n",
              "      <td>NaN</td>\n",
              "      <td>NaN</td>\n",
              "      <td>NaN</td>\n",
              "      <td>NaN</td>\n",
              "      <td>NaN</td>\n",
              "    </tr>\n",
              "    <tr>\n",
              "      <th>40</th>\n",
              "      <td>NaN</td>\n",
              "      <td>NaN</td>\n",
              "      <td>NaN</td>\n",
              "      <td>NaN</td>\n",
              "      <td>NaN</td>\n",
              "      <td>NaN</td>\n",
              "      <td>NaN</td>\n",
              "      <td>NaN</td>\n",
              "      <td>NaN</td>\n",
              "      <td>NaN</td>\n",
              "      <td>NaN</td>\n",
              "      <td>NaN</td>\n",
              "      <td>NaN</td>\n",
              "      <td>NaN</td>\n",
              "      <td>NaN</td>\n",
              "      <td>NaN</td>\n",
              "      <td>NaN</td>\n",
              "      <td>NaN</td>\n",
              "      <td>NaN</td>\n",
              "      <td>NaN</td>\n",
              "      <td>NaN</td>\n",
              "      <td>NaN</td>\n",
              "      <td>NaN</td>\n",
              "      <td>NaN</td>\n",
              "      <td>NaN</td>\n",
              "      <td>NaN</td>\n",
              "      <td>NaN</td>\n",
              "      <td>NaN</td>\n",
              "      <td>6</td>\n",
              "      <td>6</td>\n",
              "      <td>NaN</td>\n",
              "      <td>NaN</td>\n",
              "      <td>NaN</td>\n",
              "      <td>NaN</td>\n",
              "      <td>NaN</td>\n",
              "      <td>NaN</td>\n",
              "    </tr>\n",
              "    <tr>\n",
              "      <th>41</th>\n",
              "      <td>NaN</td>\n",
              "      <td>NaN</td>\n",
              "      <td>NaN</td>\n",
              "      <td>NaN</td>\n",
              "      <td>NaN</td>\n",
              "      <td>NaN</td>\n",
              "      <td>NaN</td>\n",
              "      <td>NaN</td>\n",
              "      <td>10</td>\n",
              "      <td>10</td>\n",
              "      <td>NaN</td>\n",
              "      <td>NaN</td>\n",
              "      <td>NaN</td>\n",
              "      <td>NaN</td>\n",
              "      <td>NaN</td>\n",
              "      <td>NaN</td>\n",
              "      <td>NaN</td>\n",
              "      <td>NaN</td>\n",
              "      <td>NaN</td>\n",
              "      <td>NaN</td>\n",
              "      <td>NaN</td>\n",
              "      <td>NaN</td>\n",
              "      <td>NaN</td>\n",
              "      <td>NaN</td>\n",
              "      <td>NaN</td>\n",
              "      <td>NaN</td>\n",
              "      <td>NaN</td>\n",
              "      <td>NaN</td>\n",
              "      <td>NaN</td>\n",
              "      <td>NaN</td>\n",
              "      <td>NaN</td>\n",
              "      <td>NaN</td>\n",
              "      <td>NaN</td>\n",
              "      <td>NaN</td>\n",
              "      <td>NaN</td>\n",
              "      <td>NaN</td>\n",
              "    </tr>\n",
              "    <tr>\n",
              "      <th>42</th>\n",
              "      <td>NaN</td>\n",
              "      <td>NaN</td>\n",
              "      <td>NaN</td>\n",
              "      <td>NaN</td>\n",
              "      <td>NaN</td>\n",
              "      <td>NaN</td>\n",
              "      <td>NaN</td>\n",
              "      <td>NaN</td>\n",
              "      <td>NaN</td>\n",
              "      <td>NaN</td>\n",
              "      <td>NaN</td>\n",
              "      <td>NaN</td>\n",
              "      <td>NaN</td>\n",
              "      <td>NaN</td>\n",
              "      <td>NaN</td>\n",
              "      <td>NaN</td>\n",
              "      <td>NaN</td>\n",
              "      <td>NaN</td>\n",
              "      <td>NaN</td>\n",
              "      <td>NaN</td>\n",
              "      <td>NaN</td>\n",
              "      <td>NaN</td>\n",
              "      <td>NaN</td>\n",
              "      <td>NaN</td>\n",
              "      <td>NaN</td>\n",
              "      <td>NaN</td>\n",
              "      <td>NaN</td>\n",
              "      <td>NaN</td>\n",
              "      <td>NaN</td>\n",
              "      <td>NaN</td>\n",
              "      <td>NaN</td>\n",
              "      <td>NaN</td>\n",
              "      <td>NaN</td>\n",
              "      <td>NaN</td>\n",
              "      <td>12</td>\n",
              "      <td>12</td>\n",
              "    </tr>\n",
              "    <tr>\n",
              "      <th>43</th>\n",
              "      <td>NaN</td>\n",
              "      <td>NaN</td>\n",
              "      <td>NaN</td>\n",
              "      <td>NaN</td>\n",
              "      <td>4</td>\n",
              "      <td>4</td>\n",
              "      <td>NaN</td>\n",
              "      <td>NaN</td>\n",
              "      <td>NaN</td>\n",
              "      <td>NaN</td>\n",
              "      <td>NaN</td>\n",
              "      <td>NaN</td>\n",
              "      <td>NaN</td>\n",
              "      <td>NaN</td>\n",
              "      <td>NaN</td>\n",
              "      <td>NaN</td>\n",
              "      <td>NaN</td>\n",
              "      <td>NaN</td>\n",
              "      <td>NaN</td>\n",
              "      <td>NaN</td>\n",
              "      <td>NaN</td>\n",
              "      <td>NaN</td>\n",
              "      <td>NaN</td>\n",
              "      <td>NaN</td>\n",
              "      <td>NaN</td>\n",
              "      <td>NaN</td>\n",
              "      <td>NaN</td>\n",
              "      <td>NaN</td>\n",
              "      <td>NaN</td>\n",
              "      <td>NaN</td>\n",
              "      <td>NaN</td>\n",
              "      <td>NaN</td>\n",
              "      <td>NaN</td>\n",
              "      <td>NaN</td>\n",
              "      <td>NaN</td>\n",
              "      <td>NaN</td>\n",
              "    </tr>\n",
              "  </tbody>\n",
              "</table>\n",
              "</div>"
            ],
            "text/plain": [
              "   Australia Unnamed: 3 Bangladesh  ... Unnamed: 35 Others Unnamed: 37\n",
              "39       NaN        NaN        NaN  ...         NaN    NaN         NaN\n",
              "40       NaN        NaN        NaN  ...         NaN    NaN         NaN\n",
              "41       NaN        NaN        NaN  ...         NaN    NaN         NaN\n",
              "42       NaN        NaN        NaN  ...         NaN     12          12\n",
              "43       NaN        NaN        NaN  ...         NaN    NaN         NaN\n",
              "\n",
              "[5 rows x 36 columns]"
            ]
          },
          "metadata": {
            "tags": []
          },
          "execution_count": 32
        }
      ]
    },
    {
      "cell_type": "code",
      "metadata": {
        "id": "vhgYlnVp7Ndc",
        "colab_type": "code",
        "outputId": "ab632466-25be-4b7b-b33f-449baa613865",
        "colab": {
          "base_uri": "https://localhost:8080/",
          "height": 110
        }
      },
      "source": [
        "kara_hotels2.head(2)"
      ],
      "execution_count": 0,
      "outputs": [
        {
          "output_type": "execute_result",
          "data": {
            "text/html": [
              "<div>\n",
              "<style scoped>\n",
              "    .dataframe tbody tr th:only-of-type {\n",
              "        vertical-align: middle;\n",
              "    }\n",
              "\n",
              "    .dataframe tbody tr th {\n",
              "        vertical-align: top;\n",
              "    }\n",
              "\n",
              "    .dataframe thead th {\n",
              "        text-align: right;\n",
              "    }\n",
              "</style>\n",
              "<table border=\"1\" class=\"dataframe\">\n",
              "  <thead>\n",
              "    <tr style=\"text-align: right;\">\n",
              "      <th></th>\n",
              "      <th>Unnamed: 1</th>\n",
              "    </tr>\n",
              "  </thead>\n",
              "  <tbody>\n",
              "    <tr>\n",
              "      <th>39</th>\n",
              "      <td>Royal Prince Lodge</td>\n",
              "    </tr>\n",
              "    <tr>\n",
              "      <th>40</th>\n",
              "      <td>Kumaran  Residency</td>\n",
              "    </tr>\n",
              "  </tbody>\n",
              "</table>\n",
              "</div>"
            ],
            "text/plain": [
              "            Unnamed: 1\n",
              "39  Royal Prince Lodge\n",
              "40  Kumaran  Residency"
            ]
          },
          "metadata": {
            "tags": []
          },
          "execution_count": 33
        }
      ]
    },
    {
      "cell_type": "code",
      "metadata": {
        "id": "yi7W1ocL7TDN",
        "colab_type": "code",
        "outputId": "f5f7b8e5-ac7d-4f80-a090-0343c3d9cccf",
        "colab": {
          "base_uri": "https://localhost:8080/",
          "height": 195
        }
      },
      "source": [
        "coll2 = pd.MultiIndex.from_product([country,['Tourists','BNS']])\n",
        "pondy_df2.set_axis(coll2, axis = 1, inplace = True)\n",
        "pondy_df2.insert(0,'Hotels',pondi_hotels2,True)\n",
        "pondy_df2.reset_index(inplace = True, drop = True)\n",
        "pondy_df2.head(2)"
      ],
      "execution_count": 0,
      "outputs": [
        {
          "output_type": "execute_result",
          "data": {
            "text/html": [
              "<div>\n",
              "<style scoped>\n",
              "    .dataframe tbody tr th:only-of-type {\n",
              "        vertical-align: middle;\n",
              "    }\n",
              "\n",
              "    .dataframe tbody tr th {\n",
              "        vertical-align: top;\n",
              "    }\n",
              "\n",
              "    .dataframe thead tr th {\n",
              "        text-align: left;\n",
              "    }\n",
              "</style>\n",
              "<table border=\"1\" class=\"dataframe\">\n",
              "  <thead>\n",
              "    <tr>\n",
              "      <th></th>\n",
              "      <th>Hotels</th>\n",
              "      <th colspan=\"2\" halign=\"left\">Australia</th>\n",
              "      <th colspan=\"2\" halign=\"left\">Bangladesh</th>\n",
              "      <th colspan=\"2\" halign=\"left\">Canada</th>\n",
              "      <th colspan=\"2\" halign=\"left\">France</th>\n",
              "      <th colspan=\"2\" halign=\"left\">Germany</th>\n",
              "      <th colspan=\"2\" halign=\"left\">Iran</th>\n",
              "      <th colspan=\"2\" halign=\"left\">Italy</th>\n",
              "      <th colspan=\"2\" halign=\"left\">Japan</th>\n",
              "      <th colspan=\"2\" halign=\"left\">Malasiya</th>\n",
              "      <th colspan=\"2\" halign=\"left\">Pakistan</th>\n",
              "      <th colspan=\"2\" halign=\"left\">Singapore</th>\n",
              "      <th colspan=\"2\" halign=\"left\">Soudi Arabia</th>\n",
              "      <th colspan=\"2\" halign=\"left\">Sri Lanka</th>\n",
              "      <th colspan=\"2\" halign=\"left\">Swoz</th>\n",
              "      <th colspan=\"2\" halign=\"left\">UAE</th>\n",
              "      <th colspan=\"2\" halign=\"left\">UK</th>\n",
              "      <th colspan=\"2\" halign=\"left\">USA</th>\n",
              "      <th colspan=\"2\" halign=\"left\">Others</th>\n",
              "    </tr>\n",
              "    <tr>\n",
              "      <th></th>\n",
              "      <th></th>\n",
              "      <th>Tourists</th>\n",
              "      <th>BNS</th>\n",
              "      <th>Tourists</th>\n",
              "      <th>BNS</th>\n",
              "      <th>Tourists</th>\n",
              "      <th>BNS</th>\n",
              "      <th>Tourists</th>\n",
              "      <th>BNS</th>\n",
              "      <th>Tourists</th>\n",
              "      <th>BNS</th>\n",
              "      <th>Tourists</th>\n",
              "      <th>BNS</th>\n",
              "      <th>Tourists</th>\n",
              "      <th>BNS</th>\n",
              "      <th>Tourists</th>\n",
              "      <th>BNS</th>\n",
              "      <th>Tourists</th>\n",
              "      <th>BNS</th>\n",
              "      <th>Tourists</th>\n",
              "      <th>BNS</th>\n",
              "      <th>Tourists</th>\n",
              "      <th>BNS</th>\n",
              "      <th>Tourists</th>\n",
              "      <th>BNS</th>\n",
              "      <th>Tourists</th>\n",
              "      <th>BNS</th>\n",
              "      <th>Tourists</th>\n",
              "      <th>BNS</th>\n",
              "      <th>Tourists</th>\n",
              "      <th>BNS</th>\n",
              "      <th>Tourists</th>\n",
              "      <th>BNS</th>\n",
              "      <th>Tourists</th>\n",
              "      <th>BNS</th>\n",
              "      <th>Tourists</th>\n",
              "      <th>BNS</th>\n",
              "    </tr>\n",
              "  </thead>\n",
              "  <tbody>\n",
              "    <tr>\n",
              "      <th>0</th>\n",
              "      <td>A La Villa Geole</td>\n",
              "      <td>1</td>\n",
              "      <td>4</td>\n",
              "      <td>NaN</td>\n",
              "      <td>NaN</td>\n",
              "      <td>6</td>\n",
              "      <td>10</td>\n",
              "      <td>5</td>\n",
              "      <td>10</td>\n",
              "      <td>3</td>\n",
              "      <td>6</td>\n",
              "      <td>2</td>\n",
              "      <td>4</td>\n",
              "      <td>NaN</td>\n",
              "      <td>NaN</td>\n",
              "      <td>NaN</td>\n",
              "      <td>NaN</td>\n",
              "      <td>NaN</td>\n",
              "      <td>NaN</td>\n",
              "      <td>NaN</td>\n",
              "      <td>NaN</td>\n",
              "      <td>NaN</td>\n",
              "      <td>NaN</td>\n",
              "      <td>NaN</td>\n",
              "      <td>NaN</td>\n",
              "      <td>NaN</td>\n",
              "      <td>NaN</td>\n",
              "      <td>NaN</td>\n",
              "      <td>NaN</td>\n",
              "      <td>NaN</td>\n",
              "      <td>NaN</td>\n",
              "      <td>NaN</td>\n",
              "      <td>NaN</td>\n",
              "      <td>NaN</td>\n",
              "      <td>NaN</td>\n",
              "      <td>NaN</td>\n",
              "      <td>NaN</td>\n",
              "    </tr>\n",
              "    <tr>\n",
              "      <th>1</th>\n",
              "      <td>Abirami Residency</td>\n",
              "      <td>5</td>\n",
              "      <td>5</td>\n",
              "      <td>NaN</td>\n",
              "      <td>NaN</td>\n",
              "      <td>3</td>\n",
              "      <td>3</td>\n",
              "      <td>10</td>\n",
              "      <td>10</td>\n",
              "      <td>1</td>\n",
              "      <td>1</td>\n",
              "      <td>NaN</td>\n",
              "      <td>NaN</td>\n",
              "      <td>NaN</td>\n",
              "      <td>NaN</td>\n",
              "      <td>NaN</td>\n",
              "      <td>NaN</td>\n",
              "      <td>10</td>\n",
              "      <td>10</td>\n",
              "      <td>NaN</td>\n",
              "      <td>NaN</td>\n",
              "      <td>NaN</td>\n",
              "      <td>NaN</td>\n",
              "      <td>NaN</td>\n",
              "      <td>NaN</td>\n",
              "      <td>NaN</td>\n",
              "      <td>NaN</td>\n",
              "      <td>2</td>\n",
              "      <td>2</td>\n",
              "      <td>NaN</td>\n",
              "      <td>NaN</td>\n",
              "      <td>5</td>\n",
              "      <td>5</td>\n",
              "      <td>12</td>\n",
              "      <td>12</td>\n",
              "      <td>NaN</td>\n",
              "      <td>NaN</td>\n",
              "    </tr>\n",
              "  </tbody>\n",
              "</table>\n",
              "</div>"
            ],
            "text/plain": [
              "              Hotels Australia     Bangladesh  ...      USA        Others     \n",
              "                      Tourists BNS   Tourists  ... Tourists  BNS Tourists  BNS\n",
              "0   A La Villa Geole         1   4        NaN  ...      NaN  NaN      NaN  NaN\n",
              "1  Abirami Residency         5   5        NaN  ...       12   12      NaN  NaN\n",
              "\n",
              "[2 rows x 37 columns]"
            ]
          },
          "metadata": {
            "tags": []
          },
          "execution_count": 34
        }
      ]
    },
    {
      "cell_type": "code",
      "metadata": {
        "id": "-hg8OXbh7pzF",
        "colab_type": "code",
        "outputId": "27bde4a3-71f8-4ef0-d362-4d9fd2bd58da",
        "colab": {
          "base_uri": "https://localhost:8080/",
          "height": 212
        }
      },
      "source": [
        "kara_df2.set_axis(coll2, axis = 1, inplace = True)\n",
        "kara_df2.insert(0,'Hotels',kara_hotels2,True)\n",
        "kara_df2.reset_index(inplace = True, drop = True)\n",
        "kara_df2.head(2)"
      ],
      "execution_count": 0,
      "outputs": [
        {
          "output_type": "execute_result",
          "data": {
            "text/html": [
              "<div>\n",
              "<style scoped>\n",
              "    .dataframe tbody tr th:only-of-type {\n",
              "        vertical-align: middle;\n",
              "    }\n",
              "\n",
              "    .dataframe tbody tr th {\n",
              "        vertical-align: top;\n",
              "    }\n",
              "\n",
              "    .dataframe thead tr th {\n",
              "        text-align: left;\n",
              "    }\n",
              "</style>\n",
              "<table border=\"1\" class=\"dataframe\">\n",
              "  <thead>\n",
              "    <tr>\n",
              "      <th></th>\n",
              "      <th>Hotels</th>\n",
              "      <th colspan=\"2\" halign=\"left\">Australia</th>\n",
              "      <th colspan=\"2\" halign=\"left\">Bangladesh</th>\n",
              "      <th colspan=\"2\" halign=\"left\">Canada</th>\n",
              "      <th colspan=\"2\" halign=\"left\">France</th>\n",
              "      <th colspan=\"2\" halign=\"left\">Germany</th>\n",
              "      <th colspan=\"2\" halign=\"left\">Iran</th>\n",
              "      <th colspan=\"2\" halign=\"left\">Italy</th>\n",
              "      <th colspan=\"2\" halign=\"left\">Japan</th>\n",
              "      <th colspan=\"2\" halign=\"left\">Malasiya</th>\n",
              "      <th colspan=\"2\" halign=\"left\">Pakistan</th>\n",
              "      <th colspan=\"2\" halign=\"left\">Singapore</th>\n",
              "      <th colspan=\"2\" halign=\"left\">Soudi Arabia</th>\n",
              "      <th colspan=\"2\" halign=\"left\">Sri Lanka</th>\n",
              "      <th colspan=\"2\" halign=\"left\">Swoz</th>\n",
              "      <th colspan=\"2\" halign=\"left\">UAE</th>\n",
              "      <th colspan=\"2\" halign=\"left\">UK</th>\n",
              "      <th colspan=\"2\" halign=\"left\">USA</th>\n",
              "      <th colspan=\"2\" halign=\"left\">Others</th>\n",
              "    </tr>\n",
              "    <tr>\n",
              "      <th></th>\n",
              "      <th></th>\n",
              "      <th>Tourists</th>\n",
              "      <th>BNS</th>\n",
              "      <th>Tourists</th>\n",
              "      <th>BNS</th>\n",
              "      <th>Tourists</th>\n",
              "      <th>BNS</th>\n",
              "      <th>Tourists</th>\n",
              "      <th>BNS</th>\n",
              "      <th>Tourists</th>\n",
              "      <th>BNS</th>\n",
              "      <th>Tourists</th>\n",
              "      <th>BNS</th>\n",
              "      <th>Tourists</th>\n",
              "      <th>BNS</th>\n",
              "      <th>Tourists</th>\n",
              "      <th>BNS</th>\n",
              "      <th>Tourists</th>\n",
              "      <th>BNS</th>\n",
              "      <th>Tourists</th>\n",
              "      <th>BNS</th>\n",
              "      <th>Tourists</th>\n",
              "      <th>BNS</th>\n",
              "      <th>Tourists</th>\n",
              "      <th>BNS</th>\n",
              "      <th>Tourists</th>\n",
              "      <th>BNS</th>\n",
              "      <th>Tourists</th>\n",
              "      <th>BNS</th>\n",
              "      <th>Tourists</th>\n",
              "      <th>BNS</th>\n",
              "      <th>Tourists</th>\n",
              "      <th>BNS</th>\n",
              "      <th>Tourists</th>\n",
              "      <th>BNS</th>\n",
              "      <th>Tourists</th>\n",
              "      <th>BNS</th>\n",
              "    </tr>\n",
              "  </thead>\n",
              "  <tbody>\n",
              "    <tr>\n",
              "      <th>0</th>\n",
              "      <td>Royal Prince Lodge</td>\n",
              "      <td>NaN</td>\n",
              "      <td>NaN</td>\n",
              "      <td>NaN</td>\n",
              "      <td>NaN</td>\n",
              "      <td>NaN</td>\n",
              "      <td>NaN</td>\n",
              "      <td>NaN</td>\n",
              "      <td>NaN</td>\n",
              "      <td>NaN</td>\n",
              "      <td>NaN</td>\n",
              "      <td>NaN</td>\n",
              "      <td>NaN</td>\n",
              "      <td>NaN</td>\n",
              "      <td>NaN</td>\n",
              "      <td>NaN</td>\n",
              "      <td>NaN</td>\n",
              "      <td>NaN</td>\n",
              "      <td>NaN</td>\n",
              "      <td>NaN</td>\n",
              "      <td>NaN</td>\n",
              "      <td>8</td>\n",
              "      <td>8</td>\n",
              "      <td>NaN</td>\n",
              "      <td>NaN</td>\n",
              "      <td>NaN</td>\n",
              "      <td>NaN</td>\n",
              "      <td>NaN</td>\n",
              "      <td>NaN</td>\n",
              "      <td>NaN</td>\n",
              "      <td>NaN</td>\n",
              "      <td>NaN</td>\n",
              "      <td>NaN</td>\n",
              "      <td>NaN</td>\n",
              "      <td>NaN</td>\n",
              "      <td>NaN</td>\n",
              "      <td>NaN</td>\n",
              "    </tr>\n",
              "    <tr>\n",
              "      <th>1</th>\n",
              "      <td>Kumaran  Residency</td>\n",
              "      <td>NaN</td>\n",
              "      <td>NaN</td>\n",
              "      <td>NaN</td>\n",
              "      <td>NaN</td>\n",
              "      <td>NaN</td>\n",
              "      <td>NaN</td>\n",
              "      <td>NaN</td>\n",
              "      <td>NaN</td>\n",
              "      <td>NaN</td>\n",
              "      <td>NaN</td>\n",
              "      <td>NaN</td>\n",
              "      <td>NaN</td>\n",
              "      <td>NaN</td>\n",
              "      <td>NaN</td>\n",
              "      <td>NaN</td>\n",
              "      <td>NaN</td>\n",
              "      <td>NaN</td>\n",
              "      <td>NaN</td>\n",
              "      <td>NaN</td>\n",
              "      <td>NaN</td>\n",
              "      <td>NaN</td>\n",
              "      <td>NaN</td>\n",
              "      <td>NaN</td>\n",
              "      <td>NaN</td>\n",
              "      <td>NaN</td>\n",
              "      <td>NaN</td>\n",
              "      <td>NaN</td>\n",
              "      <td>NaN</td>\n",
              "      <td>6</td>\n",
              "      <td>6</td>\n",
              "      <td>NaN</td>\n",
              "      <td>NaN</td>\n",
              "      <td>NaN</td>\n",
              "      <td>NaN</td>\n",
              "      <td>NaN</td>\n",
              "      <td>NaN</td>\n",
              "    </tr>\n",
              "  </tbody>\n",
              "</table>\n",
              "</div>"
            ],
            "text/plain": [
              "               Hotels Australia      Bangladesh  ...      USA        Others     \n",
              "                       Tourists  BNS   Tourists  ... Tourists  BNS Tourists  BNS\n",
              "0  Royal Prince Lodge       NaN  NaN        NaN  ...      NaN  NaN      NaN  NaN\n",
              "1  Kumaran  Residency       NaN  NaN        NaN  ...      NaN  NaN      NaN  NaN\n",
              "\n",
              "[2 rows x 37 columns]"
            ]
          },
          "metadata": {
            "tags": []
          },
          "execution_count": 35
        }
      ]
    },
    {
      "cell_type": "code",
      "metadata": {
        "id": "5f9ESFEW7y6d",
        "colab_type": "code",
        "outputId": "daf49d8f-57b8-41d1-ef6a-d40c965dbf70",
        "colab": {
          "base_uri": "https://localhost:8080/",
          "height": 34
        }
      },
      "source": [
        "pondy_df2.shape"
      ],
      "execution_count": 0,
      "outputs": [
        {
          "output_type": "execute_result",
          "data": {
            "text/plain": [
              "(33, 37)"
            ]
          },
          "metadata": {
            "tags": []
          },
          "execution_count": 36
        }
      ]
    },
    {
      "cell_type": "code",
      "metadata": {
        "id": "bgwM0k7F76Jy",
        "colab_type": "code",
        "outputId": "545c630f-d777-4a1f-944f-669ea9809162",
        "colab": {
          "base_uri": "https://localhost:8080/",
          "height": 34
        }
      },
      "source": [
        "kara_df2.shape"
      ],
      "execution_count": 0,
      "outputs": [
        {
          "output_type": "execute_result",
          "data": {
            "text/plain": [
              "(6, 37)"
            ]
          },
          "metadata": {
            "tags": []
          },
          "execution_count": 37
        }
      ]
    },
    {
      "cell_type": "markdown",
      "metadata": {
        "id": "u7tj6HN98xgc",
        "colab_type": "text"
      },
      "source": [
        "**DF_3 preparation**"
      ]
    },
    {
      "cell_type": "code",
      "metadata": {
        "id": "zPLwsKya84MJ",
        "colab_type": "code",
        "outputId": "d1d9b5e9-edfb-48e8-d019-e7cf820a0699",
        "colab": {
          "base_uri": "https://localhost:8080/",
          "height": 175
        }
      },
      "source": [
        "df3.columns"
      ],
      "execution_count": 0,
      "outputs": [
        {
          "output_type": "execute_result",
          "data": {
            "text/plain": [
              "Index(['Unnamed: 0', 'Unnamed: 1', 'Australia', 'Unnamed: 3', 'Bangladesh',\n",
              "       'Unnamed: 5', 'Canada', 'Unnamed: 7', 'France', 'Unnamed: 9', 'Germany',\n",
              "       'Unnamed: 11', 'Iran', 'Unnamed: 13', 'Italy', 'Unnamed: 15', 'Japan',\n",
              "       'Unnamed: 17', 'Malasiya', 'Unnamed: 19', 'Pakistan', 'Unnamed: 21',\n",
              "       'Singapore', 'Unnamed: 23', 'Soudi Arabia', 'Unnamed: 25', 'Sri Lanka',\n",
              "       'Unnamed: 27', 'Swoz', 'Unnamed: 29', 'UAE', 'Unnamed: 31', 'UK',\n",
              "       'Unnamed: 33', 'USA', 'Unnamed: 35', 'Others', 'Unnamed: 37',\n",
              "       'GRAND TOTAL', 'Unnamed: 39', 'Unnamed: 40', 'Unnamed: 41'],\n",
              "      dtype='object')"
            ]
          },
          "metadata": {
            "tags": []
          },
          "execution_count": 38
        }
      ]
    },
    {
      "cell_type": "code",
      "metadata": {
        "id": "RVGIa0Ro8-Ra",
        "colab_type": "code",
        "outputId": "c1544e12-32ea-45a9-e98e-f7ce0e3bfb95",
        "colab": {
          "base_uri": "https://localhost:8080/",
          "height": 34
        }
      },
      "source": [
        "df3.shape"
      ],
      "execution_count": 0,
      "outputs": [
        {
          "output_type": "execute_result",
          "data": {
            "text/plain": [
              "(243, 42)"
            ]
          },
          "metadata": {
            "tags": []
          },
          "execution_count": 39
        }
      ]
    },
    {
      "cell_type": "code",
      "metadata": {
        "id": "YikQUuYB9LiN",
        "colab_type": "code",
        "colab": {}
      },
      "source": [
        "df3.drop([ 'Unnamed: 40', 'Unnamed: 41'], axis = 1,inplace = True)"
      ],
      "execution_count": 0,
      "outputs": []
    },
    {
      "cell_type": "code",
      "metadata": {
        "id": "uv8jGez99WBt",
        "colab_type": "code",
        "outputId": "0bc080af-55f3-453e-8707-40af79e32ae6",
        "colab": {
          "base_uri": "https://localhost:8080/",
          "height": 54
        }
      },
      "source": [
        "dropper2 = []# selects those rows which should be dropped ; iloc[no of columns][no of rows]\n",
        "for i in range(len(df3)):\n",
        "    if df3.iloc(1)[38:39][i:1+i].values[0][0] == 0 or not pd.notna(df3.iloc(1)[38:39][i:1+i].values[0][0]):\n",
        "        #print(df3_2.iloc(1)[38:39][i:1+i].values[0][0])\n",
        "        if df3.iloc(1)[39:40][i:1+i].values[0][0] == 0 or not pd.notna(df3.iloc(1)[39:40][i:1+i].values[0][0]):\n",
        "            dropper2.append(i)\n",
        "print(dropper2)"
      ],
      "execution_count": 0,
      "outputs": [
        {
          "output_type": "stream",
          "text": [
            "[1, 2, 3, 4, 5, 7, 9, 11, 12, 13, 14, 15, 16, 18, 20, 21, 22, 24, 25, 26, 27, 28, 29, 30, 31, 32, 33, 34, 35, 36, 37, 38, 39, 41, 45, 47, 48, 49, 50, 51, 52, 53, 54, 55, 56, 57, 58, 59, 60, 61, 62, 64, 65, 66, 67, 68, 69, 70, 72, 73, 74, 75, 76, 77, 78, 79, 80, 81, 82, 83, 84, 85, 86, 89, 90, 91, 92, 93, 94, 95, 96, 97, 98, 99, 100, 101, 102, 107, 108, 109, 110, 111, 112, 113, 114, 115, 116, 117, 119, 120, 121, 122, 124, 125, 126, 127, 128, 129, 130, 131, 132, 133, 134, 136, 137, 138, 139, 140, 141, 142, 144, 145, 146, 148, 149, 150, 151, 152, 153, 154, 155, 156, 158, 159, 160, 161, 162, 163, 165, 166, 167, 168, 169, 170, 173, 175, 179, 180, 181, 182, 183, 184, 186, 188, 189, 190, 192, 193, 194, 196, 197, 199, 200, 201, 202, 203, 204, 205, 207, 208, 209, 210, 211, 212, 213, 215, 220, 221, 222, 224, 225, 226, 227, 228, 229, 230, 231, 233, 234, 235, 236, 237]\n"
          ],
          "name": "stdout"
        }
      ]
    },
    {
      "cell_type": "code",
      "metadata": {
        "id": "ztncTzT29_wg",
        "colab_type": "code",
        "outputId": "f3b8b4cf-9634-47c3-a846-915e2a4aea59",
        "colab": {
          "base_uri": "https://localhost:8080/",
          "height": 34
        }
      },
      "source": [
        "df3.drop(df3.index[dropper2],axis = 0, inplace = True)\n",
        "df3.reset_index(inplace = True, drop = True)\n",
        "df3.shape"
      ],
      "execution_count": 0,
      "outputs": [
        {
          "output_type": "execute_result",
          "data": {
            "text/plain": [
              "(51, 40)"
            ]
          },
          "metadata": {
            "tags": []
          },
          "execution_count": 42
        }
      ]
    },
    {
      "cell_type": "code",
      "metadata": {
        "id": "YLPqRGP9-Sup",
        "colab_type": "code",
        "outputId": "96bb3b9c-bef3-453e-b48d-4944a03d95eb",
        "colab": {
          "base_uri": "https://localhost:8080/",
          "height": 198
        }
      },
      "source": [
        "pondi_df3 = df3.iloc(1)[:][:1+df3[df3['Unnamed: 1'] == 'Lily Pool, Poornankuppam'].index[0]]\n",
        "pondi_df3.head(2)"
      ],
      "execution_count": 0,
      "outputs": [
        {
          "output_type": "execute_result",
          "data": {
            "text/html": [
              "<div>\n",
              "<style scoped>\n",
              "    .dataframe tbody tr th:only-of-type {\n",
              "        vertical-align: middle;\n",
              "    }\n",
              "\n",
              "    .dataframe tbody tr th {\n",
              "        vertical-align: top;\n",
              "    }\n",
              "\n",
              "    .dataframe thead th {\n",
              "        text-align: right;\n",
              "    }\n",
              "</style>\n",
              "<table border=\"1\" class=\"dataframe\">\n",
              "  <thead>\n",
              "    <tr style=\"text-align: right;\">\n",
              "      <th></th>\n",
              "      <th>Unnamed: 0</th>\n",
              "      <th>Unnamed: 1</th>\n",
              "      <th>Australia</th>\n",
              "      <th>Unnamed: 3</th>\n",
              "      <th>Bangladesh</th>\n",
              "      <th>Unnamed: 5</th>\n",
              "      <th>Canada</th>\n",
              "      <th>Unnamed: 7</th>\n",
              "      <th>France</th>\n",
              "      <th>Unnamed: 9</th>\n",
              "      <th>Germany</th>\n",
              "      <th>Unnamed: 11</th>\n",
              "      <th>Iran</th>\n",
              "      <th>Unnamed: 13</th>\n",
              "      <th>Italy</th>\n",
              "      <th>Unnamed: 15</th>\n",
              "      <th>Japan</th>\n",
              "      <th>Unnamed: 17</th>\n",
              "      <th>Malasiya</th>\n",
              "      <th>Unnamed: 19</th>\n",
              "      <th>Pakistan</th>\n",
              "      <th>Unnamed: 21</th>\n",
              "      <th>Singapore</th>\n",
              "      <th>Unnamed: 23</th>\n",
              "      <th>Soudi Arabia</th>\n",
              "      <th>Unnamed: 25</th>\n",
              "      <th>Sri Lanka</th>\n",
              "      <th>Unnamed: 27</th>\n",
              "      <th>Swoz</th>\n",
              "      <th>Unnamed: 29</th>\n",
              "      <th>UAE</th>\n",
              "      <th>Unnamed: 31</th>\n",
              "      <th>UK</th>\n",
              "      <th>Unnamed: 33</th>\n",
              "      <th>USA</th>\n",
              "      <th>Unnamed: 35</th>\n",
              "      <th>Others</th>\n",
              "      <th>Unnamed: 37</th>\n",
              "      <th>GRAND TOTAL</th>\n",
              "      <th>Unnamed: 39</th>\n",
              "    </tr>\n",
              "  </thead>\n",
              "  <tbody>\n",
              "    <tr>\n",
              "      <th>0</th>\n",
              "      <td>Sl.No.</td>\n",
              "      <td>Name of the Hotels</td>\n",
              "      <td>Nos</td>\n",
              "      <td>BNS</td>\n",
              "      <td>Nos</td>\n",
              "      <td>BNS</td>\n",
              "      <td>Nos</td>\n",
              "      <td>BNS</td>\n",
              "      <td>Nos</td>\n",
              "      <td>BNS</td>\n",
              "      <td>Nos</td>\n",
              "      <td>BNS</td>\n",
              "      <td>Nos</td>\n",
              "      <td>BNS</td>\n",
              "      <td>Nos</td>\n",
              "      <td>BNS</td>\n",
              "      <td>Nos</td>\n",
              "      <td>BNS</td>\n",
              "      <td>Nos</td>\n",
              "      <td>BNS</td>\n",
              "      <td>Nos</td>\n",
              "      <td>BNS</td>\n",
              "      <td>Nos</td>\n",
              "      <td>BNS</td>\n",
              "      <td>Nos</td>\n",
              "      <td>BNS</td>\n",
              "      <td>Nos</td>\n",
              "      <td>BNS</td>\n",
              "      <td>Nos</td>\n",
              "      <td>BNS</td>\n",
              "      <td>Nos</td>\n",
              "      <td>BNS</td>\n",
              "      <td>Nos</td>\n",
              "      <td>BNS</td>\n",
              "      <td>Nos</td>\n",
              "      <td>BNS</td>\n",
              "      <td>Nos</td>\n",
              "      <td>BNS</td>\n",
              "      <td>NOS</td>\n",
              "      <td>BNS</td>\n",
              "    </tr>\n",
              "    <tr>\n",
              "      <th>1</th>\n",
              "      <td>5</td>\n",
              "      <td>A La Villa Geole</td>\n",
              "      <td>NaN</td>\n",
              "      <td>NaN</td>\n",
              "      <td>NaN</td>\n",
              "      <td>NaN</td>\n",
              "      <td>NaN</td>\n",
              "      <td>NaN</td>\n",
              "      <td>7</td>\n",
              "      <td>10</td>\n",
              "      <td>1</td>\n",
              "      <td>1</td>\n",
              "      <td>NaN</td>\n",
              "      <td>NaN</td>\n",
              "      <td>NaN</td>\n",
              "      <td>NaN</td>\n",
              "      <td>NaN</td>\n",
              "      <td>NaN</td>\n",
              "      <td>NaN</td>\n",
              "      <td>NaN</td>\n",
              "      <td>NaN</td>\n",
              "      <td>NaN</td>\n",
              "      <td>NaN</td>\n",
              "      <td>NaN</td>\n",
              "      <td>NaN</td>\n",
              "      <td>NaN</td>\n",
              "      <td>NaN</td>\n",
              "      <td>NaN</td>\n",
              "      <td>NaN</td>\n",
              "      <td>NaN</td>\n",
              "      <td>NaN</td>\n",
              "      <td>NaN</td>\n",
              "      <td>NaN</td>\n",
              "      <td>NaN</td>\n",
              "      <td>NaN</td>\n",
              "      <td>NaN</td>\n",
              "      <td>NaN</td>\n",
              "      <td>NaN</td>\n",
              "      <td>8</td>\n",
              "      <td>11</td>\n",
              "    </tr>\n",
              "  </tbody>\n",
              "</table>\n",
              "</div>"
            ],
            "text/plain": [
              "  Unnamed: 0          Unnamed: 1 Australia  ... Unnamed: 37 GRAND TOTAL Unnamed: 39\n",
              "0     Sl.No.  Name of the Hotels       Nos  ...         BNS         NOS         BNS\n",
              "1          5    A La Villa Geole       NaN  ...         NaN           8          11\n",
              "\n",
              "[2 rows x 40 columns]"
            ]
          },
          "metadata": {
            "tags": []
          },
          "execution_count": 43
        }
      ]
    },
    {
      "cell_type": "code",
      "metadata": {
        "id": "9wyLc5Au-0dX",
        "colab_type": "code",
        "outputId": "3c87cdfa-c5b1-4bd9-bcf8-e38c4dcd1e59",
        "colab": {
          "base_uri": "https://localhost:8080/",
          "height": 34
        }
      },
      "source": [
        "pondi_df3.shape"
      ],
      "execution_count": 0,
      "outputs": [
        {
          "output_type": "execute_result",
          "data": {
            "text/plain": [
              "(36, 40)"
            ]
          },
          "metadata": {
            "tags": []
          },
          "execution_count": 44
        }
      ]
    },
    {
      "cell_type": "code",
      "metadata": {
        "id": "P7pXCG6a--Hn",
        "colab_type": "code",
        "outputId": "cf82be75-f607-4e74-fa45-ddd862225aa6",
        "colab": {
          "base_uri": "https://localhost:8080/",
          "height": 34
        }
      },
      "source": [
        "karaikal_df3 = df3.iloc[:][36:42]\n",
        "karaikal_df3.shape"
      ],
      "execution_count": 0,
      "outputs": [
        {
          "output_type": "execute_result",
          "data": {
            "text/plain": [
              "(6, 40)"
            ]
          },
          "metadata": {
            "tags": []
          },
          "execution_count": 45
        }
      ]
    },
    {
      "cell_type": "code",
      "metadata": {
        "id": "P30ZtHHB_Wcr",
        "colab_type": "code",
        "outputId": "193ceda8-4429-462e-e77e-1267ac1bb02a",
        "colab": {
          "base_uri": "https://localhost:8080/",
          "height": 203
        }
      },
      "source": [
        "pondy_df3 = pondi_df3.iloc(1)[3:39][2:] # selecting the hotels in pondi\n",
        "pondi_hotels3 = pondi_df3.iloc(1)[1:2][2:]# .iloc(1)[columns][rows] \n",
        "pondi_hotels3.head()"
      ],
      "execution_count": 0,
      "outputs": [
        {
          "output_type": "execute_result",
          "data": {
            "text/html": [
              "<div>\n",
              "<style scoped>\n",
              "    .dataframe tbody tr th:only-of-type {\n",
              "        vertical-align: middle;\n",
              "    }\n",
              "\n",
              "    .dataframe tbody tr th {\n",
              "        vertical-align: top;\n",
              "    }\n",
              "\n",
              "    .dataframe thead th {\n",
              "        text-align: right;\n",
              "    }\n",
              "</style>\n",
              "<table border=\"1\" class=\"dataframe\">\n",
              "  <thead>\n",
              "    <tr style=\"text-align: right;\">\n",
              "      <th></th>\n",
              "      <th>Unnamed: 1</th>\n",
              "    </tr>\n",
              "  </thead>\n",
              "  <tbody>\n",
              "    <tr>\n",
              "      <th>2</th>\n",
              "      <td>Abirami Residency</td>\n",
              "    </tr>\n",
              "    <tr>\n",
              "      <th>3</th>\n",
              "      <td>Ajantha Beach Guest House</td>\n",
              "    </tr>\n",
              "    <tr>\n",
              "      <th>4</th>\n",
              "      <td>Annai Residence</td>\n",
              "    </tr>\n",
              "    <tr>\n",
              "      <th>5</th>\n",
              "      <td>Annamalai International</td>\n",
              "    </tr>\n",
              "    <tr>\n",
              "      <th>6</th>\n",
              "      <td>Athithi Aikten/ Hotel Atithi</td>\n",
              "    </tr>\n",
              "  </tbody>\n",
              "</table>\n",
              "</div>"
            ],
            "text/plain": [
              "                     Unnamed: 1\n",
              "2             Abirami Residency\n",
              "3     Ajantha Beach Guest House\n",
              "4               Annai Residence\n",
              "5       Annamalai International\n",
              "6  Athithi Aikten/ Hotel Atithi"
            ]
          },
          "metadata": {
            "tags": []
          },
          "execution_count": 46
        }
      ]
    },
    {
      "cell_type": "code",
      "metadata": {
        "id": "xdE5BBWGAkOG",
        "colab_type": "code",
        "outputId": "d5b45016-4b97-4ae3-edc7-d3dfc6e85ba4",
        "colab": {
          "base_uri": "https://localhost:8080/",
          "height": 34
        }
      },
      "source": [
        "pondy_df3.shape"
      ],
      "execution_count": 0,
      "outputs": [
        {
          "output_type": "execute_result",
          "data": {
            "text/plain": [
              "(34, 36)"
            ]
          },
          "metadata": {
            "tags": []
          },
          "execution_count": 47
        }
      ]
    },
    {
      "cell_type": "code",
      "metadata": {
        "id": "cP4X545EAnJh",
        "colab_type": "code",
        "outputId": "add015b9-1a88-48bb-fd29-7f6ed8b2df5a",
        "colab": {
          "base_uri": "https://localhost:8080/",
          "height": 34
        }
      },
      "source": [
        "kara_df3 = karaikal_df3.iloc(1)[3:39][:]# .iloc(1)[columns][rows] \n",
        "kara_hotels3 = karaikal_df3.iloc(1)[2:3][:]# selecting the hotels in karaikal\n",
        "kara_df3.shape"
      ],
      "execution_count": 0,
      "outputs": [
        {
          "output_type": "execute_result",
          "data": {
            "text/plain": [
              "(6, 36)"
            ]
          },
          "metadata": {
            "tags": []
          },
          "execution_count": 48
        }
      ]
    },
    {
      "cell_type": "code",
      "metadata": {
        "id": "-rDwbpSBBTit",
        "colab_type": "code",
        "outputId": "7c061c91-e879-4fd5-c7e3-cbe4b8a7f86c",
        "colab": {
          "base_uri": "https://localhost:8080/",
          "height": 203
        }
      },
      "source": [
        "kara_hotels3.head()"
      ],
      "execution_count": 0,
      "outputs": [
        {
          "output_type": "execute_result",
          "data": {
            "text/html": [
              "<div>\n",
              "<style scoped>\n",
              "    .dataframe tbody tr th:only-of-type {\n",
              "        vertical-align: middle;\n",
              "    }\n",
              "\n",
              "    .dataframe tbody tr th {\n",
              "        vertical-align: top;\n",
              "    }\n",
              "\n",
              "    .dataframe thead th {\n",
              "        text-align: right;\n",
              "    }\n",
              "</style>\n",
              "<table border=\"1\" class=\"dataframe\">\n",
              "  <thead>\n",
              "    <tr style=\"text-align: right;\">\n",
              "      <th></th>\n",
              "      <th>Australia</th>\n",
              "    </tr>\n",
              "  </thead>\n",
              "  <tbody>\n",
              "    <tr>\n",
              "      <th>36</th>\n",
              "      <td>117</td>\n",
              "    </tr>\n",
              "    <tr>\n",
              "      <th>37</th>\n",
              "      <td>NaN</td>\n",
              "    </tr>\n",
              "    <tr>\n",
              "      <th>38</th>\n",
              "      <td>NaN</td>\n",
              "    </tr>\n",
              "    <tr>\n",
              "      <th>39</th>\n",
              "      <td>NaN</td>\n",
              "    </tr>\n",
              "    <tr>\n",
              "      <th>40</th>\n",
              "      <td>NaN</td>\n",
              "    </tr>\n",
              "  </tbody>\n",
              "</table>\n",
              "</div>"
            ],
            "text/plain": [
              "   Australia\n",
              "36       117\n",
              "37       NaN\n",
              "38       NaN\n",
              "39       NaN\n",
              "40       NaN"
            ]
          },
          "metadata": {
            "tags": []
          },
          "execution_count": 49
        }
      ]
    },
    {
      "cell_type": "code",
      "metadata": {
        "id": "QGaXkoYFBcMo",
        "colab_type": "code",
        "outputId": "3105a473-41f2-4f7d-a4c0-a57777c960d8",
        "colab": {
          "base_uri": "https://localhost:8080/",
          "height": 686
        }
      },
      "source": [
        "coll3 = pd.MultiIndex.from_product([country,['Tourists','BNS']])\n",
        "#print(len(coll3))\n",
        "pondy_df3.set_axis(coll3, axis = 1, inplace = True)\n",
        "pondy_df3.insert(0,'Hotels',pondi_hotels3,True)\n",
        "pondy_df3.reset_index(inplace = True, drop = True)\n",
        "pondy_df3.columns"
      ],
      "execution_count": 0,
      "outputs": [
        {
          "output_type": "execute_result",
          "data": {
            "text/plain": [
              "MultiIndex([(      'Hotels',         ''),\n",
              "            (   'Australia', 'Tourists'),\n",
              "            (   'Australia',      'BNS'),\n",
              "            (  'Bangladesh', 'Tourists'),\n",
              "            (  'Bangladesh',      'BNS'),\n",
              "            (      'Canada', 'Tourists'),\n",
              "            (      'Canada',      'BNS'),\n",
              "            (      'France', 'Tourists'),\n",
              "            (      'France',      'BNS'),\n",
              "            (     'Germany', 'Tourists'),\n",
              "            (     'Germany',      'BNS'),\n",
              "            (        'Iran', 'Tourists'),\n",
              "            (        'Iran',      'BNS'),\n",
              "            (       'Italy', 'Tourists'),\n",
              "            (       'Italy',      'BNS'),\n",
              "            (       'Japan', 'Tourists'),\n",
              "            (       'Japan',      'BNS'),\n",
              "            (    'Malasiya', 'Tourists'),\n",
              "            (    'Malasiya',      'BNS'),\n",
              "            (    'Pakistan', 'Tourists'),\n",
              "            (    'Pakistan',      'BNS'),\n",
              "            (   'Singapore', 'Tourists'),\n",
              "            (   'Singapore',      'BNS'),\n",
              "            ('Soudi Arabia', 'Tourists'),\n",
              "            ('Soudi Arabia',      'BNS'),\n",
              "            (   'Sri Lanka', 'Tourists'),\n",
              "            (   'Sri Lanka',      'BNS'),\n",
              "            (        'Swoz', 'Tourists'),\n",
              "            (        'Swoz',      'BNS'),\n",
              "            (         'UAE', 'Tourists'),\n",
              "            (         'UAE',      'BNS'),\n",
              "            (          'UK', 'Tourists'),\n",
              "            (          'UK',      'BNS'),\n",
              "            (         'USA', 'Tourists'),\n",
              "            (         'USA',      'BNS'),\n",
              "            (      'Others', 'Tourists'),\n",
              "            (      'Others',      'BNS')],\n",
              "           )"
            ]
          },
          "metadata": {
            "tags": []
          },
          "execution_count": 50
        }
      ]
    },
    {
      "cell_type": "code",
      "metadata": {
        "id": "6N_cyploBnFH",
        "colab_type": "code",
        "outputId": "6020302e-54f9-4a1d-9544-7b4251f8691a",
        "colab": {
          "base_uri": "https://localhost:8080/",
          "height": 34
        }
      },
      "source": [
        "kara_df3.set_axis(coll3, axis = 1, inplace = True)\n",
        "kara_df3.insert(0,'Hotels',kara_hotels3,True)\n",
        "kara_df3.reset_index(inplace = True, drop = True)\n",
        "kara_df3.shape"
      ],
      "execution_count": 0,
      "outputs": [
        {
          "output_type": "execute_result",
          "data": {
            "text/plain": [
              "(6, 37)"
            ]
          },
          "metadata": {
            "tags": []
          },
          "execution_count": 51
        }
      ]
    },
    {
      "cell_type": "code",
      "metadata": {
        "id": "UnCU0Y0UBypg",
        "colab_type": "code",
        "outputId": "893085a8-10f6-45fd-f2f6-a93b70d3e440",
        "colab": {
          "base_uri": "https://localhost:8080/",
          "height": 34
        }
      },
      "source": [
        "pondy_df3.shape"
      ],
      "execution_count": 0,
      "outputs": [
        {
          "output_type": "execute_result",
          "data": {
            "text/plain": [
              "(34, 37)"
            ]
          },
          "metadata": {
            "tags": []
          },
          "execution_count": 52
        }
      ]
    },
    {
      "cell_type": "code",
      "metadata": {
        "id": "w5KDBrdHCBfu",
        "colab_type": "code",
        "colab": {}
      },
      "source": [
        "nation  = pd.DataFrame(country)\n",
        "pondi.to_pickle('pondi_df1.pkl')\n",
        "karaikal.to_pickle('karaikal_df1.pkl')\n",
        "pondy_df2.to_pickle('pondi_df2.pkl')\n",
        "kara_df2.to_pickle('karaikal_df2.pkl')\n",
        "nation.to_pickle('nation_df.pkl')\n",
        "pondy_df3.to_pickle('pondi_df3.pkl')\n",
        "kara_df3.to_pickle('karaikal_df3.pkl')"
      ],
      "execution_count": 0,
      "outputs": []
    },
    {
      "cell_type": "code",
      "metadata": {
        "id": "8BdG7WevfUI5",
        "colab_type": "code",
        "colab": {}
      },
      "source": [
        ""
      ],
      "execution_count": 0,
      "outputs": []
    }
  ]
}