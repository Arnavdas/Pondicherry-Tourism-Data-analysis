{
  "nbformat": 4,
  "nbformat_minor": 0,
  "metadata": {
    "colab": {
      "name": "Pondi Tourist data preprocessing.ipynb",
      "provenance": [],
      "collapsed_sections": [],
      "include_colab_link": true
    },
    "kernelspec": {
      "name": "python3",
      "display_name": "Python 3"
    }
  },
  "cells": [
    {
      "cell_type": "markdown",
      "metadata": {
        "id": "view-in-github",
        "colab_type": "text"
      },
      "source": [
        "<a href=\"https://colab.research.google.com/github/Arnavdas/Pondicherry-Tourism-Data-analysis/blob/master/Pondi_Tourist_data_preprocessing.ipynb\" target=\"_parent\"><img src=\"https://colab.research.google.com/assets/colab-badge.svg\" alt=\"Open In Colab\"/></a>"
      ]
    },
    {
      "cell_type": "code",
      "metadata": {
        "id": "LKwztdt_hy36",
        "colab_type": "code",
        "colab": {
          "resources": {
            "http://localhost:8080/nbextensions/google.colab/files.js": {
              "data": "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",
              "ok": true,
              "headers": [
                [
                  "content-type",
                  "application/javascript"
                ]
              ],
              "status": 200,
              "status_text": ""
            }
          },
          "base_uri": "https://localhost:8080/",
          "height": 92
        },
        "outputId": "a273e1f1-d543-4d8c-b7ce-823b9513bd76"
      },
      "source": [
        "import xlrd \n",
        "import os\n",
        "import pandas as pd\n",
        "import numpy as np\n",
        "import io\n",
        "import seaborn as sns\n",
        "import matplotlib.pyplot as plt\n",
        "from google.colab import files\n",
        "uploaded = files.upload()\n"
      ],
      "execution_count": 2,
      "outputs": [
        {
          "output_type": "display_data",
          "data": {
            "text/html": [
              "\n",
              "     <input type=\"file\" id=\"files-fc62532f-7370-4fde-9172-38a1a297d98d\" name=\"files[]\" multiple disabled />\n",
              "     <output id=\"result-fc62532f-7370-4fde-9172-38a1a297d98d\">\n",
              "      Upload widget is only available when the cell has been executed in the\n",
              "      current browser session. Please rerun this cell to enable.\n",
              "      </output>\n",
              "      <script src=\"/nbextensions/google.colab/files.js\"></script> "
            ],
            "text/plain": [
              "<IPython.core.display.HTML object>"
            ]
          },
          "metadata": {
            "tags": []
          }
        },
        {
          "output_type": "stream",
          "text": [
            "Saving Quarter-I,2018-sample - (1).xlsx to Quarter-I,2018-sample - (1).xlsx\n"
          ],
          "name": "stdout"
        }
      ]
    },
    {
      "cell_type": "code",
      "metadata": {
        "id": "mfAFmPfn9KrN",
        "colab_type": "code",
        "colab": {}
      },
      "source": [
        "xls = pd.ExcelFile(io.BytesIO(uploaded['Quarter-I,2018-sample - (1).xlsx']))\n",
        "#xls = pd.ExcelFile('C:/Users/LENOVO/Desktop/Quarter-I,2018-sample - (1).xlsx')\n",
        "df1 = pd.read_excel(xls, 'WS-Form I')\n",
        "df2 = pd.read_excel(xls, 'Jan18')\n",
        "df3 = pd.read_excel(xls, 'Feb18')"
      ],
      "execution_count": 0,
      "outputs": []
    },
    {
      "cell_type": "code",
      "metadata": {
        "id": "x5F1oByS-Yc1",
        "colab_type": "code",
        "colab": {}
      },
      "source": [
        "sns.set_style('whitegrid')"
      ],
      "execution_count": 0,
      "outputs": []
    },
    {
      "cell_type": "code",
      "metadata": {
        "id": "gsCARpmFjunj",
        "colab_type": "code",
        "outputId": "371ecaad-08e6-46f1-e01f-fe7875e748d2",
        "colab": {
          "base_uri": "https://localhost:8080/",
          "height": 122
        }
      },
      "source": [
        "df1.columns"
      ],
      "execution_count": 4,
      "outputs": [
        {
          "output_type": "execute_result",
          "data": {
            "text/plain": [
              "Index(['Unnamed: 0', 'Name of the Hotels',\n",
              "       'MONTHLY DATA ON NUMBER OF GUESTS CHECKED IN AND THEIR B. N. S.',\n",
              "       'Unnamed: 3', 'Unnamed: 4', 'Unnamed: 5', 'Unnamed: 6', 'Unnamed: 7',\n",
              "       'Unnamed: 8', 'Unnamed: 9', 'Unnamed: 10', 'Unnamed: 11', 'Unnamed: 12',\n",
              "       'Unnamed: 13', 'Unnamed: 14', 'Unnamed: 15'],\n",
              "      dtype='object')"
            ]
          },
          "metadata": {
            "tags": []
          },
          "execution_count": 4
        }
      ]
    },
    {
      "cell_type": "code",
      "metadata": {
        "id": "VuYuYTKtlnhb",
        "colab_type": "code",
        "outputId": "1b0113b9-2327-4455-ec06-e1da6de6de89",
        "colab": {
          "base_uri": "https://localhost:8080/",
          "height": 34
        }
      },
      "source": [
        "df1.shape"
      ],
      "execution_count": 5,
      "outputs": [
        {
          "output_type": "execute_result",
          "data": {
            "text/plain": [
              "(272, 16)"
            ]
          },
          "metadata": {
            "tags": []
          },
          "execution_count": 5
        }
      ]
    },
    {
      "cell_type": "code",
      "metadata": {
        "id": "r2OlgbZgrNE4",
        "colab_type": "code",
        "outputId": "09ad81b0-8ec0-4976-ba36-ffa340aded13",
        "colab": {
          "base_uri": "https://localhost:8080/",
          "height": 301
        }
      },
      "source": [
        "df1.head(2)"
      ],
      "execution_count": 6,
      "outputs": [
        {
          "output_type": "execute_result",
          "data": {
            "text/html": [
              "<div>\n",
              "<style scoped>\n",
              "    .dataframe tbody tr th:only-of-type {\n",
              "        vertical-align: middle;\n",
              "    }\n",
              "\n",
              "    .dataframe tbody tr th {\n",
              "        vertical-align: top;\n",
              "    }\n",
              "\n",
              "    .dataframe thead th {\n",
              "        text-align: right;\n",
              "    }\n",
              "</style>\n",
              "<table border=\"1\" class=\"dataframe\">\n",
              "  <thead>\n",
              "    <tr style=\"text-align: right;\">\n",
              "      <th></th>\n",
              "      <th>Unnamed: 0</th>\n",
              "      <th>Name of the Hotels</th>\n",
              "      <th>MONTHLY DATA ON NUMBER OF GUESTS CHECKED IN AND THEIR B. N. S.</th>\n",
              "      <th>Unnamed: 3</th>\n",
              "      <th>Unnamed: 4</th>\n",
              "      <th>Unnamed: 5</th>\n",
              "      <th>Unnamed: 6</th>\n",
              "      <th>Unnamed: 7</th>\n",
              "      <th>Unnamed: 8</th>\n",
              "      <th>Unnamed: 9</th>\n",
              "      <th>Unnamed: 10</th>\n",
              "      <th>Unnamed: 11</th>\n",
              "      <th>Unnamed: 12</th>\n",
              "      <th>Unnamed: 13</th>\n",
              "      <th>Unnamed: 14</th>\n",
              "      <th>Unnamed: 15</th>\n",
              "    </tr>\n",
              "  </thead>\n",
              "  <tbody>\n",
              "    <tr>\n",
              "      <th>0</th>\n",
              "      <td>NaN</td>\n",
              "      <td>NaN</td>\n",
              "      <td>Jan'2018</td>\n",
              "      <td>NaN</td>\n",
              "      <td>NaN</td>\n",
              "      <td>NaN</td>\n",
              "      <td>Feb'2018</td>\n",
              "      <td>NaN</td>\n",
              "      <td>NaN</td>\n",
              "      <td>NaN</td>\n",
              "      <td>Mar'2018</td>\n",
              "      <td>NaN</td>\n",
              "      <td>NaN</td>\n",
              "      <td>NaN</td>\n",
              "      <td>NaN</td>\n",
              "      <td>NaN</td>\n",
              "    </tr>\n",
              "    <tr>\n",
              "      <th>1</th>\n",
              "      <td>NaN</td>\n",
              "      <td>NaN</td>\n",
              "      <td>No.of Tourists</td>\n",
              "      <td>NaN</td>\n",
              "      <td>B.N.S.</td>\n",
              "      <td>NaN</td>\n",
              "      <td>No. of Tourists</td>\n",
              "      <td>NaN</td>\n",
              "      <td>B.N.S</td>\n",
              "      <td>NaN</td>\n",
              "      <td>No. of Tourists</td>\n",
              "      <td>NaN</td>\n",
              "      <td>B.N.S.</td>\n",
              "      <td>NaN</td>\n",
              "      <td>NaN</td>\n",
              "      <td>NaN</td>\n",
              "    </tr>\n",
              "  </tbody>\n",
              "</table>\n",
              "</div>"
            ],
            "text/plain": [
              "  Unnamed: 0 Name of the Hotels  ... Unnamed: 14 Unnamed: 15\n",
              "0        NaN                NaN  ...         NaN         NaN\n",
              "1        NaN                NaN  ...         NaN         NaN\n",
              "\n",
              "[2 rows x 16 columns]"
            ]
          },
          "metadata": {
            "tags": []
          },
          "execution_count": 6
        }
      ]
    },
    {
      "cell_type": "code",
      "metadata": {
        "id": "cWEr0dVFl4wp",
        "colab_type": "code",
        "outputId": "9837c643-c8cf-4612-cb2c-1f18928d637a",
        "colab": {
          "base_uri": "https://localhost:8080/",
          "height": 34
        }
      },
      "source": [
        "tags = df1.iloc(1)[1:14][0:]# ignores/trims unnecessary columns for df1 table\n",
        "tags.shape"
      ],
      "execution_count": 7,
      "outputs": [
        {
          "output_type": "execute_result",
          "data": {
            "text/plain": [
              "(272, 13)"
            ]
          },
          "metadata": {
            "tags": []
          },
          "execution_count": 7
        }
      ]
    },
    {
      "cell_type": "code",
      "metadata": {
        "id": "dFiPWsZzwnpd",
        "colab_type": "code",
        "outputId": "7ee89ae2-274b-4d18-a402-e7a85360e135",
        "colab": {
          "base_uri": "https://localhost:8080/",
          "height": 301
        }
      },
      "source": [
        "tags.iloc(1)[1:][:].head(2)# omits the hotel columns"
      ],
      "execution_count": 8,
      "outputs": [
        {
          "output_type": "execute_result",
          "data": {
            "text/html": [
              "<div>\n",
              "<style scoped>\n",
              "    .dataframe tbody tr th:only-of-type {\n",
              "        vertical-align: middle;\n",
              "    }\n",
              "\n",
              "    .dataframe tbody tr th {\n",
              "        vertical-align: top;\n",
              "    }\n",
              "\n",
              "    .dataframe thead th {\n",
              "        text-align: right;\n",
              "    }\n",
              "</style>\n",
              "<table border=\"1\" class=\"dataframe\">\n",
              "  <thead>\n",
              "    <tr style=\"text-align: right;\">\n",
              "      <th></th>\n",
              "      <th>MONTHLY DATA ON NUMBER OF GUESTS CHECKED IN AND THEIR B. N. S.</th>\n",
              "      <th>Unnamed: 3</th>\n",
              "      <th>Unnamed: 4</th>\n",
              "      <th>Unnamed: 5</th>\n",
              "      <th>Unnamed: 6</th>\n",
              "      <th>Unnamed: 7</th>\n",
              "      <th>Unnamed: 8</th>\n",
              "      <th>Unnamed: 9</th>\n",
              "      <th>Unnamed: 10</th>\n",
              "      <th>Unnamed: 11</th>\n",
              "      <th>Unnamed: 12</th>\n",
              "      <th>Unnamed: 13</th>\n",
              "    </tr>\n",
              "  </thead>\n",
              "  <tbody>\n",
              "    <tr>\n",
              "      <th>0</th>\n",
              "      <td>Jan'2018</td>\n",
              "      <td>NaN</td>\n",
              "      <td>NaN</td>\n",
              "      <td>NaN</td>\n",
              "      <td>Feb'2018</td>\n",
              "      <td>NaN</td>\n",
              "      <td>NaN</td>\n",
              "      <td>NaN</td>\n",
              "      <td>Mar'2018</td>\n",
              "      <td>NaN</td>\n",
              "      <td>NaN</td>\n",
              "      <td>NaN</td>\n",
              "    </tr>\n",
              "    <tr>\n",
              "      <th>1</th>\n",
              "      <td>No.of Tourists</td>\n",
              "      <td>NaN</td>\n",
              "      <td>B.N.S.</td>\n",
              "      <td>NaN</td>\n",
              "      <td>No. of Tourists</td>\n",
              "      <td>NaN</td>\n",
              "      <td>B.N.S</td>\n",
              "      <td>NaN</td>\n",
              "      <td>No. of Tourists</td>\n",
              "      <td>NaN</td>\n",
              "      <td>B.N.S.</td>\n",
              "      <td>NaN</td>\n",
              "    </tr>\n",
              "  </tbody>\n",
              "</table>\n",
              "</div>"
            ],
            "text/plain": [
              "  MONTHLY DATA ON NUMBER OF GUESTS CHECKED IN AND THEIR B. N. S.  ... Unnamed: 13\n",
              "0                                           Jan'2018              ...         NaN\n",
              "1                                     No.of Tourists              ...         NaN\n",
              "\n",
              "[2 rows x 12 columns]"
            ]
          },
          "metadata": {
            "tags": []
          },
          "execution_count": 8
        }
      ]
    },
    {
      "cell_type": "code",
      "metadata": {
        "id": "O0zeObo8v-fN",
        "colab_type": "code",
        "outputId": "7e972687-81f8-441e-c0d5-26ecb92f7cdf",
        "colab": {
          "base_uri": "https://localhost:8080/",
          "height": 34
        }
      },
      "source": [
        "hh = []\n",
        "for j in range(len(tags)):\n",
        "        t = pd.notna(tags.iloc(1)[1:][j:j+1].to_numpy()).any() #checks if all values in a row are nan(dropna won't work here)\n",
        "        if not t:\n",
        "            hh.append(j)\n",
        "#print(hh)\n",
        "tags.drop(tags.index[hh],inplace = True) \n",
        "tags.shape"
      ],
      "execution_count": 9,
      "outputs": [
        {
          "output_type": "execute_result",
          "data": {
            "text/plain": [
              "(73, 13)"
            ]
          },
          "metadata": {
            "tags": []
          },
          "execution_count": 9
        }
      ]
    },
    {
      "cell_type": "code",
      "metadata": {
        "id": "7AGmsOaYy3ht",
        "colab_type": "code",
        "colab": {}
      },
      "source": [
        "# separates 3 regions in pondicherry\n",
        "pondi = tags[:14]\n",
        "karaikal = tags[17:53]\n",
        "yanam  = tags[59:67]"
      ],
      "execution_count": 0,
      "outputs": []
    },
    {
      "cell_type": "code",
      "metadata": {
        "id": "cv-27H4e-yT-",
        "colab_type": "code",
        "colab": {
          "base_uri": "https://localhost:8080/",
          "height": 1000
        },
        "outputId": "35821432-a97c-49e1-bec5-6acaeba83284"
      },
      "source": [
        "sns.heatmap(pondi.notna(), yticklabels = False, cbar=False,cmap='viridis')\n",
        "plt.show()\n",
        "sns.heatmap(karaikal.notna(), yticklabels = False, cbar=False,cmap='viridis')\n",
        "plt.show()\n",
        "sns.heatmap(yanam.notna(), yticklabels = False, cbar=False,cmap='viridis')\n",
        "plt.show()"
      ],
      "execution_count": 57,
      "outputs": [
        {
          "output_type": "display_data",
          "data": {
            "image/png": "[encoded data removed]",
            "text/plain": [
              "<Figure size 432x288 with 1 Axes>"
            ]
          },
          "metadata": {
            "tags": []
          }
        },
        {
          "output_type": "display_data",
          "data": {
            "image/png": "[encoded data removed]",
            "text/plain": [
              "<Figure size 432x288 with 1 Axes>"
            ]
          },
          "metadata": {
            "tags": []
          }
        },
        {
          "output_type": "display_data",
          "data": {
            "image/png": "[encoded data removed]",
            "text/plain": [
              "<Figure size 432x288 with 1 Axes>"
            ]
          },
          "metadata": {
            "tags": []
          }
        }
      ]
    },
    {
      "cell_type": "code",
      "metadata": {
        "id": "o8ZtcutLzad4",
        "colab_type": "code",
        "colab": {}
      },
      "source": [
        "# hotels of 3 places\n",
        "pondi_hotels = pondi.iloc(1)[:1][3:]\n",
        "karaikal_hotels = karaikal.iloc(1)[:1][2:]\n",
        "yanam_hotels = yanam.iloc(1)[:1][4:]"
      ],
      "execution_count": 0,
      "outputs": []
    },
    {
      "cell_type": "code",
      "metadata": {
        "id": "SZOv2Mp7z4AP",
        "colab_type": "code",
        "colab": {}
      },
      "source": [
        "# creating multindex for setting up tables\n",
        "yanam = yanam.iloc(1)[1:][4:]; pondi = pondi.iloc(1)[1:][3:]; karaikal = karaikal.iloc(1)[1:][2:]\n",
        "coll = pd.MultiIndex.from_product([['Jan 2018','Feb 2018','Mar 2018'],['Tourists','BNS'],['Indians','Foreigners']])\n",
        "yanam.set_axis(coll, axis = 1, inplace = True)\n",
        "pondi.set_axis(coll, axis = 1, inplace = True)\n",
        "karaikal.set_axis(coll, axis = 1, inplace = True)"
      ],
      "execution_count": 0,
      "outputs": []
    },
    {
      "cell_type": "code",
      "metadata": {
        "id": "HvANJRcr0HTx",
        "colab_type": "code",
        "colab": {}
      },
      "source": [
        "# respective hotels are inserted back to the table\n",
        "yanam.insert(0,'Hotels',yanam_hotels,True)\n",
        "pondi.insert(0,'Hotels',pondi_hotels,True)\n",
        "karaikal.insert(0,'Hotels',karaikal_hotels,True)\n",
        "pondi.reset_index(inplace = True)\n",
        "yanam.reset_index(inplace = True)\n",
        "karaikal.reset_index(inplace = True)"
      ],
      "execution_count": 0,
      "outputs": []
    },
    {
      "cell_type": "code",
      "metadata": {
        "id": "C6ji_vOx0duT",
        "colab_type": "code",
        "outputId": "3a595042-3972-4aa7-c014-14c7e0524ff6",
        "colab": {
          "base_uri": "https://localhost:8080/",
          "height": 243
        }
      },
      "source": [
        "yanam.head(2)"
      ],
      "execution_count": 14,
      "outputs": [
        {
          "output_type": "execute_result",
          "data": {
            "text/html": [
              "<div>\n",
              "<style scoped>\n",
              "    .dataframe tbody tr th:only-of-type {\n",
              "        vertical-align: middle;\n",
              "    }\n",
              "\n",
              "    .dataframe tbody tr th {\n",
              "        vertical-align: top;\n",
              "    }\n",
              "\n",
              "    .dataframe thead tr th {\n",
              "        text-align: left;\n",
              "    }\n",
              "</style>\n",
              "<table border=\"1\" class=\"dataframe\">\n",
              "  <thead>\n",
              "    <tr>\n",
              "      <th></th>\n",
              "      <th>index</th>\n",
              "      <th>Hotels</th>\n",
              "      <th colspan=\"4\" halign=\"left\">Jan 2018</th>\n",
              "      <th colspan=\"4\" halign=\"left\">Feb 2018</th>\n",
              "      <th colspan=\"4\" halign=\"left\">Mar 2018</th>\n",
              "    </tr>\n",
              "    <tr>\n",
              "      <th></th>\n",
              "      <th></th>\n",
              "      <th></th>\n",
              "      <th colspan=\"2\" halign=\"left\">Tourists</th>\n",
              "      <th colspan=\"2\" halign=\"left\">BNS</th>\n",
              "      <th colspan=\"2\" halign=\"left\">Tourists</th>\n",
              "      <th colspan=\"2\" halign=\"left\">BNS</th>\n",
              "      <th colspan=\"2\" halign=\"left\">Tourists</th>\n",
              "      <th colspan=\"2\" halign=\"left\">BNS</th>\n",
              "    </tr>\n",
              "    <tr>\n",
              "      <th></th>\n",
              "      <th></th>\n",
              "      <th></th>\n",
              "      <th>Indians</th>\n",
              "      <th>Foreigners</th>\n",
              "      <th>Indians</th>\n",
              "      <th>Foreigners</th>\n",
              "      <th>Indians</th>\n",
              "      <th>Foreigners</th>\n",
              "      <th>Indians</th>\n",
              "      <th>Foreigners</th>\n",
              "      <th>Indians</th>\n",
              "      <th>Foreigners</th>\n",
              "      <th>Indians</th>\n",
              "      <th>Foreigners</th>\n",
              "    </tr>\n",
              "  </thead>\n",
              "  <tbody>\n",
              "    <tr>\n",
              "      <th>0</th>\n",
              "      <td>253</td>\n",
              "      <td>Govt. Guest House</td>\n",
              "      <td>880</td>\n",
              "      <td>NaN</td>\n",
              "      <td>440</td>\n",
              "      <td>NaN</td>\n",
              "      <td>892</td>\n",
              "      <td>NaN</td>\n",
              "      <td>446</td>\n",
              "      <td>NaN</td>\n",
              "      <td>788</td>\n",
              "      <td>NaN</td>\n",
              "      <td>384</td>\n",
              "      <td>NaN</td>\n",
              "    </tr>\n",
              "    <tr>\n",
              "      <th>1</th>\n",
              "      <td>255</td>\n",
              "      <td>G.V.S. Residency</td>\n",
              "      <td>2175</td>\n",
              "      <td>NaN</td>\n",
              "      <td>2175</td>\n",
              "      <td>NaN</td>\n",
              "      <td>1988</td>\n",
              "      <td>NaN</td>\n",
              "      <td>1988</td>\n",
              "      <td>NaN</td>\n",
              "      <td>2226</td>\n",
              "      <td>NaN</td>\n",
              "      <td>2226</td>\n",
              "      <td>NaN</td>\n",
              "    </tr>\n",
              "  </tbody>\n",
              "</table>\n",
              "</div>"
            ],
            "text/plain": [
              "  index             Hotels Jan 2018  ...   Mar 2018                   \n",
              "                           Tourists  ...   Tourists     BNS           \n",
              "                            Indians  ... Foreigners Indians Foreigners\n",
              "0   253  Govt. Guest House      880  ...        NaN     384        NaN\n",
              "1   255   G.V.S. Residency     2175  ...        NaN    2226        NaN\n",
              "\n",
              "[2 rows x 14 columns]"
            ]
          },
          "metadata": {
            "tags": []
          },
          "execution_count": 14
        }
      ]
    },
    {
      "cell_type": "code",
      "metadata": {
        "id": "s7knlQ7P0YmN",
        "colab_type": "code",
        "outputId": "ec40460f-d4b3-4c15-8b7b-fe0b62147c95",
        "colab": {
          "base_uri": "https://localhost:8080/",
          "height": 260
        }
      },
      "source": [
        "pondi.head(2)"
      ],
      "execution_count": 15,
      "outputs": [
        {
          "output_type": "execute_result",
          "data": {
            "text/html": [
              "<div>\n",
              "<style scoped>\n",
              "    .dataframe tbody tr th:only-of-type {\n",
              "        vertical-align: middle;\n",
              "    }\n",
              "\n",
              "    .dataframe tbody tr th {\n",
              "        vertical-align: top;\n",
              "    }\n",
              "\n",
              "    .dataframe thead tr th {\n",
              "        text-align: left;\n",
              "    }\n",
              "</style>\n",
              "<table border=\"1\" class=\"dataframe\">\n",
              "  <thead>\n",
              "    <tr>\n",
              "      <th></th>\n",
              "      <th>index</th>\n",
              "      <th>Hotels</th>\n",
              "      <th colspan=\"4\" halign=\"left\">Jan 2018</th>\n",
              "      <th colspan=\"4\" halign=\"left\">Feb 2018</th>\n",
              "      <th colspan=\"4\" halign=\"left\">Mar 2018</th>\n",
              "    </tr>\n",
              "    <tr>\n",
              "      <th></th>\n",
              "      <th></th>\n",
              "      <th></th>\n",
              "      <th colspan=\"2\" halign=\"left\">Tourists</th>\n",
              "      <th colspan=\"2\" halign=\"left\">BNS</th>\n",
              "      <th colspan=\"2\" halign=\"left\">Tourists</th>\n",
              "      <th colspan=\"2\" halign=\"left\">BNS</th>\n",
              "      <th colspan=\"2\" halign=\"left\">Tourists</th>\n",
              "      <th colspan=\"2\" halign=\"left\">BNS</th>\n",
              "    </tr>\n",
              "    <tr>\n",
              "      <th></th>\n",
              "      <th></th>\n",
              "      <th></th>\n",
              "      <th>Indians</th>\n",
              "      <th>Foreigners</th>\n",
              "      <th>Indians</th>\n",
              "      <th>Foreigners</th>\n",
              "      <th>Indians</th>\n",
              "      <th>Foreigners</th>\n",
              "      <th>Indians</th>\n",
              "      <th>Foreigners</th>\n",
              "      <th>Indians</th>\n",
              "      <th>Foreigners</th>\n",
              "      <th>Indians</th>\n",
              "      <th>Foreigners</th>\n",
              "    </tr>\n",
              "  </thead>\n",
              "  <tbody>\n",
              "    <tr>\n",
              "      <th>0</th>\n",
              "      <td>4</td>\n",
              "      <td>Govt.Tourist Home, Upallam</td>\n",
              "      <td>802</td>\n",
              "      <td>NaN</td>\n",
              "      <td>782</td>\n",
              "      <td>NaN</td>\n",
              "      <td>781</td>\n",
              "      <td>NaN</td>\n",
              "      <td>705</td>\n",
              "      <td>NaN</td>\n",
              "      <td>836</td>\n",
              "      <td>NaN</td>\n",
              "      <td>821</td>\n",
              "      <td>NaN</td>\n",
              "    </tr>\n",
              "    <tr>\n",
              "      <th>1</th>\n",
              "      <td>6</td>\n",
              "      <td>Youth Hostel, Solai Nagar</td>\n",
              "      <td>1199</td>\n",
              "      <td>NaN</td>\n",
              "      <td>1190</td>\n",
              "      <td>NaN</td>\n",
              "      <td>1592</td>\n",
              "      <td>NaN</td>\n",
              "      <td>1125</td>\n",
              "      <td>NaN</td>\n",
              "      <td>1160</td>\n",
              "      <td>NaN</td>\n",
              "      <td>832</td>\n",
              "      <td>NaN</td>\n",
              "    </tr>\n",
              "  </tbody>\n",
              "</table>\n",
              "</div>"
            ],
            "text/plain": [
              "  index                      Hotels Jan 2018  ...   Mar 2018                   \n",
              "                                    Tourists  ...   Tourists     BNS           \n",
              "                                     Indians  ... Foreigners Indians Foreigners\n",
              "0     4  Govt.Tourist Home, Upallam      802  ...        NaN     821        NaN\n",
              "1     6   Youth Hostel, Solai Nagar     1199  ...        NaN     832        NaN\n",
              "\n",
              "[2 rows x 14 columns]"
            ]
          },
          "metadata": {
            "tags": []
          },
          "execution_count": 15
        }
      ]
    },
    {
      "cell_type": "code",
      "metadata": {
        "id": "jDigeo7v2ZfP",
        "colab_type": "code",
        "outputId": "356c5789-cb91-487f-aa4c-ac8563529355",
        "colab": {
          "base_uri": "https://localhost:8080/",
          "height": 260
        }
      },
      "source": [
        "karaikal.head(2)"
      ],
      "execution_count": 16,
      "outputs": [
        {
          "output_type": "execute_result",
          "data": {
            "text/html": [
              "<div>\n",
              "<style scoped>\n",
              "    .dataframe tbody tr th:only-of-type {\n",
              "        vertical-align: middle;\n",
              "    }\n",
              "\n",
              "    .dataframe tbody tr th {\n",
              "        vertical-align: top;\n",
              "    }\n",
              "\n",
              "    .dataframe thead tr th {\n",
              "        text-align: left;\n",
              "    }\n",
              "</style>\n",
              "<table border=\"1\" class=\"dataframe\">\n",
              "  <thead>\n",
              "    <tr>\n",
              "      <th></th>\n",
              "      <th>index</th>\n",
              "      <th>Hotels</th>\n",
              "      <th colspan=\"4\" halign=\"left\">Jan 2018</th>\n",
              "      <th colspan=\"4\" halign=\"left\">Feb 2018</th>\n",
              "      <th colspan=\"4\" halign=\"left\">Mar 2018</th>\n",
              "    </tr>\n",
              "    <tr>\n",
              "      <th></th>\n",
              "      <th></th>\n",
              "      <th></th>\n",
              "      <th colspan=\"2\" halign=\"left\">Tourists</th>\n",
              "      <th colspan=\"2\" halign=\"left\">BNS</th>\n",
              "      <th colspan=\"2\" halign=\"left\">Tourists</th>\n",
              "      <th colspan=\"2\" halign=\"left\">BNS</th>\n",
              "      <th colspan=\"2\" halign=\"left\">Tourists</th>\n",
              "      <th colspan=\"2\" halign=\"left\">BNS</th>\n",
              "    </tr>\n",
              "    <tr>\n",
              "      <th></th>\n",
              "      <th></th>\n",
              "      <th></th>\n",
              "      <th>Indians</th>\n",
              "      <th>Foreigners</th>\n",
              "      <th>Indians</th>\n",
              "      <th>Foreigners</th>\n",
              "      <th>Indians</th>\n",
              "      <th>Foreigners</th>\n",
              "      <th>Indians</th>\n",
              "      <th>Foreigners</th>\n",
              "      <th>Indians</th>\n",
              "      <th>Foreigners</th>\n",
              "      <th>Indians</th>\n",
              "      <th>Foreigners</th>\n",
              "    </tr>\n",
              "  </thead>\n",
              "  <tbody>\n",
              "    <tr>\n",
              "      <th>0</th>\n",
              "      <td>201</td>\n",
              "      <td>Govt.Tourist Home, Kovilpathu</td>\n",
              "      <td>506</td>\n",
              "      <td>4</td>\n",
              "      <td>253</td>\n",
              "      <td>4</td>\n",
              "      <td>445</td>\n",
              "      <td>2</td>\n",
              "      <td>240</td>\n",
              "      <td>2</td>\n",
              "      <td>476</td>\n",
              "      <td>3</td>\n",
              "      <td>NaN</td>\n",
              "      <td>3</td>\n",
              "    </tr>\n",
              "    <tr>\n",
              "      <th>1</th>\n",
              "      <td>202</td>\n",
              "      <td>State Guest House, Karaikal</td>\n",
              "      <td>20</td>\n",
              "      <td>NaN</td>\n",
              "      <td>18</td>\n",
              "      <td>NaN</td>\n",
              "      <td>15</td>\n",
              "      <td>NaN</td>\n",
              "      <td>10</td>\n",
              "      <td>0</td>\n",
              "      <td>20</td>\n",
              "      <td>NaN</td>\n",
              "      <td>NaN</td>\n",
              "      <td>0</td>\n",
              "    </tr>\n",
              "  </tbody>\n",
              "</table>\n",
              "</div>"
            ],
            "text/plain": [
              "  index                         Hotels Jan 2018  ...   Mar 2018                   \n",
              "                                       Tourists  ...   Tourists     BNS           \n",
              "                                        Indians  ... Foreigners Indians Foreigners\n",
              "0   201  Govt.Tourist Home, Kovilpathu      506  ...          3     NaN          3\n",
              "1   202    State Guest House, Karaikal       20  ...        NaN     NaN          0\n",
              "\n",
              "[2 rows x 14 columns]"
            ]
          },
          "metadata": {
            "tags": []
          },
          "execution_count": 16
        }
      ]
    },
    {
      "cell_type": "markdown",
      "metadata": {
        "id": "BS-AdUfI1arF",
        "colab_type": "text"
      },
      "source": [
        "**DF2 preprocessing**"
      ]
    },
    {
      "cell_type": "code",
      "metadata": {
        "id": "kz5Z9lI32gTB",
        "colab_type": "code",
        "outputId": "39a788b4-1448-463c-f798-a258b43780a4",
        "colab": {
          "base_uri": "https://localhost:8080/",
          "height": 175
        }
      },
      "source": [
        "df2.columns"
      ],
      "execution_count": 18,
      "outputs": [
        {
          "output_type": "execute_result",
          "data": {
            "text/plain": [
              "Index(['Unnamed: 0', 'Unnamed: 1', 'Australia', 'Unnamed: 3', 'Bangladesh',\n",
              "       'Unnamed: 5', 'Canada', 'Unnamed: 7', 'France', 'Unnamed: 9', 'Germany',\n",
              "       'Unnamed: 11', 'Iran', 'Unnamed: 13', 'Italy', 'Unnamed: 15', 'Japan',\n",
              "       'Unnamed: 17', 'Malasiya', 'Unnamed: 19', 'Pakistan', 'Unnamed: 21',\n",
              "       'Singapore', 'Unnamed: 23', 'Soudi Arabia', 'Unnamed: 25', 'Sri Lanka',\n",
              "       'Unnamed: 27', 'Swoz', 'Unnamed: 29', 'UAE', 'Unnamed: 31', 'UK',\n",
              "       'Unnamed: 33', 'USA', 'Unnamed: 35', 'Others', 'Unnamed: 37',\n",
              "       'GRAND TOTAL', 'Unnamed: 39', 'Unnamed: 40', 'Unnamed: 41'],\n",
              "      dtype='object')"
            ]
          },
          "metadata": {
            "tags": []
          },
          "execution_count": 18
        }
      ]
    },
    {
      "cell_type": "code",
      "metadata": {
        "id": "V6gyj1lx14LY",
        "colab_type": "code",
        "outputId": "023f316c-76cf-49fe-9ed6-e805b4d8b4f9",
        "colab": {
          "base_uri": "https://localhost:8080/",
          "height": 164
        }
      },
      "source": [
        "df2.head(2)"
      ],
      "execution_count": 19,
      "outputs": [
        {
          "output_type": "execute_result",
          "data": {
            "text/html": [
              "<div>\n",
              "<style scoped>\n",
              "    .dataframe tbody tr th:only-of-type {\n",
              "        vertical-align: middle;\n",
              "    }\n",
              "\n",
              "    .dataframe tbody tr th {\n",
              "        vertical-align: top;\n",
              "    }\n",
              "\n",
              "    .dataframe thead th {\n",
              "        text-align: right;\n",
              "    }\n",
              "</style>\n",
              "<table border=\"1\" class=\"dataframe\">\n",
              "  <thead>\n",
              "    <tr style=\"text-align: right;\">\n",
              "      <th></th>\n",
              "      <th>Unnamed: 0</th>\n",
              "      <th>Unnamed: 1</th>\n",
              "      <th>Australia</th>\n",
              "      <th>Unnamed: 3</th>\n",
              "      <th>Bangladesh</th>\n",
              "      <th>Unnamed: 5</th>\n",
              "      <th>Canada</th>\n",
              "      <th>Unnamed: 7</th>\n",
              "      <th>France</th>\n",
              "      <th>Unnamed: 9</th>\n",
              "      <th>Germany</th>\n",
              "      <th>Unnamed: 11</th>\n",
              "      <th>Iran</th>\n",
              "      <th>Unnamed: 13</th>\n",
              "      <th>Italy</th>\n",
              "      <th>Unnamed: 15</th>\n",
              "      <th>Japan</th>\n",
              "      <th>Unnamed: 17</th>\n",
              "      <th>Malasiya</th>\n",
              "      <th>Unnamed: 19</th>\n",
              "      <th>Pakistan</th>\n",
              "      <th>Unnamed: 21</th>\n",
              "      <th>Singapore</th>\n",
              "      <th>Unnamed: 23</th>\n",
              "      <th>Soudi Arabia</th>\n",
              "      <th>Unnamed: 25</th>\n",
              "      <th>Sri Lanka</th>\n",
              "      <th>Unnamed: 27</th>\n",
              "      <th>Swoz</th>\n",
              "      <th>Unnamed: 29</th>\n",
              "      <th>UAE</th>\n",
              "      <th>Unnamed: 31</th>\n",
              "      <th>UK</th>\n",
              "      <th>Unnamed: 33</th>\n",
              "      <th>USA</th>\n",
              "      <th>Unnamed: 35</th>\n",
              "      <th>Others</th>\n",
              "      <th>Unnamed: 37</th>\n",
              "      <th>GRAND TOTAL</th>\n",
              "      <th>Unnamed: 39</th>\n",
              "      <th>Unnamed: 40</th>\n",
              "      <th>Unnamed: 41</th>\n",
              "    </tr>\n",
              "  </thead>\n",
              "  <tbody>\n",
              "    <tr>\n",
              "      <th>0</th>\n",
              "      <td>Sl.No.</td>\n",
              "      <td>Name of the Hotels</td>\n",
              "      <td>Nos</td>\n",
              "      <td>BNS</td>\n",
              "      <td>Nos</td>\n",
              "      <td>BNS</td>\n",
              "      <td>Nos</td>\n",
              "      <td>BNS</td>\n",
              "      <td>Nos</td>\n",
              "      <td>BNS</td>\n",
              "      <td>Nos</td>\n",
              "      <td>BNS</td>\n",
              "      <td>Nos</td>\n",
              "      <td>BNS</td>\n",
              "      <td>Nos</td>\n",
              "      <td>BNS</td>\n",
              "      <td>Nos</td>\n",
              "      <td>BNS</td>\n",
              "      <td>Nos</td>\n",
              "      <td>BNS</td>\n",
              "      <td>Nos</td>\n",
              "      <td>BNS</td>\n",
              "      <td>Nos</td>\n",
              "      <td>BNS</td>\n",
              "      <td>Nos</td>\n",
              "      <td>BNS</td>\n",
              "      <td>Nos</td>\n",
              "      <td>BNS</td>\n",
              "      <td>Nos</td>\n",
              "      <td>BNS</td>\n",
              "      <td>Nos</td>\n",
              "      <td>BNS</td>\n",
              "      <td>Nos</td>\n",
              "      <td>BNS</td>\n",
              "      <td>Nos</td>\n",
              "      <td>BNS</td>\n",
              "      <td>Nos</td>\n",
              "      <td>BNS</td>\n",
              "      <td>NOS</td>\n",
              "      <td>BNS</td>\n",
              "      <td>NaN</td>\n",
              "      <td>NaN</td>\n",
              "    </tr>\n",
              "    <tr>\n",
              "      <th>1</th>\n",
              "      <td>NaN</td>\n",
              "      <td>PUDUCHERRY</td>\n",
              "      <td>NaN</td>\n",
              "      <td>NaN</td>\n",
              "      <td>NaN</td>\n",
              "      <td>NaN</td>\n",
              "      <td>NaN</td>\n",
              "      <td>NaN</td>\n",
              "      <td>NaN</td>\n",
              "      <td>NaN</td>\n",
              "      <td>NaN</td>\n",
              "      <td>NaN</td>\n",
              "      <td>NaN</td>\n",
              "      <td>NaN</td>\n",
              "      <td>NaN</td>\n",
              "      <td>NaN</td>\n",
              "      <td>NaN</td>\n",
              "      <td>NaN</td>\n",
              "      <td>NaN</td>\n",
              "      <td>NaN</td>\n",
              "      <td>NaN</td>\n",
              "      <td>NaN</td>\n",
              "      <td>NaN</td>\n",
              "      <td>NaN</td>\n",
              "      <td>NaN</td>\n",
              "      <td>NaN</td>\n",
              "      <td>NaN</td>\n",
              "      <td>NaN</td>\n",
              "      <td>NaN</td>\n",
              "      <td>NaN</td>\n",
              "      <td>NaN</td>\n",
              "      <td>NaN</td>\n",
              "      <td>NaN</td>\n",
              "      <td>NaN</td>\n",
              "      <td>NaN</td>\n",
              "      <td>NaN</td>\n",
              "      <td>NaN</td>\n",
              "      <td>NaN</td>\n",
              "      <td>NaN</td>\n",
              "      <td>NaN</td>\n",
              "      <td>NaN</td>\n",
              "      <td>NaN</td>\n",
              "    </tr>\n",
              "  </tbody>\n",
              "</table>\n",
              "</div>"
            ],
            "text/plain": [
              "  Unnamed: 0          Unnamed: 1  ... Unnamed: 40 Unnamed: 41\n",
              "0     Sl.No.  Name of the Hotels  ...         NaN         NaN\n",
              "1        NaN          PUDUCHERRY  ...         NaN         NaN\n",
              "\n",
              "[2 rows x 42 columns]"
            ]
          },
          "metadata": {
            "tags": []
          },
          "execution_count": 19
        }
      ]
    },
    {
      "cell_type": "code",
      "metadata": {
        "id": "b9HVOHkU197U",
        "colab_type": "code",
        "colab": {}
      },
      "source": [
        "df2.drop([ 'Unnamed: 40', 'Unnamed: 41'], axis = 1,inplace = True)"
      ],
      "execution_count": 0,
      "outputs": []
    },
    {
      "cell_type": "code",
      "metadata": {
        "id": "BZKXNE6B2GKA",
        "colab_type": "code",
        "outputId": "1fda91fe-3884-45d3-d202-a1dfdb42f84d",
        "colab": {
          "base_uri": "https://localhost:8080/",
          "height": 54
        }
      },
      "source": [
        "dropper = [] # identifies rows to be dropped  ; iloc(1)[no of columns][no of rows]\n",
        "for i in range(len(df2)):\n",
        "    if df2.iloc(1)[38:39][i:1+i].values[0][0] == 0 or not pd.notna(df2.iloc(1)[38:39][i:1+i].values[0][0]):\n",
        "        if df2.iloc(1)[39:40][i:1+i].values[0][0] == 0 or not pd.notna(df2.iloc(1)[39:40][i:1+i].values[0][0]):\n",
        "            dropper.append(i)\n",
        "print(dropper)"
      ],
      "execution_count": 21,
      "outputs": [
        {
          "output_type": "stream",
          "text": [
            "[1, 2, 3, 4, 7, 9, 11, 12, 13, 14, 15, 16, 18, 20, 21, 22, 24, 25, 26, 27, 28, 29, 30, 31, 32, 33, 35, 36, 37, 38, 39, 40, 41, 45, 46, 47, 48, 49, 50, 51, 52, 53, 54, 55, 56, 57, 58, 59, 60, 61, 62, 64, 65, 66, 67, 68, 69, 70, 72, 73, 74, 75, 76, 77, 78, 79, 80, 81, 82, 83, 84, 85, 86, 89, 90, 91, 92, 93, 94, 95, 96, 97, 98, 99, 100, 101, 102, 105, 107, 108, 109, 110, 112, 113, 114, 115, 116, 117, 119, 120, 121, 122, 124, 125, 126, 127, 128, 129, 130, 131, 132, 133, 134, 136, 137, 138, 139, 140, 141, 142, 144, 145, 146, 148, 149, 150, 151, 152, 153, 154, 155, 156, 158, 159, 160, 161, 162, 163, 164, 165, 166, 167, 168, 169, 170, 173, 175, 179, 180, 181, 182, 183, 184, 186, 188, 189, 190, 192, 193, 194, 196, 197, 199, 200, 201, 203, 204, 205, 208, 209, 210, 211, 212, 213, 218, 219, 220, 221, 222, 224, 225, 226, 227, 228, 229, 230, 231, 233, 234, 235, 236, 237]\n"
          ],
          "name": "stdout"
        }
      ]
    },
    {
      "cell_type": "code",
      "metadata": {
        "id": "kbeCfCX92gN_",
        "colab_type": "code",
        "outputId": "6b11b5e0-e1cd-4714-8c34-47c5a5323f14",
        "colab": {
          "base_uri": "https://localhost:8080/",
          "height": 34
        }
      },
      "source": [
        "df2.drop(df2.index[dropper],axis = 0, inplace = True)\n",
        "df2.reset_index(inplace = True, drop = True)\n",
        "df2.shape"
      ],
      "execution_count": 22,
      "outputs": [
        {
          "output_type": "execute_result",
          "data": {
            "text/plain": [
              "(51, 40)"
            ]
          },
          "metadata": {
            "tags": []
          },
          "execution_count": 22
        }
      ]
    },
    {
      "cell_type": "code",
      "metadata": {
        "id": "NcjLEpvU3B3f",
        "colab_type": "code",
        "outputId": "c073281c-1297-44db-ed80-9623f3f23aec",
        "colab": {
          "base_uri": "https://localhost:8080/",
          "height": 233
        }
      },
      "source": [
        "df2.head(2)"
      ],
      "execution_count": 23,
      "outputs": [
        {
          "output_type": "execute_result",
          "data": {
            "text/html": [
              "<div>\n",
              "<style scoped>\n",
              "    .dataframe tbody tr th:only-of-type {\n",
              "        vertical-align: middle;\n",
              "    }\n",
              "\n",
              "    .dataframe tbody tr th {\n",
              "        vertical-align: top;\n",
              "    }\n",
              "\n",
              "    .dataframe thead th {\n",
              "        text-align: right;\n",
              "    }\n",
              "</style>\n",
              "<table border=\"1\" class=\"dataframe\">\n",
              "  <thead>\n",
              "    <tr style=\"text-align: right;\">\n",
              "      <th></th>\n",
              "      <th>Unnamed: 0</th>\n",
              "      <th>Unnamed: 1</th>\n",
              "      <th>Australia</th>\n",
              "      <th>Unnamed: 3</th>\n",
              "      <th>Bangladesh</th>\n",
              "      <th>Unnamed: 5</th>\n",
              "      <th>Canada</th>\n",
              "      <th>Unnamed: 7</th>\n",
              "      <th>France</th>\n",
              "      <th>Unnamed: 9</th>\n",
              "      <th>Germany</th>\n",
              "      <th>Unnamed: 11</th>\n",
              "      <th>Iran</th>\n",
              "      <th>Unnamed: 13</th>\n",
              "      <th>Italy</th>\n",
              "      <th>Unnamed: 15</th>\n",
              "      <th>Japan</th>\n",
              "      <th>Unnamed: 17</th>\n",
              "      <th>Malasiya</th>\n",
              "      <th>Unnamed: 19</th>\n",
              "      <th>Pakistan</th>\n",
              "      <th>Unnamed: 21</th>\n",
              "      <th>Singapore</th>\n",
              "      <th>Unnamed: 23</th>\n",
              "      <th>Soudi Arabia</th>\n",
              "      <th>Unnamed: 25</th>\n",
              "      <th>Sri Lanka</th>\n",
              "      <th>Unnamed: 27</th>\n",
              "      <th>Swoz</th>\n",
              "      <th>Unnamed: 29</th>\n",
              "      <th>UAE</th>\n",
              "      <th>Unnamed: 31</th>\n",
              "      <th>UK</th>\n",
              "      <th>Unnamed: 33</th>\n",
              "      <th>USA</th>\n",
              "      <th>Unnamed: 35</th>\n",
              "      <th>Others</th>\n",
              "      <th>Unnamed: 37</th>\n",
              "      <th>GRAND TOTAL</th>\n",
              "      <th>Unnamed: 39</th>\n",
              "    </tr>\n",
              "  </thead>\n",
              "  <tbody>\n",
              "    <tr>\n",
              "      <th>0</th>\n",
              "      <td>Sl.No.</td>\n",
              "      <td>Name of the Hotels</td>\n",
              "      <td>Nos</td>\n",
              "      <td>BNS</td>\n",
              "      <td>Nos</td>\n",
              "      <td>BNS</td>\n",
              "      <td>Nos</td>\n",
              "      <td>BNS</td>\n",
              "      <td>Nos</td>\n",
              "      <td>BNS</td>\n",
              "      <td>Nos</td>\n",
              "      <td>BNS</td>\n",
              "      <td>Nos</td>\n",
              "      <td>BNS</td>\n",
              "      <td>Nos</td>\n",
              "      <td>BNS</td>\n",
              "      <td>Nos</td>\n",
              "      <td>BNS</td>\n",
              "      <td>Nos</td>\n",
              "      <td>BNS</td>\n",
              "      <td>Nos</td>\n",
              "      <td>BNS</td>\n",
              "      <td>Nos</td>\n",
              "      <td>BNS</td>\n",
              "      <td>Nos</td>\n",
              "      <td>BNS</td>\n",
              "      <td>Nos</td>\n",
              "      <td>BNS</td>\n",
              "      <td>Nos</td>\n",
              "      <td>BNS</td>\n",
              "      <td>Nos</td>\n",
              "      <td>BNS</td>\n",
              "      <td>Nos</td>\n",
              "      <td>BNS</td>\n",
              "      <td>Nos</td>\n",
              "      <td>BNS</td>\n",
              "      <td>Nos</td>\n",
              "      <td>BNS</td>\n",
              "      <td>NOS</td>\n",
              "      <td>BNS</td>\n",
              "    </tr>\n",
              "    <tr>\n",
              "      <th>1</th>\n",
              "      <td>4</td>\n",
              "      <td>Youth Hostel, Solai Nagar</td>\n",
              "      <td>NaN</td>\n",
              "      <td>NaN</td>\n",
              "      <td>NaN</td>\n",
              "      <td>NaN</td>\n",
              "      <td>NaN</td>\n",
              "      <td>NaN</td>\n",
              "      <td>NaN</td>\n",
              "      <td>NaN</td>\n",
              "      <td>NaN</td>\n",
              "      <td>NaN</td>\n",
              "      <td>NaN</td>\n",
              "      <td>NaN</td>\n",
              "      <td>NaN</td>\n",
              "      <td>NaN</td>\n",
              "      <td>NaN</td>\n",
              "      <td>NaN</td>\n",
              "      <td>5</td>\n",
              "      <td>5</td>\n",
              "      <td>NaN</td>\n",
              "      <td>NaN</td>\n",
              "      <td>6</td>\n",
              "      <td>6</td>\n",
              "      <td>NaN</td>\n",
              "      <td>NaN</td>\n",
              "      <td>NaN</td>\n",
              "      <td>NaN</td>\n",
              "      <td>NaN</td>\n",
              "      <td>NaN</td>\n",
              "      <td>NaN</td>\n",
              "      <td>NaN</td>\n",
              "      <td>NaN</td>\n",
              "      <td>NaN</td>\n",
              "      <td>NaN</td>\n",
              "      <td>NaN</td>\n",
              "      <td>NaN</td>\n",
              "      <td>NaN</td>\n",
              "      <td>11</td>\n",
              "      <td>11</td>\n",
              "    </tr>\n",
              "  </tbody>\n",
              "</table>\n",
              "</div>"
            ],
            "text/plain": [
              "  Unnamed: 0                 Unnamed: 1  ... GRAND TOTAL Unnamed: 39\n",
              "0     Sl.No.         Name of the Hotels  ...         NOS         BNS\n",
              "1          4  Youth Hostel, Solai Nagar  ...          11          11\n",
              "\n",
              "[2 rows x 40 columns]"
            ]
          },
          "metadata": {
            "tags": []
          },
          "execution_count": 23
        }
      ]
    },
    {
      "cell_type": "code",
      "metadata": {
        "id": "alsl_UJg3Ix1",
        "colab_type": "code",
        "outputId": "525ab92c-5244-42bd-9e0e-1111fd37b42f",
        "colab": {
          "base_uri": "https://localhost:8080/",
          "height": 34
        }
      },
      "source": [
        "df2[df2['Unnamed: 1'] == 'Lily Pool, Poornankuppam'].index[0]"
      ],
      "execution_count": 24,
      "outputs": [
        {
          "output_type": "execute_result",
          "data": {
            "text/plain": [
              "34"
            ]
          },
          "metadata": {
            "tags": []
          },
          "execution_count": 24
        }
      ]
    },
    {
      "cell_type": "code",
      "metadata": {
        "id": "-1trjCKO3aNi",
        "colab_type": "code",
        "colab": {}
      },
      "source": [
        "pondi_df2 = df2.iloc(1)[:][:1+df2[df2['Unnamed: 1'] == 'Lily Pool, Poornankuppam'].index[0]]"
      ],
      "execution_count": 0,
      "outputs": []
    },
    {
      "cell_type": "code",
      "metadata": {
        "id": "0CYtBY3Z37V7",
        "colab_type": "code",
        "colab": {}
      },
      "source": [
        "karaikal_df2 = df2.iloc[:][38:48]"
      ],
      "execution_count": 0,
      "outputs": []
    },
    {
      "cell_type": "code",
      "metadata": {
        "id": "3ZG58P9y4rPr",
        "colab_type": "code",
        "outputId": "05f8be6b-b43b-46eb-d4e6-acf8f91b665c",
        "colab": {
          "base_uri": "https://localhost:8080/",
          "height": 34
        }
      },
      "source": [
        "pondi_df2.shape"
      ],
      "execution_count": 27,
      "outputs": [
        {
          "output_type": "execute_result",
          "data": {
            "text/plain": [
              "(35, 40)"
            ]
          },
          "metadata": {
            "tags": []
          },
          "execution_count": 27
        }
      ]
    },
    {
      "cell_type": "code",
      "metadata": {
        "id": "fgMe_DQ34yvA",
        "colab_type": "code",
        "outputId": "bdea8f0f-13ab-459d-b917-7ab058a3b146",
        "colab": {
          "base_uri": "https://localhost:8080/",
          "height": 34
        }
      },
      "source": [
        "karaikal_df2.shape"
      ],
      "execution_count": 28,
      "outputs": [
        {
          "output_type": "execute_result",
          "data": {
            "text/plain": [
              "(10, 40)"
            ]
          },
          "metadata": {
            "tags": []
          },
          "execution_count": 28
        }
      ]
    },
    {
      "cell_type": "code",
      "metadata": {
        "id": "ptvPzVli40vD",
        "colab_type": "code",
        "outputId": "1b6eb9c4-12bb-4d6f-f9ef-a5f3a3685daa",
        "colab": {
          "base_uri": "https://localhost:8080/",
          "height": 334
        }
      },
      "source": [
        "cols2 = list(pondi_df2.columns)\n",
        "f = 0; country = []\n",
        "for i in range(1, len(cols2)-3):\n",
        "    f = 0\n",
        "    for j in list(cols2[i]):\n",
        "        if j.isdigit():\n",
        "            f = 1\n",
        "            break\n",
        "    if f == 0:\n",
        "        country.append(cols2[i])\n",
        "        \n",
        "country"
      ],
      "execution_count": 29,
      "outputs": [
        {
          "output_type": "execute_result",
          "data": {
            "text/plain": [
              "['Australia',\n",
              " 'Bangladesh',\n",
              " 'Canada',\n",
              " 'France',\n",
              " 'Germany',\n",
              " 'Iran',\n",
              " 'Italy',\n",
              " 'Japan',\n",
              " 'Malasiya',\n",
              " 'Pakistan',\n",
              " 'Singapore',\n",
              " 'Soudi Arabia',\n",
              " 'Sri Lanka',\n",
              " 'Swoz',\n",
              " 'UAE',\n",
              " 'UK',\n",
              " 'USA',\n",
              " 'Others']"
            ]
          },
          "metadata": {
            "tags": []
          },
          "execution_count": 29
        }
      ]
    },
    {
      "cell_type": "code",
      "metadata": {
        "id": "DWcMZl4a5IgB",
        "colab_type": "code",
        "outputId": "0946c5b1-5b9d-4fb7-abc7-f73350ac2c3f",
        "colab": {
          "base_uri": "https://localhost:8080/",
          "height": 147
        }
      },
      "source": [
        "pondy_df2 = pondi_df2.iloc(1)[2:38][2:]\n",
        "pondi_hotels2 = pondi_df2.iloc(1)[1:2][2:]\n",
        "pondy_df2.head(2)"
      ],
      "execution_count": 30,
      "outputs": [
        {
          "output_type": "execute_result",
          "data": {
            "text/html": [
              "<div>\n",
              "<style scoped>\n",
              "    .dataframe tbody tr th:only-of-type {\n",
              "        vertical-align: middle;\n",
              "    }\n",
              "\n",
              "    .dataframe tbody tr th {\n",
              "        vertical-align: top;\n",
              "    }\n",
              "\n",
              "    .dataframe thead th {\n",
              "        text-align: right;\n",
              "    }\n",
              "</style>\n",
              "<table border=\"1\" class=\"dataframe\">\n",
              "  <thead>\n",
              "    <tr style=\"text-align: right;\">\n",
              "      <th></th>\n",
              "      <th>Australia</th>\n",
              "      <th>Unnamed: 3</th>\n",
              "      <th>Bangladesh</th>\n",
              "      <th>Unnamed: 5</th>\n",
              "      <th>Canada</th>\n",
              "      <th>Unnamed: 7</th>\n",
              "      <th>France</th>\n",
              "      <th>Unnamed: 9</th>\n",
              "      <th>Germany</th>\n",
              "      <th>Unnamed: 11</th>\n",
              "      <th>Iran</th>\n",
              "      <th>Unnamed: 13</th>\n",
              "      <th>Italy</th>\n",
              "      <th>Unnamed: 15</th>\n",
              "      <th>Japan</th>\n",
              "      <th>Unnamed: 17</th>\n",
              "      <th>Malasiya</th>\n",
              "      <th>Unnamed: 19</th>\n",
              "      <th>Pakistan</th>\n",
              "      <th>Unnamed: 21</th>\n",
              "      <th>Singapore</th>\n",
              "      <th>Unnamed: 23</th>\n",
              "      <th>Soudi Arabia</th>\n",
              "      <th>Unnamed: 25</th>\n",
              "      <th>Sri Lanka</th>\n",
              "      <th>Unnamed: 27</th>\n",
              "      <th>Swoz</th>\n",
              "      <th>Unnamed: 29</th>\n",
              "      <th>UAE</th>\n",
              "      <th>Unnamed: 31</th>\n",
              "      <th>UK</th>\n",
              "      <th>Unnamed: 33</th>\n",
              "      <th>USA</th>\n",
              "      <th>Unnamed: 35</th>\n",
              "      <th>Others</th>\n",
              "      <th>Unnamed: 37</th>\n",
              "    </tr>\n",
              "  </thead>\n",
              "  <tbody>\n",
              "    <tr>\n",
              "      <th>2</th>\n",
              "      <td>1</td>\n",
              "      <td>4</td>\n",
              "      <td>NaN</td>\n",
              "      <td>NaN</td>\n",
              "      <td>6</td>\n",
              "      <td>10</td>\n",
              "      <td>5</td>\n",
              "      <td>10</td>\n",
              "      <td>3</td>\n",
              "      <td>6</td>\n",
              "      <td>2</td>\n",
              "      <td>4</td>\n",
              "      <td>NaN</td>\n",
              "      <td>NaN</td>\n",
              "      <td>NaN</td>\n",
              "      <td>NaN</td>\n",
              "      <td>NaN</td>\n",
              "      <td>NaN</td>\n",
              "      <td>NaN</td>\n",
              "      <td>NaN</td>\n",
              "      <td>NaN</td>\n",
              "      <td>NaN</td>\n",
              "      <td>NaN</td>\n",
              "      <td>NaN</td>\n",
              "      <td>NaN</td>\n",
              "      <td>NaN</td>\n",
              "      <td>NaN</td>\n",
              "      <td>NaN</td>\n",
              "      <td>NaN</td>\n",
              "      <td>NaN</td>\n",
              "      <td>NaN</td>\n",
              "      <td>NaN</td>\n",
              "      <td>NaN</td>\n",
              "      <td>NaN</td>\n",
              "      <td>NaN</td>\n",
              "      <td>NaN</td>\n",
              "    </tr>\n",
              "    <tr>\n",
              "      <th>3</th>\n",
              "      <td>5</td>\n",
              "      <td>5</td>\n",
              "      <td>NaN</td>\n",
              "      <td>NaN</td>\n",
              "      <td>3</td>\n",
              "      <td>3</td>\n",
              "      <td>10</td>\n",
              "      <td>10</td>\n",
              "      <td>1</td>\n",
              "      <td>1</td>\n",
              "      <td>NaN</td>\n",
              "      <td>NaN</td>\n",
              "      <td>NaN</td>\n",
              "      <td>NaN</td>\n",
              "      <td>NaN</td>\n",
              "      <td>NaN</td>\n",
              "      <td>10</td>\n",
              "      <td>10</td>\n",
              "      <td>NaN</td>\n",
              "      <td>NaN</td>\n",
              "      <td>NaN</td>\n",
              "      <td>NaN</td>\n",
              "      <td>NaN</td>\n",
              "      <td>NaN</td>\n",
              "      <td>NaN</td>\n",
              "      <td>NaN</td>\n",
              "      <td>2</td>\n",
              "      <td>2</td>\n",
              "      <td>NaN</td>\n",
              "      <td>NaN</td>\n",
              "      <td>5</td>\n",
              "      <td>5</td>\n",
              "      <td>12</td>\n",
              "      <td>12</td>\n",
              "      <td>NaN</td>\n",
              "      <td>NaN</td>\n",
              "    </tr>\n",
              "  </tbody>\n",
              "</table>\n",
              "</div>"
            ],
            "text/plain": [
              "  Australia Unnamed: 3 Bangladesh  ... Unnamed: 35 Others Unnamed: 37\n",
              "2         1          4        NaN  ...         NaN    NaN         NaN\n",
              "3         5          5        NaN  ...          12    NaN         NaN\n",
              "\n",
              "[2 rows x 36 columns]"
            ]
          },
          "metadata": {
            "tags": []
          },
          "execution_count": 30
        }
      ]
    },
    {
      "cell_type": "code",
      "metadata": {
        "id": "kLBaWFQP640H",
        "colab_type": "code",
        "outputId": "1ba5b1e6-e285-4e6f-88e4-98bc2eb9b0a6",
        "colab": {
          "base_uri": "https://localhost:8080/",
          "height": 110
        }
      },
      "source": [
        "pondi_hotels2.head(2)"
      ],
      "execution_count": 31,
      "outputs": [
        {
          "output_type": "execute_result",
          "data": {
            "text/html": [
              "<div>\n",
              "<style scoped>\n",
              "    .dataframe tbody tr th:only-of-type {\n",
              "        vertical-align: middle;\n",
              "    }\n",
              "\n",
              "    .dataframe tbody tr th {\n",
              "        vertical-align: top;\n",
              "    }\n",
              "\n",
              "    .dataframe thead th {\n",
              "        text-align: right;\n",
              "    }\n",
              "</style>\n",
              "<table border=\"1\" class=\"dataframe\">\n",
              "  <thead>\n",
              "    <tr style=\"text-align: right;\">\n",
              "      <th></th>\n",
              "      <th>Unnamed: 1</th>\n",
              "    </tr>\n",
              "  </thead>\n",
              "  <tbody>\n",
              "    <tr>\n",
              "      <th>2</th>\n",
              "      <td>A La Villa Geole</td>\n",
              "    </tr>\n",
              "    <tr>\n",
              "      <th>3</th>\n",
              "      <td>Abirami Residency</td>\n",
              "    </tr>\n",
              "  </tbody>\n",
              "</table>\n",
              "</div>"
            ],
            "text/plain": [
              "          Unnamed: 1\n",
              "2   A La Villa Geole\n",
              "3  Abirami Residency"
            ]
          },
          "metadata": {
            "tags": []
          },
          "execution_count": 31
        }
      ]
    },
    {
      "cell_type": "code",
      "metadata": {
        "id": "PYyM6sat7Gh-",
        "colab_type": "code",
        "outputId": "96f49baa-49d1-45bf-9b9f-743e5179d760",
        "colab": {
          "base_uri": "https://localhost:8080/",
          "height": 240
        }
      },
      "source": [
        "kara_df2 = karaikal_df2.iloc(1)[2:38][1:7]\n",
        "kara_hotels2 = karaikal_df2.iloc(1)[1:2][1:7]\n",
        "kara_df2.head()"
      ],
      "execution_count": 32,
      "outputs": [
        {
          "output_type": "execute_result",
          "data": {
            "text/html": [
              "<div>\n",
              "<style scoped>\n",
              "    .dataframe tbody tr th:only-of-type {\n",
              "        vertical-align: middle;\n",
              "    }\n",
              "\n",
              "    .dataframe tbody tr th {\n",
              "        vertical-align: top;\n",
              "    }\n",
              "\n",
              "    .dataframe thead th {\n",
              "        text-align: right;\n",
              "    }\n",
              "</style>\n",
              "<table border=\"1\" class=\"dataframe\">\n",
              "  <thead>\n",
              "    <tr style=\"text-align: right;\">\n",
              "      <th></th>\n",
              "      <th>Australia</th>\n",
              "      <th>Unnamed: 3</th>\n",
              "      <th>Bangladesh</th>\n",
              "      <th>Unnamed: 5</th>\n",
              "      <th>Canada</th>\n",
              "      <th>Unnamed: 7</th>\n",
              "      <th>France</th>\n",
              "      <th>Unnamed: 9</th>\n",
              "      <th>Germany</th>\n",
              "      <th>Unnamed: 11</th>\n",
              "      <th>Iran</th>\n",
              "      <th>Unnamed: 13</th>\n",
              "      <th>Italy</th>\n",
              "      <th>Unnamed: 15</th>\n",
              "      <th>Japan</th>\n",
              "      <th>Unnamed: 17</th>\n",
              "      <th>Malasiya</th>\n",
              "      <th>Unnamed: 19</th>\n",
              "      <th>Pakistan</th>\n",
              "      <th>Unnamed: 21</th>\n",
              "      <th>Singapore</th>\n",
              "      <th>Unnamed: 23</th>\n",
              "      <th>Soudi Arabia</th>\n",
              "      <th>Unnamed: 25</th>\n",
              "      <th>Sri Lanka</th>\n",
              "      <th>Unnamed: 27</th>\n",
              "      <th>Swoz</th>\n",
              "      <th>Unnamed: 29</th>\n",
              "      <th>UAE</th>\n",
              "      <th>Unnamed: 31</th>\n",
              "      <th>UK</th>\n",
              "      <th>Unnamed: 33</th>\n",
              "      <th>USA</th>\n",
              "      <th>Unnamed: 35</th>\n",
              "      <th>Others</th>\n",
              "      <th>Unnamed: 37</th>\n",
              "    </tr>\n",
              "  </thead>\n",
              "  <tbody>\n",
              "    <tr>\n",
              "      <th>39</th>\n",
              "      <td>NaN</td>\n",
              "      <td>NaN</td>\n",
              "      <td>NaN</td>\n",
              "      <td>NaN</td>\n",
              "      <td>NaN</td>\n",
              "      <td>NaN</td>\n",
              "      <td>NaN</td>\n",
              "      <td>NaN</td>\n",
              "      <td>NaN</td>\n",
              "      <td>NaN</td>\n",
              "      <td>NaN</td>\n",
              "      <td>NaN</td>\n",
              "      <td>NaN</td>\n",
              "      <td>NaN</td>\n",
              "      <td>NaN</td>\n",
              "      <td>NaN</td>\n",
              "      <td>NaN</td>\n",
              "      <td>NaN</td>\n",
              "      <td>NaN</td>\n",
              "      <td>NaN</td>\n",
              "      <td>8</td>\n",
              "      <td>8</td>\n",
              "      <td>NaN</td>\n",
              "      <td>NaN</td>\n",
              "      <td>NaN</td>\n",
              "      <td>NaN</td>\n",
              "      <td>NaN</td>\n",
              "      <td>NaN</td>\n",
              "      <td>NaN</td>\n",
              "      <td>NaN</td>\n",
              "      <td>NaN</td>\n",
              "      <td>NaN</td>\n",
              "      <td>NaN</td>\n",
              "      <td>NaN</td>\n",
              "      <td>NaN</td>\n",
              "      <td>NaN</td>\n",
              "    </tr>\n",
              "    <tr>\n",
              "      <th>40</th>\n",
              "      <td>NaN</td>\n",
              "      <td>NaN</td>\n",
              "      <td>NaN</td>\n",
              "      <td>NaN</td>\n",
              "      <td>NaN</td>\n",
              "      <td>NaN</td>\n",
              "      <td>NaN</td>\n",
              "      <td>NaN</td>\n",
              "      <td>NaN</td>\n",
              "      <td>NaN</td>\n",
              "      <td>NaN</td>\n",
              "      <td>NaN</td>\n",
              "      <td>NaN</td>\n",
              "      <td>NaN</td>\n",
              "      <td>NaN</td>\n",
              "      <td>NaN</td>\n",
              "      <td>NaN</td>\n",
              "      <td>NaN</td>\n",
              "      <td>NaN</td>\n",
              "      <td>NaN</td>\n",
              "      <td>NaN</td>\n",
              "      <td>NaN</td>\n",
              "      <td>NaN</td>\n",
              "      <td>NaN</td>\n",
              "      <td>NaN</td>\n",
              "      <td>NaN</td>\n",
              "      <td>NaN</td>\n",
              "      <td>NaN</td>\n",
              "      <td>6</td>\n",
              "      <td>6</td>\n",
              "      <td>NaN</td>\n",
              "      <td>NaN</td>\n",
              "      <td>NaN</td>\n",
              "      <td>NaN</td>\n",
              "      <td>NaN</td>\n",
              "      <td>NaN</td>\n",
              "    </tr>\n",
              "    <tr>\n",
              "      <th>41</th>\n",
              "      <td>NaN</td>\n",
              "      <td>NaN</td>\n",
              "      <td>NaN</td>\n",
              "      <td>NaN</td>\n",
              "      <td>NaN</td>\n",
              "      <td>NaN</td>\n",
              "      <td>NaN</td>\n",
              "      <td>NaN</td>\n",
              "      <td>10</td>\n",
              "      <td>10</td>\n",
              "      <td>NaN</td>\n",
              "      <td>NaN</td>\n",
              "      <td>NaN</td>\n",
              "      <td>NaN</td>\n",
              "      <td>NaN</td>\n",
              "      <td>NaN</td>\n",
              "      <td>NaN</td>\n",
              "      <td>NaN</td>\n",
              "      <td>NaN</td>\n",
              "      <td>NaN</td>\n",
              "      <td>NaN</td>\n",
              "      <td>NaN</td>\n",
              "      <td>NaN</td>\n",
              "      <td>NaN</td>\n",
              "      <td>NaN</td>\n",
              "      <td>NaN</td>\n",
              "      <td>NaN</td>\n",
              "      <td>NaN</td>\n",
              "      <td>NaN</td>\n",
              "      <td>NaN</td>\n",
              "      <td>NaN</td>\n",
              "      <td>NaN</td>\n",
              "      <td>NaN</td>\n",
              "      <td>NaN</td>\n",
              "      <td>NaN</td>\n",
              "      <td>NaN</td>\n",
              "    </tr>\n",
              "    <tr>\n",
              "      <th>42</th>\n",
              "      <td>NaN</td>\n",
              "      <td>NaN</td>\n",
              "      <td>NaN</td>\n",
              "      <td>NaN</td>\n",
              "      <td>NaN</td>\n",
              "      <td>NaN</td>\n",
              "      <td>NaN</td>\n",
              "      <td>NaN</td>\n",
              "      <td>NaN</td>\n",
              "      <td>NaN</td>\n",
              "      <td>NaN</td>\n",
              "      <td>NaN</td>\n",
              "      <td>NaN</td>\n",
              "      <td>NaN</td>\n",
              "      <td>NaN</td>\n",
              "      <td>NaN</td>\n",
              "      <td>NaN</td>\n",
              "      <td>NaN</td>\n",
              "      <td>NaN</td>\n",
              "      <td>NaN</td>\n",
              "      <td>NaN</td>\n",
              "      <td>NaN</td>\n",
              "      <td>NaN</td>\n",
              "      <td>NaN</td>\n",
              "      <td>NaN</td>\n",
              "      <td>NaN</td>\n",
              "      <td>NaN</td>\n",
              "      <td>NaN</td>\n",
              "      <td>NaN</td>\n",
              "      <td>NaN</td>\n",
              "      <td>NaN</td>\n",
              "      <td>NaN</td>\n",
              "      <td>NaN</td>\n",
              "      <td>NaN</td>\n",
              "      <td>12</td>\n",
              "      <td>12</td>\n",
              "    </tr>\n",
              "    <tr>\n",
              "      <th>43</th>\n",
              "      <td>NaN</td>\n",
              "      <td>NaN</td>\n",
              "      <td>NaN</td>\n",
              "      <td>NaN</td>\n",
              "      <td>4</td>\n",
              "      <td>4</td>\n",
              "      <td>NaN</td>\n",
              "      <td>NaN</td>\n",
              "      <td>NaN</td>\n",
              "      <td>NaN</td>\n",
              "      <td>NaN</td>\n",
              "      <td>NaN</td>\n",
              "      <td>NaN</td>\n",
              "      <td>NaN</td>\n",
              "      <td>NaN</td>\n",
              "      <td>NaN</td>\n",
              "      <td>NaN</td>\n",
              "      <td>NaN</td>\n",
              "      <td>NaN</td>\n",
              "      <td>NaN</td>\n",
              "      <td>NaN</td>\n",
              "      <td>NaN</td>\n",
              "      <td>NaN</td>\n",
              "      <td>NaN</td>\n",
              "      <td>NaN</td>\n",
              "      <td>NaN</td>\n",
              "      <td>NaN</td>\n",
              "      <td>NaN</td>\n",
              "      <td>NaN</td>\n",
              "      <td>NaN</td>\n",
              "      <td>NaN</td>\n",
              "      <td>NaN</td>\n",
              "      <td>NaN</td>\n",
              "      <td>NaN</td>\n",
              "      <td>NaN</td>\n",
              "      <td>NaN</td>\n",
              "    </tr>\n",
              "  </tbody>\n",
              "</table>\n",
              "</div>"
            ],
            "text/plain": [
              "   Australia Unnamed: 3 Bangladesh  ... Unnamed: 35 Others Unnamed: 37\n",
              "39       NaN        NaN        NaN  ...         NaN    NaN         NaN\n",
              "40       NaN        NaN        NaN  ...         NaN    NaN         NaN\n",
              "41       NaN        NaN        NaN  ...         NaN    NaN         NaN\n",
              "42       NaN        NaN        NaN  ...         NaN     12          12\n",
              "43       NaN        NaN        NaN  ...         NaN    NaN         NaN\n",
              "\n",
              "[5 rows x 36 columns]"
            ]
          },
          "metadata": {
            "tags": []
          },
          "execution_count": 32
        }
      ]
    },
    {
      "cell_type": "code",
      "metadata": {
        "id": "vhgYlnVp7Ndc",
        "colab_type": "code",
        "outputId": "19f14da9-1cb8-4680-f54d-056e88095c14",
        "colab": {
          "base_uri": "https://localhost:8080/",
          "height": 110
        }
      },
      "source": [
        "kara_hotels2.head(2)"
      ],
      "execution_count": 33,
      "outputs": [
        {
          "output_type": "execute_result",
          "data": {
            "text/html": [
              "<div>\n",
              "<style scoped>\n",
              "    .dataframe tbody tr th:only-of-type {\n",
              "        vertical-align: middle;\n",
              "    }\n",
              "\n",
              "    .dataframe tbody tr th {\n",
              "        vertical-align: top;\n",
              "    }\n",
              "\n",
              "    .dataframe thead th {\n",
              "        text-align: right;\n",
              "    }\n",
              "</style>\n",
              "<table border=\"1\" class=\"dataframe\">\n",
              "  <thead>\n",
              "    <tr style=\"text-align: right;\">\n",
              "      <th></th>\n",
              "      <th>Unnamed: 1</th>\n",
              "    </tr>\n",
              "  </thead>\n",
              "  <tbody>\n",
              "    <tr>\n",
              "      <th>39</th>\n",
              "      <td>Royal Prince Lodge</td>\n",
              "    </tr>\n",
              "    <tr>\n",
              "      <th>40</th>\n",
              "      <td>Kumaran  Residency</td>\n",
              "    </tr>\n",
              "  </tbody>\n",
              "</table>\n",
              "</div>"
            ],
            "text/plain": [
              "            Unnamed: 1\n",
              "39  Royal Prince Lodge\n",
              "40  Kumaran  Residency"
            ]
          },
          "metadata": {
            "tags": []
          },
          "execution_count": 33
        }
      ]
    },
    {
      "cell_type": "code",
      "metadata": {
        "id": "yi7W1ocL7TDN",
        "colab_type": "code",
        "outputId": "ef353db0-ec0f-48fd-9dc9-62b8aa3f822e",
        "colab": {
          "base_uri": "https://localhost:8080/",
          "height": 195
        }
      },
      "source": [
        "coll2 = pd.MultiIndex.from_product([country,['Tourists','BNS']])\n",
        "pondy_df2.set_axis(coll2, axis = 1, inplace = True)\n",
        "pondy_df2.insert(0,'Hotels',pondi_hotels2,True)\n",
        "pondy_df2.reset_index(inplace = True, drop = True)\n",
        "pondy_df2.head(2)"
      ],
      "execution_count": 34,
      "outputs": [
        {
          "output_type": "execute_result",
          "data": {
            "text/html": [
              "<div>\n",
              "<style scoped>\n",
              "    .dataframe tbody tr th:only-of-type {\n",
              "        vertical-align: middle;\n",
              "    }\n",
              "\n",
              "    .dataframe tbody tr th {\n",
              "        vertical-align: top;\n",
              "    }\n",
              "\n",
              "    .dataframe thead tr th {\n",
              "        text-align: left;\n",
              "    }\n",
              "</style>\n",
              "<table border=\"1\" class=\"dataframe\">\n",
              "  <thead>\n",
              "    <tr>\n",
              "      <th></th>\n",
              "      <th>Hotels</th>\n",
              "      <th colspan=\"2\" halign=\"left\">Australia</th>\n",
              "      <th colspan=\"2\" halign=\"left\">Bangladesh</th>\n",
              "      <th colspan=\"2\" halign=\"left\">Canada</th>\n",
              "      <th colspan=\"2\" halign=\"left\">France</th>\n",
              "      <th colspan=\"2\" halign=\"left\">Germany</th>\n",
              "      <th colspan=\"2\" halign=\"left\">Iran</th>\n",
              "      <th colspan=\"2\" halign=\"left\">Italy</th>\n",
              "      <th colspan=\"2\" halign=\"left\">Japan</th>\n",
              "      <th colspan=\"2\" halign=\"left\">Malasiya</th>\n",
              "      <th colspan=\"2\" halign=\"left\">Pakistan</th>\n",
              "      <th colspan=\"2\" halign=\"left\">Singapore</th>\n",
              "      <th colspan=\"2\" halign=\"left\">Soudi Arabia</th>\n",
              "      <th colspan=\"2\" halign=\"left\">Sri Lanka</th>\n",
              "      <th colspan=\"2\" halign=\"left\">Swoz</th>\n",
              "      <th colspan=\"2\" halign=\"left\">UAE</th>\n",
              "      <th colspan=\"2\" halign=\"left\">UK</th>\n",
              "      <th colspan=\"2\" halign=\"left\">USA</th>\n",
              "      <th colspan=\"2\" halign=\"left\">Others</th>\n",
              "    </tr>\n",
              "    <tr>\n",
              "      <th></th>\n",
              "      <th></th>\n",
              "      <th>Tourists</th>\n",
              "      <th>BNS</th>\n",
              "      <th>Tourists</th>\n",
              "      <th>BNS</th>\n",
              "      <th>Tourists</th>\n",
              "      <th>BNS</th>\n",
              "      <th>Tourists</th>\n",
              "      <th>BNS</th>\n",
              "      <th>Tourists</th>\n",
              "      <th>BNS</th>\n",
              "      <th>Tourists</th>\n",
              "      <th>BNS</th>\n",
              "      <th>Tourists</th>\n",
              "      <th>BNS</th>\n",
              "      <th>Tourists</th>\n",
              "      <th>BNS</th>\n",
              "      <th>Tourists</th>\n",
              "      <th>BNS</th>\n",
              "      <th>Tourists</th>\n",
              "      <th>BNS</th>\n",
              "      <th>Tourists</th>\n",
              "      <th>BNS</th>\n",
              "      <th>Tourists</th>\n",
              "      <th>BNS</th>\n",
              "      <th>Tourists</th>\n",
              "      <th>BNS</th>\n",
              "      <th>Tourists</th>\n",
              "      <th>BNS</th>\n",
              "      <th>Tourists</th>\n",
              "      <th>BNS</th>\n",
              "      <th>Tourists</th>\n",
              "      <th>BNS</th>\n",
              "      <th>Tourists</th>\n",
              "      <th>BNS</th>\n",
              "      <th>Tourists</th>\n",
              "      <th>BNS</th>\n",
              "    </tr>\n",
              "  </thead>\n",
              "  <tbody>\n",
              "    <tr>\n",
              "      <th>0</th>\n",
              "      <td>A La Villa Geole</td>\n",
              "      <td>1</td>\n",
              "      <td>4</td>\n",
              "      <td>NaN</td>\n",
              "      <td>NaN</td>\n",
              "      <td>6</td>\n",
              "      <td>10</td>\n",
              "      <td>5</td>\n",
              "      <td>10</td>\n",
              "      <td>3</td>\n",
              "      <td>6</td>\n",
              "      <td>2</td>\n",
              "      <td>4</td>\n",
              "      <td>NaN</td>\n",
              "      <td>NaN</td>\n",
              "      <td>NaN</td>\n",
              "      <td>NaN</td>\n",
              "      <td>NaN</td>\n",
              "      <td>NaN</td>\n",
              "      <td>NaN</td>\n",
              "      <td>NaN</td>\n",
              "      <td>NaN</td>\n",
              "      <td>NaN</td>\n",
              "      <td>NaN</td>\n",
              "      <td>NaN</td>\n",
              "      <td>NaN</td>\n",
              "      <td>NaN</td>\n",
              "      <td>NaN</td>\n",
              "      <td>NaN</td>\n",
              "      <td>NaN</td>\n",
              "      <td>NaN</td>\n",
              "      <td>NaN</td>\n",
              "      <td>NaN</td>\n",
              "      <td>NaN</td>\n",
              "      <td>NaN</td>\n",
              "      <td>NaN</td>\n",
              "      <td>NaN</td>\n",
              "    </tr>\n",
              "    <tr>\n",
              "      <th>1</th>\n",
              "      <td>Abirami Residency</td>\n",
              "      <td>5</td>\n",
              "      <td>5</td>\n",
              "      <td>NaN</td>\n",
              "      <td>NaN</td>\n",
              "      <td>3</td>\n",
              "      <td>3</td>\n",
              "      <td>10</td>\n",
              "      <td>10</td>\n",
              "      <td>1</td>\n",
              "      <td>1</td>\n",
              "      <td>NaN</td>\n",
              "      <td>NaN</td>\n",
              "      <td>NaN</td>\n",
              "      <td>NaN</td>\n",
              "      <td>NaN</td>\n",
              "      <td>NaN</td>\n",
              "      <td>10</td>\n",
              "      <td>10</td>\n",
              "      <td>NaN</td>\n",
              "      <td>NaN</td>\n",
              "      <td>NaN</td>\n",
              "      <td>NaN</td>\n",
              "      <td>NaN</td>\n",
              "      <td>NaN</td>\n",
              "      <td>NaN</td>\n",
              "      <td>NaN</td>\n",
              "      <td>2</td>\n",
              "      <td>2</td>\n",
              "      <td>NaN</td>\n",
              "      <td>NaN</td>\n",
              "      <td>5</td>\n",
              "      <td>5</td>\n",
              "      <td>12</td>\n",
              "      <td>12</td>\n",
              "      <td>NaN</td>\n",
              "      <td>NaN</td>\n",
              "    </tr>\n",
              "  </tbody>\n",
              "</table>\n",
              "</div>"
            ],
            "text/plain": [
              "              Hotels Australia     Bangladesh  ...      USA        Others     \n",
              "                      Tourists BNS   Tourists  ... Tourists  BNS Tourists  BNS\n",
              "0   A La Villa Geole         1   4        NaN  ...      NaN  NaN      NaN  NaN\n",
              "1  Abirami Residency         5   5        NaN  ...       12   12      NaN  NaN\n",
              "\n",
              "[2 rows x 37 columns]"
            ]
          },
          "metadata": {
            "tags": []
          },
          "execution_count": 34
        }
      ]
    },
    {
      "cell_type": "code",
      "metadata": {
        "id": "-hg8OXbh7pzF",
        "colab_type": "code",
        "outputId": "e2e63761-fb0c-4241-94e1-df27a6a525ac",
        "colab": {
          "base_uri": "https://localhost:8080/",
          "height": 212
        }
      },
      "source": [
        "kara_df2.set_axis(coll2, axis = 1, inplace = True)\n",
        "kara_df2.insert(0,'Hotels',kara_hotels2,True)\n",
        "kara_df2.reset_index(inplace = True, drop = True)\n",
        "kara_df2.head(2)"
      ],
      "execution_count": 35,
      "outputs": [
        {
          "output_type": "execute_result",
          "data": {
            "text/html": [
              "<div>\n",
              "<style scoped>\n",
              "    .dataframe tbody tr th:only-of-type {\n",
              "        vertical-align: middle;\n",
              "    }\n",
              "\n",
              "    .dataframe tbody tr th {\n",
              "        vertical-align: top;\n",
              "    }\n",
              "\n",
              "    .dataframe thead tr th {\n",
              "        text-align: left;\n",
              "    }\n",
              "</style>\n",
              "<table border=\"1\" class=\"dataframe\">\n",
              "  <thead>\n",
              "    <tr>\n",
              "      <th></th>\n",
              "      <th>Hotels</th>\n",
              "      <th colspan=\"2\" halign=\"left\">Australia</th>\n",
              "      <th colspan=\"2\" halign=\"left\">Bangladesh</th>\n",
              "      <th colspan=\"2\" halign=\"left\">Canada</th>\n",
              "      <th colspan=\"2\" halign=\"left\">France</th>\n",
              "      <th colspan=\"2\" halign=\"left\">Germany</th>\n",
              "      <th colspan=\"2\" halign=\"left\">Iran</th>\n",
              "      <th colspan=\"2\" halign=\"left\">Italy</th>\n",
              "      <th colspan=\"2\" halign=\"left\">Japan</th>\n",
              "      <th colspan=\"2\" halign=\"left\">Malasiya</th>\n",
              "      <th colspan=\"2\" halign=\"left\">Pakistan</th>\n",
              "      <th colspan=\"2\" halign=\"left\">Singapore</th>\n",
              "      <th colspan=\"2\" halign=\"left\">Soudi Arabia</th>\n",
              "      <th colspan=\"2\" halign=\"left\">Sri Lanka</th>\n",
              "      <th colspan=\"2\" halign=\"left\">Swoz</th>\n",
              "      <th colspan=\"2\" halign=\"left\">UAE</th>\n",
              "      <th colspan=\"2\" halign=\"left\">UK</th>\n",
              "      <th colspan=\"2\" halign=\"left\">USA</th>\n",
              "      <th colspan=\"2\" halign=\"left\">Others</th>\n",
              "    </tr>\n",
              "    <tr>\n",
              "      <th></th>\n",
              "      <th></th>\n",
              "      <th>Tourists</th>\n",
              "      <th>BNS</th>\n",
              "      <th>Tourists</th>\n",
              "      <th>BNS</th>\n",
              "      <th>Tourists</th>\n",
              "      <th>BNS</th>\n",
              "      <th>Tourists</th>\n",
              "      <th>BNS</th>\n",
              "      <th>Tourists</th>\n",
              "      <th>BNS</th>\n",
              "      <th>Tourists</th>\n",
              "      <th>BNS</th>\n",
              "      <th>Tourists</th>\n",
              "      <th>BNS</th>\n",
              "      <th>Tourists</th>\n",
              "      <th>BNS</th>\n",
              "      <th>Tourists</th>\n",
              "      <th>BNS</th>\n",
              "      <th>Tourists</th>\n",
              "      <th>BNS</th>\n",
              "      <th>Tourists</th>\n",
              "      <th>BNS</th>\n",
              "      <th>Tourists</th>\n",
              "      <th>BNS</th>\n",
              "      <th>Tourists</th>\n",
              "      <th>BNS</th>\n",
              "      <th>Tourists</th>\n",
              "      <th>BNS</th>\n",
              "      <th>Tourists</th>\n",
              "      <th>BNS</th>\n",
              "      <th>Tourists</th>\n",
              "      <th>BNS</th>\n",
              "      <th>Tourists</th>\n",
              "      <th>BNS</th>\n",
              "      <th>Tourists</th>\n",
              "      <th>BNS</th>\n",
              "    </tr>\n",
              "  </thead>\n",
              "  <tbody>\n",
              "    <tr>\n",
              "      <th>0</th>\n",
              "      <td>Royal Prince Lodge</td>\n",
              "      <td>NaN</td>\n",
              "      <td>NaN</td>\n",
              "      <td>NaN</td>\n",
              "      <td>NaN</td>\n",
              "      <td>NaN</td>\n",
              "      <td>NaN</td>\n",
              "      <td>NaN</td>\n",
              "      <td>NaN</td>\n",
              "      <td>NaN</td>\n",
              "      <td>NaN</td>\n",
              "      <td>NaN</td>\n",
              "      <td>NaN</td>\n",
              "      <td>NaN</td>\n",
              "      <td>NaN</td>\n",
              "      <td>NaN</td>\n",
              "      <td>NaN</td>\n",
              "      <td>NaN</td>\n",
              "      <td>NaN</td>\n",
              "      <td>NaN</td>\n",
              "      <td>NaN</td>\n",
              "      <td>8</td>\n",
              "      <td>8</td>\n",
              "      <td>NaN</td>\n",
              "      <td>NaN</td>\n",
              "      <td>NaN</td>\n",
              "      <td>NaN</td>\n",
              "      <td>NaN</td>\n",
              "      <td>NaN</td>\n",
              "      <td>NaN</td>\n",
              "      <td>NaN</td>\n",
              "      <td>NaN</td>\n",
              "      <td>NaN</td>\n",
              "      <td>NaN</td>\n",
              "      <td>NaN</td>\n",
              "      <td>NaN</td>\n",
              "      <td>NaN</td>\n",
              "    </tr>\n",
              "    <tr>\n",
              "      <th>1</th>\n",
              "      <td>Kumaran  Residency</td>\n",
              "      <td>NaN</td>\n",
              "      <td>NaN</td>\n",
              "      <td>NaN</td>\n",
              "      <td>NaN</td>\n",
              "      <td>NaN</td>\n",
              "      <td>NaN</td>\n",
              "      <td>NaN</td>\n",
              "      <td>NaN</td>\n",
              "      <td>NaN</td>\n",
              "      <td>NaN</td>\n",
              "      <td>NaN</td>\n",
              "      <td>NaN</td>\n",
              "      <td>NaN</td>\n",
              "      <td>NaN</td>\n",
              "      <td>NaN</td>\n",
              "      <td>NaN</td>\n",
              "      <td>NaN</td>\n",
              "      <td>NaN</td>\n",
              "      <td>NaN</td>\n",
              "      <td>NaN</td>\n",
              "      <td>NaN</td>\n",
              "      <td>NaN</td>\n",
              "      <td>NaN</td>\n",
              "      <td>NaN</td>\n",
              "      <td>NaN</td>\n",
              "      <td>NaN</td>\n",
              "      <td>NaN</td>\n",
              "      <td>NaN</td>\n",
              "      <td>6</td>\n",
              "      <td>6</td>\n",
              "      <td>NaN</td>\n",
              "      <td>NaN</td>\n",
              "      <td>NaN</td>\n",
              "      <td>NaN</td>\n",
              "      <td>NaN</td>\n",
              "      <td>NaN</td>\n",
              "    </tr>\n",
              "  </tbody>\n",
              "</table>\n",
              "</div>"
            ],
            "text/plain": [
              "               Hotels Australia      Bangladesh  ...      USA        Others     \n",
              "                       Tourists  BNS   Tourists  ... Tourists  BNS Tourists  BNS\n",
              "0  Royal Prince Lodge       NaN  NaN        NaN  ...      NaN  NaN      NaN  NaN\n",
              "1  Kumaran  Residency       NaN  NaN        NaN  ...      NaN  NaN      NaN  NaN\n",
              "\n",
              "[2 rows x 37 columns]"
            ]
          },
          "metadata": {
            "tags": []
          },
          "execution_count": 35
        }
      ]
    },
    {
      "cell_type": "code",
      "metadata": {
        "id": "5f9ESFEW7y6d",
        "colab_type": "code",
        "outputId": "2c977e3d-864d-4afd-c681-09e540b09784",
        "colab": {
          "base_uri": "https://localhost:8080/",
          "height": 34
        }
      },
      "source": [
        "pondy_df2.shape"
      ],
      "execution_count": 36,
      "outputs": [
        {
          "output_type": "execute_result",
          "data": {
            "text/plain": [
              "(33, 37)"
            ]
          },
          "metadata": {
            "tags": []
          },
          "execution_count": 36
        }
      ]
    },
    {
      "cell_type": "code",
      "metadata": {
        "id": "bgwM0k7F76Jy",
        "colab_type": "code",
        "outputId": "f9614aa8-571c-478c-8c6f-2b6a8dc16ce1",
        "colab": {
          "base_uri": "https://localhost:8080/",
          "height": 34
        }
      },
      "source": [
        "kara_df2.shape"
      ],
      "execution_count": 37,
      "outputs": [
        {
          "output_type": "execute_result",
          "data": {
            "text/plain": [
              "(6, 37)"
            ]
          },
          "metadata": {
            "tags": []
          },
          "execution_count": 37
        }
      ]
    },
    {
      "cell_type": "markdown",
      "metadata": {
        "id": "u7tj6HN98xgc",
        "colab_type": "text"
      },
      "source": [
        "**DF_3 preparation**"
      ]
    },
    {
      "cell_type": "code",
      "metadata": {
        "id": "zPLwsKya84MJ",
        "colab_type": "code",
        "outputId": "6f2d819d-7aac-4f67-d449-fd58de5c84a3",
        "colab": {
          "base_uri": "https://localhost:8080/",
          "height": 175
        }
      },
      "source": [
        "df3.columns"
      ],
      "execution_count": 38,
      "outputs": [
        {
          "output_type": "execute_result",
          "data": {
            "text/plain": [
              "Index(['Unnamed: 0', 'Unnamed: 1', 'Australia', 'Unnamed: 3', 'Bangladesh',\n",
              "       'Unnamed: 5', 'Canada', 'Unnamed: 7', 'France', 'Unnamed: 9', 'Germany',\n",
              "       'Unnamed: 11', 'Iran', 'Unnamed: 13', 'Italy', 'Unnamed: 15', 'Japan',\n",
              "       'Unnamed: 17', 'Malasiya', 'Unnamed: 19', 'Pakistan', 'Unnamed: 21',\n",
              "       'Singapore', 'Unnamed: 23', 'Soudi Arabia', 'Unnamed: 25', 'Sri Lanka',\n",
              "       'Unnamed: 27', 'Swoz', 'Unnamed: 29', 'UAE', 'Unnamed: 31', 'UK',\n",
              "       'Unnamed: 33', 'USA', 'Unnamed: 35', 'Others', 'Unnamed: 37',\n",
              "       'GRAND TOTAL', 'Unnamed: 39', 'Unnamed: 40', 'Unnamed: 41'],\n",
              "      dtype='object')"
            ]
          },
          "metadata": {
            "tags": []
          },
          "execution_count": 38
        }
      ]
    },
    {
      "cell_type": "code",
      "metadata": {
        "id": "RVGIa0Ro8-Ra",
        "colab_type": "code",
        "outputId": "8ae071e2-8332-40d5-c35c-eb86545e8be8",
        "colab": {
          "base_uri": "https://localhost:8080/",
          "height": 34
        }
      },
      "source": [
        "df3.shape"
      ],
      "execution_count": 39,
      "outputs": [
        {
          "output_type": "execute_result",
          "data": {
            "text/plain": [
              "(243, 42)"
            ]
          },
          "metadata": {
            "tags": []
          },
          "execution_count": 39
        }
      ]
    },
    {
      "cell_type": "code",
      "metadata": {
        "id": "YikQUuYB9LiN",
        "colab_type": "code",
        "colab": {}
      },
      "source": [
        "df3.drop([ 'Unnamed: 40', 'Unnamed: 41'], axis = 1,inplace = True)"
      ],
      "execution_count": 0,
      "outputs": []
    },
    {
      "cell_type": "code",
      "metadata": {
        "id": "uv8jGez99WBt",
        "colab_type": "code",
        "outputId": "9c2ef0d6-8c3c-48b4-ecf0-8c730b1e72df",
        "colab": {
          "base_uri": "https://localhost:8080/",
          "height": 54
        }
      },
      "source": [
        "dropper2 = []# selects those rows which should be dropped ; iloc[no of columns][no of rows]\n",
        "for i in range(len(df3)):\n",
        "    if df3.iloc(1)[38:39][i:1+i].values[0][0] == 0 or not pd.notna(df3.iloc(1)[38:39][i:1+i].values[0][0]):\n",
        "        #print(df3_2.iloc(1)[38:39][i:1+i].values[0][0])\n",
        "        if df3.iloc(1)[39:40][i:1+i].values[0][0] == 0 or not pd.notna(df3.iloc(1)[39:40][i:1+i].values[0][0]):\n",
        "            dropper2.append(i)\n",
        "print(dropper2)"
      ],
      "execution_count": 41,
      "outputs": [
        {
          "output_type": "stream",
          "text": [
            "[1, 2, 3, 4, 5, 7, 9, 11, 12, 13, 14, 15, 16, 18, 20, 21, 22, 24, 25, 26, 27, 28, 29, 30, 31, 32, 33, 34, 35, 36, 37, 38, 39, 41, 45, 47, 48, 49, 50, 51, 52, 53, 54, 55, 56, 57, 58, 59, 60, 61, 62, 64, 65, 66, 67, 68, 69, 70, 72, 73, 74, 75, 76, 77, 78, 79, 80, 81, 82, 83, 84, 85, 86, 89, 90, 91, 92, 93, 94, 95, 96, 97, 98, 99, 100, 101, 102, 107, 108, 109, 110, 111, 112, 113, 114, 115, 116, 117, 119, 120, 121, 122, 124, 125, 126, 127, 128, 129, 130, 131, 132, 133, 134, 136, 137, 138, 139, 140, 141, 142, 144, 145, 146, 148, 149, 150, 151, 152, 153, 154, 155, 156, 158, 159, 160, 161, 162, 163, 165, 166, 167, 168, 169, 170, 173, 175, 179, 180, 181, 182, 183, 184, 186, 188, 189, 190, 192, 193, 194, 196, 197, 199, 200, 201, 202, 203, 204, 205, 207, 208, 209, 210, 211, 212, 213, 215, 220, 221, 222, 224, 225, 226, 227, 228, 229, 230, 231, 233, 234, 235, 236, 237]\n"
          ],
          "name": "stdout"
        }
      ]
    },
    {
      "cell_type": "code",
      "metadata": {
        "id": "ztncTzT29_wg",
        "colab_type": "code",
        "outputId": "b744514c-e500-4924-d2fb-d9ee2eb87f24",
        "colab": {
          "base_uri": "https://localhost:8080/",
          "height": 34
        }
      },
      "source": [
        "df3.drop(df3.index[dropper2],axis = 0, inplace = True)\n",
        "df3.reset_index(inplace = True, drop = True)\n",
        "df3.shape"
      ],
      "execution_count": 42,
      "outputs": [
        {
          "output_type": "execute_result",
          "data": {
            "text/plain": [
              "(51, 40)"
            ]
          },
          "metadata": {
            "tags": []
          },
          "execution_count": 42
        }
      ]
    },
    {
      "cell_type": "code",
      "metadata": {
        "id": "YLPqRGP9-Sup",
        "colab_type": "code",
        "outputId": "5393fa0d-17b0-440f-b9f8-617638a9708e",
        "colab": {
          "base_uri": "https://localhost:8080/",
          "height": 198
        }
      },
      "source": [
        "pondi_df3 = df3.iloc(1)[:][:1+df3[df3['Unnamed: 1'] == 'Lily Pool, Poornankuppam'].index[0]]\n",
        "pondi_df3.head(2)"
      ],
      "execution_count": 43,
      "outputs": [
        {
          "output_type": "execute_result",
          "data": {
            "text/html": [
              "<div>\n",
              "<style scoped>\n",
              "    .dataframe tbody tr th:only-of-type {\n",
              "        vertical-align: middle;\n",
              "    }\n",
              "\n",
              "    .dataframe tbody tr th {\n",
              "        vertical-align: top;\n",
              "    }\n",
              "\n",
              "    .dataframe thead th {\n",
              "        text-align: right;\n",
              "    }\n",
              "</style>\n",
              "<table border=\"1\" class=\"dataframe\">\n",
              "  <thead>\n",
              "    <tr style=\"text-align: right;\">\n",
              "      <th></th>\n",
              "      <th>Unnamed: 0</th>\n",
              "      <th>Unnamed: 1</th>\n",
              "      <th>Australia</th>\n",
              "      <th>Unnamed: 3</th>\n",
              "      <th>Bangladesh</th>\n",
              "      <th>Unnamed: 5</th>\n",
              "      <th>Canada</th>\n",
              "      <th>Unnamed: 7</th>\n",
              "      <th>France</th>\n",
              "      <th>Unnamed: 9</th>\n",
              "      <th>Germany</th>\n",
              "      <th>Unnamed: 11</th>\n",
              "      <th>Iran</th>\n",
              "      <th>Unnamed: 13</th>\n",
              "      <th>Italy</th>\n",
              "      <th>Unnamed: 15</th>\n",
              "      <th>Japan</th>\n",
              "      <th>Unnamed: 17</th>\n",
              "      <th>Malasiya</th>\n",
              "      <th>Unnamed: 19</th>\n",
              "      <th>Pakistan</th>\n",
              "      <th>Unnamed: 21</th>\n",
              "      <th>Singapore</th>\n",
              "      <th>Unnamed: 23</th>\n",
              "      <th>Soudi Arabia</th>\n",
              "      <th>Unnamed: 25</th>\n",
              "      <th>Sri Lanka</th>\n",
              "      <th>Unnamed: 27</th>\n",
              "      <th>Swoz</th>\n",
              "      <th>Unnamed: 29</th>\n",
              "      <th>UAE</th>\n",
              "      <th>Unnamed: 31</th>\n",
              "      <th>UK</th>\n",
              "      <th>Unnamed: 33</th>\n",
              "      <th>USA</th>\n",
              "      <th>Unnamed: 35</th>\n",
              "      <th>Others</th>\n",
              "      <th>Unnamed: 37</th>\n",
              "      <th>GRAND TOTAL</th>\n",
              "      <th>Unnamed: 39</th>\n",
              "    </tr>\n",
              "  </thead>\n",
              "  <tbody>\n",
              "    <tr>\n",
              "      <th>0</th>\n",
              "      <td>Sl.No.</td>\n",
              "      <td>Name of the Hotels</td>\n",
              "      <td>Nos</td>\n",
              "      <td>BNS</td>\n",
              "      <td>Nos</td>\n",
              "      <td>BNS</td>\n",
              "      <td>Nos</td>\n",
              "      <td>BNS</td>\n",
              "      <td>Nos</td>\n",
              "      <td>BNS</td>\n",
              "      <td>Nos</td>\n",
              "      <td>BNS</td>\n",
              "      <td>Nos</td>\n",
              "      <td>BNS</td>\n",
              "      <td>Nos</td>\n",
              "      <td>BNS</td>\n",
              "      <td>Nos</td>\n",
              "      <td>BNS</td>\n",
              "      <td>Nos</td>\n",
              "      <td>BNS</td>\n",
              "      <td>Nos</td>\n",
              "      <td>BNS</td>\n",
              "      <td>Nos</td>\n",
              "      <td>BNS</td>\n",
              "      <td>Nos</td>\n",
              "      <td>BNS</td>\n",
              "      <td>Nos</td>\n",
              "      <td>BNS</td>\n",
              "      <td>Nos</td>\n",
              "      <td>BNS</td>\n",
              "      <td>Nos</td>\n",
              "      <td>BNS</td>\n",
              "      <td>Nos</td>\n",
              "      <td>BNS</td>\n",
              "      <td>Nos</td>\n",
              "      <td>BNS</td>\n",
              "      <td>Nos</td>\n",
              "      <td>BNS</td>\n",
              "      <td>NOS</td>\n",
              "      <td>BNS</td>\n",
              "    </tr>\n",
              "    <tr>\n",
              "      <th>1</th>\n",
              "      <td>5</td>\n",
              "      <td>A La Villa Geole</td>\n",
              "      <td>NaN</td>\n",
              "      <td>NaN</td>\n",
              "      <td>NaN</td>\n",
              "      <td>NaN</td>\n",
              "      <td>NaN</td>\n",
              "      <td>NaN</td>\n",
              "      <td>7</td>\n",
              "      <td>10</td>\n",
              "      <td>1</td>\n",
              "      <td>1</td>\n",
              "      <td>NaN</td>\n",
              "      <td>NaN</td>\n",
              "      <td>NaN</td>\n",
              "      <td>NaN</td>\n",
              "      <td>NaN</td>\n",
              "      <td>NaN</td>\n",
              "      <td>NaN</td>\n",
              "      <td>NaN</td>\n",
              "      <td>NaN</td>\n",
              "      <td>NaN</td>\n",
              "      <td>NaN</td>\n",
              "      <td>NaN</td>\n",
              "      <td>NaN</td>\n",
              "      <td>NaN</td>\n",
              "      <td>NaN</td>\n",
              "      <td>NaN</td>\n",
              "      <td>NaN</td>\n",
              "      <td>NaN</td>\n",
              "      <td>NaN</td>\n",
              "      <td>NaN</td>\n",
              "      <td>NaN</td>\n",
              "      <td>NaN</td>\n",
              "      <td>NaN</td>\n",
              "      <td>NaN</td>\n",
              "      <td>NaN</td>\n",
              "      <td>NaN</td>\n",
              "      <td>8</td>\n",
              "      <td>11</td>\n",
              "    </tr>\n",
              "  </tbody>\n",
              "</table>\n",
              "</div>"
            ],
            "text/plain": [
              "  Unnamed: 0          Unnamed: 1 Australia  ... Unnamed: 37 GRAND TOTAL Unnamed: 39\n",
              "0     Sl.No.  Name of the Hotels       Nos  ...         BNS         NOS         BNS\n",
              "1          5    A La Villa Geole       NaN  ...         NaN           8          11\n",
              "\n",
              "[2 rows x 40 columns]"
            ]
          },
          "metadata": {
            "tags": []
          },
          "execution_count": 43
        }
      ]
    },
    {
      "cell_type": "code",
      "metadata": {
        "id": "9wyLc5Au-0dX",
        "colab_type": "code",
        "outputId": "ff111897-aa4f-4cda-c40f-7ab27d83b8e7",
        "colab": {
          "base_uri": "https://localhost:8080/",
          "height": 34
        }
      },
      "source": [
        "pondi_df3.shape"
      ],
      "execution_count": 44,
      "outputs": [
        {
          "output_type": "execute_result",
          "data": {
            "text/plain": [
              "(36, 40)"
            ]
          },
          "metadata": {
            "tags": []
          },
          "execution_count": 44
        }
      ]
    },
    {
      "cell_type": "code",
      "metadata": {
        "id": "P7pXCG6a--Hn",
        "colab_type": "code",
        "outputId": "bf3c6909-c89f-4b42-d0a8-c848b7d11989",
        "colab": {
          "base_uri": "https://localhost:8080/",
          "height": 34
        }
      },
      "source": [
        "karaikal_df3 = df3.iloc[:][36:42]\n",
        "karaikal_df3.shape"
      ],
      "execution_count": 45,
      "outputs": [
        {
          "output_type": "execute_result",
          "data": {
            "text/plain": [
              "(6, 40)"
            ]
          },
          "metadata": {
            "tags": []
          },
          "execution_count": 45
        }
      ]
    },
    {
      "cell_type": "code",
      "metadata": {
        "id": "P30ZtHHB_Wcr",
        "colab_type": "code",
        "outputId": "fc41edff-7080-49e5-a398-49799a6ec0fa",
        "colab": {
          "base_uri": "https://localhost:8080/",
          "height": 203
        }
      },
      "source": [
        "pondy_df3 = pondi_df3.iloc(1)[3:39][2:] # selecting the hotels in pondi\n",
        "pondi_hotels3 = pondi_df3.iloc(1)[1:2][2:]# .iloc(1)[columns][rows] \n",
        "pondi_hotels3.head()"
      ],
      "execution_count": 46,
      "outputs": [
        {
          "output_type": "execute_result",
          "data": {
            "text/html": [
              "<div>\n",
              "<style scoped>\n",
              "    .dataframe tbody tr th:only-of-type {\n",
              "        vertical-align: middle;\n",
              "    }\n",
              "\n",
              "    .dataframe tbody tr th {\n",
              "        vertical-align: top;\n",
              "    }\n",
              "\n",
              "    .dataframe thead th {\n",
              "        text-align: right;\n",
              "    }\n",
              "</style>\n",
              "<table border=\"1\" class=\"dataframe\">\n",
              "  <thead>\n",
              "    <tr style=\"text-align: right;\">\n",
              "      <th></th>\n",
              "      <th>Unnamed: 1</th>\n",
              "    </tr>\n",
              "  </thead>\n",
              "  <tbody>\n",
              "    <tr>\n",
              "      <th>2</th>\n",
              "      <td>Abirami Residency</td>\n",
              "    </tr>\n",
              "    <tr>\n",
              "      <th>3</th>\n",
              "      <td>Ajantha Beach Guest House</td>\n",
              "    </tr>\n",
              "    <tr>\n",
              "      <th>4</th>\n",
              "      <td>Annai Residence</td>\n",
              "    </tr>\n",
              "    <tr>\n",
              "      <th>5</th>\n",
              "      <td>Annamalai International</td>\n",
              "    </tr>\n",
              "    <tr>\n",
              "      <th>6</th>\n",
              "      <td>Athithi Aikten/ Hotel Atithi</td>\n",
              "    </tr>\n",
              "  </tbody>\n",
              "</table>\n",
              "</div>"
            ],
            "text/plain": [
              "                     Unnamed: 1\n",
              "2             Abirami Residency\n",
              "3     Ajantha Beach Guest House\n",
              "4               Annai Residence\n",
              "5       Annamalai International\n",
              "6  Athithi Aikten/ Hotel Atithi"
            ]
          },
          "metadata": {
            "tags": []
          },
          "execution_count": 46
        }
      ]
    },
    {
      "cell_type": "code",
      "metadata": {
        "id": "xdE5BBWGAkOG",
        "colab_type": "code",
        "outputId": "aa30ae0d-83b8-40fc-d986-26c5af28c821",
        "colab": {
          "base_uri": "https://localhost:8080/",
          "height": 34
        }
      },
      "source": [
        "pondy_df3.shape"
      ],
      "execution_count": 47,
      "outputs": [
        {
          "output_type": "execute_result",
          "data": {
            "text/plain": [
              "(34, 36)"
            ]
          },
          "metadata": {
            "tags": []
          },
          "execution_count": 47
        }
      ]
    },
    {
      "cell_type": "code",
      "metadata": {
        "id": "cP4X545EAnJh",
        "colab_type": "code",
        "outputId": "a575099a-2db3-4aa8-f2c8-79017cafec3f",
        "colab": {
          "base_uri": "https://localhost:8080/",
          "height": 34
        }
      },
      "source": [
        "kara_df3 = karaikal_df3.iloc(1)[3:39][:]# .iloc(1)[columns][rows] \n",
        "kara_hotels3 = karaikal_df3.iloc(1)[2:3][:]# selecting the hotels in karaikal\n",
        "kara_df3.shape"
      ],
      "execution_count": 48,
      "outputs": [
        {
          "output_type": "execute_result",
          "data": {
            "text/plain": [
              "(6, 36)"
            ]
          },
          "metadata": {
            "tags": []
          },
          "execution_count": 48
        }
      ]
    },
    {
      "cell_type": "code",
      "metadata": {
        "id": "-rDwbpSBBTit",
        "colab_type": "code",
        "outputId": "7312d804-a88f-455a-fa19-ba5af2367297",
        "colab": {
          "base_uri": "https://localhost:8080/",
          "height": 203
        }
      },
      "source": [
        "kara_hotels3.head()"
      ],
      "execution_count": 49,
      "outputs": [
        {
          "output_type": "execute_result",
          "data": {
            "text/html": [
              "<div>\n",
              "<style scoped>\n",
              "    .dataframe tbody tr th:only-of-type {\n",
              "        vertical-align: middle;\n",
              "    }\n",
              "\n",
              "    .dataframe tbody tr th {\n",
              "        vertical-align: top;\n",
              "    }\n",
              "\n",
              "    .dataframe thead th {\n",
              "        text-align: right;\n",
              "    }\n",
              "</style>\n",
              "<table border=\"1\" class=\"dataframe\">\n",
              "  <thead>\n",
              "    <tr style=\"text-align: right;\">\n",
              "      <th></th>\n",
              "      <th>Australia</th>\n",
              "    </tr>\n",
              "  </thead>\n",
              "  <tbody>\n",
              "    <tr>\n",
              "      <th>36</th>\n",
              "      <td>117</td>\n",
              "    </tr>\n",
              "    <tr>\n",
              "      <th>37</th>\n",
              "      <td>NaN</td>\n",
              "    </tr>\n",
              "    <tr>\n",
              "      <th>38</th>\n",
              "      <td>NaN</td>\n",
              "    </tr>\n",
              "    <tr>\n",
              "      <th>39</th>\n",
              "      <td>NaN</td>\n",
              "    </tr>\n",
              "    <tr>\n",
              "      <th>40</th>\n",
              "      <td>NaN</td>\n",
              "    </tr>\n",
              "  </tbody>\n",
              "</table>\n",
              "</div>"
            ],
            "text/plain": [
              "   Australia\n",
              "36       117\n",
              "37       NaN\n",
              "38       NaN\n",
              "39       NaN\n",
              "40       NaN"
            ]
          },
          "metadata": {
            "tags": []
          },
          "execution_count": 49
        }
      ]
    },
    {
      "cell_type": "code",
      "metadata": {
        "id": "QGaXkoYFBcMo",
        "colab_type": "code",
        "outputId": "e27d0a12-e637-4134-8619-253de190ce97",
        "colab": {
          "base_uri": "https://localhost:8080/",
          "height": 686
        }
      },
      "source": [
        "coll3 = pd.MultiIndex.from_product([country,['Tourists','BNS']])\n",
        "#print(len(coll3))\n",
        "pondy_df3.set_axis(coll3, axis = 1, inplace = True)\n",
        "pondy_df3.insert(0,'Hotels',pondi_hotels3,True)\n",
        "pondy_df3.reset_index(inplace = True, drop = True)\n",
        "pondy_df3.columns"
      ],
      "execution_count": 50,
      "outputs": [
        {
          "output_type": "execute_result",
          "data": {
            "text/plain": [
              "MultiIndex([(      'Hotels',         ''),\n",
              "            (   'Australia', 'Tourists'),\n",
              "            (   'Australia',      'BNS'),\n",
              "            (  'Bangladesh', 'Tourists'),\n",
              "            (  'Bangladesh',      'BNS'),\n",
              "            (      'Canada', 'Tourists'),\n",
              "            (      'Canada',      'BNS'),\n",
              "            (      'France', 'Tourists'),\n",
              "            (      'France',      'BNS'),\n",
              "            (     'Germany', 'Tourists'),\n",
              "            (     'Germany',      'BNS'),\n",
              "            (        'Iran', 'Tourists'),\n",
              "            (        'Iran',      'BNS'),\n",
              "            (       'Italy', 'Tourists'),\n",
              "            (       'Italy',      'BNS'),\n",
              "            (       'Japan', 'Tourists'),\n",
              "            (       'Japan',      'BNS'),\n",
              "            (    'Malasiya', 'Tourists'),\n",
              "            (    'Malasiya',      'BNS'),\n",
              "            (    'Pakistan', 'Tourists'),\n",
              "            (    'Pakistan',      'BNS'),\n",
              "            (   'Singapore', 'Tourists'),\n",
              "            (   'Singapore',      'BNS'),\n",
              "            ('Soudi Arabia', 'Tourists'),\n",
              "            ('Soudi Arabia',      'BNS'),\n",
              "            (   'Sri Lanka', 'Tourists'),\n",
              "            (   'Sri Lanka',      'BNS'),\n",
              "            (        'Swoz', 'Tourists'),\n",
              "            (        'Swoz',      'BNS'),\n",
              "            (         'UAE', 'Tourists'),\n",
              "            (         'UAE',      'BNS'),\n",
              "            (          'UK', 'Tourists'),\n",
              "            (          'UK',      'BNS'),\n",
              "            (         'USA', 'Tourists'),\n",
              "            (         'USA',      'BNS'),\n",
              "            (      'Others', 'Tourists'),\n",
              "            (      'Others',      'BNS')],\n",
              "           )"
            ]
          },
          "metadata": {
            "tags": []
          },
          "execution_count": 50
        }
      ]
    },
    {
      "cell_type": "code",
      "metadata": {
        "id": "6N_cyploBnFH",
        "colab_type": "code",
        "outputId": "0a18d30b-9fa0-4192-93d9-fba91a8ad84f",
        "colab": {
          "base_uri": "https://localhost:8080/",
          "height": 34
        }
      },
      "source": [
        "kara_df3.set_axis(coll3, axis = 1, inplace = True)\n",
        "kara_df3.insert(0,'Hotels',kara_hotels3,True)\n",
        "kara_df3.reset_index(inplace = True, drop = True)\n",
        "kara_df3.shape"
      ],
      "execution_count": 51,
      "outputs": [
        {
          "output_type": "execute_result",
          "data": {
            "text/plain": [
              "(6, 37)"
            ]
          },
          "metadata": {
            "tags": []
          },
          "execution_count": 51
        }
      ]
    },
    {
      "cell_type": "code",
      "metadata": {
        "id": "UnCU0Y0UBypg",
        "colab_type": "code",
        "outputId": "0251094f-c3ba-43f1-c1e1-cd47b651379d",
        "colab": {
          "base_uri": "https://localhost:8080/",
          "height": 34
        }
      },
      "source": [
        "pondy_df3.shape"
      ],
      "execution_count": 52,
      "outputs": [
        {
          "output_type": "execute_result",
          "data": {
            "text/plain": [
              "(34, 37)"
            ]
          },
          "metadata": {
            "tags": []
          },
          "execution_count": 52
        }
      ]
    },
    {
      "cell_type": "code",
      "metadata": {
        "id": "w5KDBrdHCBfu",
        "colab_type": "code",
        "colab": {}
      },
      "source": [
        "nation  = pd.DataFrame(country)\n",
        "pondi.to_pickle('pondi_df1.pkl')\n",
        "karaikal.to_pickle('karaikal_df1.pkl')\n",
        "pondy_df2.to_pickle('pondi_df2.pkl')\n",
        "kara_df2.to_pickle('karaikal_df2.pkl')\n",
        "nation.to_pickle('nation_df.pkl')\n",
        "pondy_df3.to_pickle('pondi_df3.pkl')\n",
        "kara_df3.to_pickle('karaikal_df3.pkl')"
      ],
      "execution_count": 0,
      "outputs": []
    },
    {
      "cell_type": "code",
      "metadata": {
        "id": "8BdG7WevfUI5",
        "colab_type": "code",
        "colab": {}
      },
      "source": [
        ""
      ],
      "execution_count": 0,
      "outputs": []
    }
  ]
}